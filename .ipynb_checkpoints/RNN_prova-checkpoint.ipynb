{
 "cells": [
  {
   "cell_type": "code",
   "execution_count": 2,
   "id": "3de7b1b5",
   "metadata": {},
   "outputs": [],
   "source": [
    "import numpy as np\n",
    "import pandas as pd\n",
    "import tensorflow as tf\n",
    "from tensorflow import keras\n",
    "import seaborn as sn\n",
    "import matplotlib.pyplot as plt"
   ]
  },
  {
   "cell_type": "code",
   "execution_count": 3,
   "id": "c961b2ab",
   "metadata": {},
   "outputs": [
    {
     "data": {
      "text/plain": [
       "(1000, 38400)"
      ]
     },
     "execution_count": 3,
     "metadata": {},
     "output_type": "execute_result"
    }
   ],
   "source": [
    "X_data = np.loadtxt(\"data/X_data.csv\", delimiter=\",\")\n",
    "X_data.shape"
   ]
  },
  {
   "cell_type": "code",
   "execution_count": 4,
   "id": "3586f1eb",
   "metadata": {},
   "outputs": [
    {
     "data": {
      "text/plain": [
       "array([[  0.28048742,   3.72830677,   3.19126654, ..., -45.90468216,\n",
       "        -45.90468216, -42.39907837],\n",
       "       [ -2.58110476,  13.3120842 ,   2.01552916, ..., -49.64926147,\n",
       "        -49.64926147, -37.44506454],\n",
       "       [ -2.15358114,  -7.61195707,  -4.13224602, ..., -50.49839783,\n",
       "        -50.49839783, -35.67107391],\n",
       "       ...,\n",
       "       [-15.86331844, -12.50350857, -28.52645874, ..., -58.88102722,\n",
       "        -58.88102722, -31.27197647],\n",
       "       [ -4.51956177,  -9.57658386,  -3.12049174, ..., -54.87487793,\n",
       "        -54.87487793, -51.62145996],\n",
       "       [-21.03319359, -23.70036888, -20.64584732, ..., -60.84477997,\n",
       "        -60.84477997, -60.84477997]])"
      ]
     },
     "execution_count": 4,
     "metadata": {},
     "output_type": "execute_result"
    }
   ],
   "source": [
    "X_data"
   ]
  },
  {
   "cell_type": "code",
   "execution_count": 5,
   "id": "862e8bf1",
   "metadata": {},
   "outputs": [
    {
     "data": {
      "text/plain": [
       "(1000,)"
      ]
     },
     "execution_count": 5,
     "metadata": {},
     "output_type": "execute_result"
    }
   ],
   "source": [
    "y_data = np.loadtxt(\"data/y_data.csv\", dtype=str)\n",
    "y_data.shape"
   ]
  },
  {
   "cell_type": "code",
   "execution_count": 6,
   "id": "3d29b01d",
   "metadata": {},
   "outputs": [
    {
     "data": {
      "text/plain": [
       "array(['blues', 'blues', 'blues', 'blues', 'blues', 'blues', 'blues',\n",
       "       'blues', 'blues', 'blues', 'blues', 'blues', 'blues', 'blues',\n",
       "       'blues', 'blues', 'blues', 'blues', 'blues', 'blues', 'blues',\n",
       "       'blues', 'blues', 'blues', 'blues', 'blues', 'blues', 'blues',\n",
       "       'blues', 'blues', 'blues', 'blues', 'blues', 'blues', 'blues',\n",
       "       'blues', 'blues', 'blues', 'blues', 'blues', 'blues', 'blues',\n",
       "       'blues', 'blues', 'blues', 'blues', 'blues', 'blues', 'blues',\n",
       "       'blues', 'blues', 'blues', 'blues', 'blues', 'blues', 'blues',\n",
       "       'blues', 'blues', 'blues', 'blues', 'blues', 'blues', 'blues',\n",
       "       'blues', 'blues', 'blues', 'blues', 'blues', 'blues', 'blues',\n",
       "       'blues', 'blues', 'blues', 'blues', 'blues', 'blues', 'blues',\n",
       "       'blues', 'blues', 'blues', 'blues', 'blues', 'blues', 'blues',\n",
       "       'blues', 'blues', 'blues', 'blues', 'blues', 'blues', 'blues',\n",
       "       'blues', 'blues', 'blues', 'blues', 'blues', 'blues', 'blues',\n",
       "       'blues', 'blues', 'classical', 'classical', 'classical',\n",
       "       'classical', 'classical', 'classical', 'classical', 'classical',\n",
       "       'classical', 'classical', 'classical', 'classical', 'classical',\n",
       "       'classical', 'classical', 'classical', 'classical', 'classical',\n",
       "       'classical', 'classical', 'classical', 'classical', 'classical',\n",
       "       'classical', 'classical', 'classical', 'classical', 'classical',\n",
       "       'classical', 'classical', 'classical', 'classical', 'classical',\n",
       "       'classical', 'classical', 'classical', 'classical', 'classical',\n",
       "       'classical', 'classical', 'classical', 'classical', 'classical',\n",
       "       'classical', 'classical', 'classical', 'classical', 'classical',\n",
       "       'classical', 'classical', 'classical', 'classical', 'classical',\n",
       "       'classical', 'classical', 'classical', 'classical', 'classical',\n",
       "       'classical', 'classical', 'classical', 'classical', 'classical',\n",
       "       'classical', 'classical', 'classical', 'classical', 'classical',\n",
       "       'classical', 'classical', 'classical', 'classical', 'classical',\n",
       "       'classical', 'classical', 'classical', 'classical', 'classical',\n",
       "       'classical', 'classical', 'classical', 'classical', 'classical',\n",
       "       'classical', 'classical', 'classical', 'classical', 'classical',\n",
       "       'classical', 'classical', 'classical', 'classical', 'classical',\n",
       "       'classical', 'classical', 'classical', 'classical', 'classical',\n",
       "       'classical', 'classical', 'country', 'country', 'country',\n",
       "       'country', 'country', 'country', 'country', 'country', 'country',\n",
       "       'country', 'country', 'country', 'country', 'country', 'country',\n",
       "       'country', 'country', 'country', 'country', 'country', 'country',\n",
       "       'country', 'country', 'country', 'country', 'country', 'country',\n",
       "       'country', 'country', 'country', 'country', 'country', 'country',\n",
       "       'country', 'country', 'country', 'country', 'country', 'country',\n",
       "       'country', 'country', 'country', 'country', 'country', 'country',\n",
       "       'country', 'country', 'country', 'country', 'country', 'country',\n",
       "       'country', 'country', 'country', 'country', 'country', 'country',\n",
       "       'country', 'country', 'country', 'country', 'country', 'country',\n",
       "       'country', 'country', 'country', 'country', 'country', 'country',\n",
       "       'country', 'country', 'country', 'country', 'country', 'country',\n",
       "       'country', 'country', 'country', 'country', 'country', 'country',\n",
       "       'country', 'country', 'country', 'country', 'country', 'country',\n",
       "       'country', 'country', 'country', 'country', 'country', 'country',\n",
       "       'country', 'country', 'country', 'country', 'country', 'country',\n",
       "       'country', 'disco', 'disco', 'disco', 'disco', 'disco', 'disco',\n",
       "       'disco', 'disco', 'disco', 'disco', 'disco', 'disco', 'disco',\n",
       "       'disco', 'disco', 'disco', 'disco', 'disco', 'disco', 'disco',\n",
       "       'disco', 'disco', 'disco', 'disco', 'disco', 'disco', 'disco',\n",
       "       'disco', 'disco', 'disco', 'disco', 'disco', 'disco', 'disco',\n",
       "       'disco', 'disco', 'disco', 'disco', 'disco', 'disco', 'disco',\n",
       "       'disco', 'disco', 'disco', 'disco', 'disco', 'disco', 'disco',\n",
       "       'disco', 'disco', 'disco', 'disco', 'disco', 'disco', 'disco',\n",
       "       'disco', 'disco', 'disco', 'disco', 'disco', 'disco', 'disco',\n",
       "       'disco', 'disco', 'disco', 'disco', 'disco', 'disco', 'disco',\n",
       "       'disco', 'disco', 'disco', 'disco', 'disco', 'disco', 'disco',\n",
       "       'disco', 'disco', 'disco', 'disco', 'disco', 'disco', 'disco',\n",
       "       'disco', 'disco', 'disco', 'disco', 'disco', 'disco', 'disco',\n",
       "       'disco', 'disco', 'disco', 'disco', 'disco', 'disco', 'disco',\n",
       "       'disco', 'disco', 'disco', 'hiphop', 'hiphop', 'hiphop', 'hiphop',\n",
       "       'hiphop', 'hiphop', 'hiphop', 'hiphop', 'hiphop', 'hiphop',\n",
       "       'hiphop', 'hiphop', 'hiphop', 'hiphop', 'hiphop', 'hiphop',\n",
       "       'hiphop', 'hiphop', 'hiphop', 'hiphop', 'hiphop', 'hiphop',\n",
       "       'hiphop', 'hiphop', 'hiphop', 'hiphop', 'hiphop', 'hiphop',\n",
       "       'hiphop', 'hiphop', 'hiphop', 'hiphop', 'hiphop', 'hiphop',\n",
       "       'hiphop', 'hiphop', 'hiphop', 'hiphop', 'hiphop', 'hiphop',\n",
       "       'hiphop', 'hiphop', 'hiphop', 'hiphop', 'hiphop', 'hiphop',\n",
       "       'hiphop', 'hiphop', 'hiphop', 'hiphop', 'hiphop', 'hiphop',\n",
       "       'hiphop', 'hiphop', 'hiphop', 'hiphop', 'hiphop', 'hiphop',\n",
       "       'hiphop', 'hiphop', 'hiphop', 'hiphop', 'hiphop', 'hiphop',\n",
       "       'hiphop', 'hiphop', 'hiphop', 'hiphop', 'hiphop', 'hiphop',\n",
       "       'hiphop', 'hiphop', 'hiphop', 'hiphop', 'hiphop', 'hiphop',\n",
       "       'hiphop', 'hiphop', 'hiphop', 'hiphop', 'hiphop', 'hiphop',\n",
       "       'hiphop', 'hiphop', 'hiphop', 'hiphop', 'hiphop', 'hiphop',\n",
       "       'hiphop', 'hiphop', 'hiphop', 'hiphop', 'hiphop', 'hiphop',\n",
       "       'hiphop', 'hiphop', 'hiphop', 'hiphop', 'hiphop', 'hiphop', 'jazz',\n",
       "       'jazz', 'jazz', 'jazz', 'jazz', 'jazz', 'jazz', 'jazz', 'jazz',\n",
       "       'jazz', 'jazz', 'jazz', 'jazz', 'jazz', 'jazz', 'jazz', 'jazz',\n",
       "       'jazz', 'jazz', 'jazz', 'jazz', 'jazz', 'jazz', 'jazz', 'jazz',\n",
       "       'jazz', 'jazz', 'jazz', 'jazz', 'jazz', 'jazz', 'jazz', 'jazz',\n",
       "       'jazz', 'jazz', 'jazz', 'jazz', 'jazz', 'jazz', 'jazz', 'jazz',\n",
       "       'jazz', 'jazz', 'jazz', 'jazz', 'jazz', 'jazz', 'jazz', 'jazz',\n",
       "       'jazz', 'jazz', 'jazz', 'jazz', 'jazz', 'jazz', 'jazz', 'jazz',\n",
       "       'jazz', 'jazz', 'jazz', 'jazz', 'jazz', 'jazz', 'jazz', 'jazz',\n",
       "       'jazz', 'jazz', 'jazz', 'jazz', 'jazz', 'jazz', 'jazz', 'jazz',\n",
       "       'jazz', 'jazz', 'jazz', 'jazz', 'jazz', 'jazz', 'jazz', 'jazz',\n",
       "       'jazz', 'jazz', 'jazz', 'jazz', 'jazz', 'jazz', 'jazz', 'jazz',\n",
       "       'jazz', 'jazz', 'jazz', 'jazz', 'jazz', 'jazz', 'jazz', 'jazz',\n",
       "       'jazz', 'jazz', 'jazz', 'metal', 'metal', 'metal', 'metal',\n",
       "       'metal', 'metal', 'metal', 'metal', 'metal', 'metal', 'metal',\n",
       "       'metal', 'metal', 'metal', 'metal', 'metal', 'metal', 'metal',\n",
       "       'metal', 'metal', 'metal', 'metal', 'metal', 'metal', 'metal',\n",
       "       'metal', 'metal', 'metal', 'metal', 'metal', 'metal', 'metal',\n",
       "       'metal', 'metal', 'metal', 'metal', 'metal', 'metal', 'metal',\n",
       "       'metal', 'metal', 'metal', 'metal', 'metal', 'metal', 'metal',\n",
       "       'metal', 'metal', 'metal', 'metal', 'metal', 'metal', 'metal',\n",
       "       'metal', 'metal', 'metal', 'metal', 'metal', 'metal', 'metal',\n",
       "       'metal', 'metal', 'metal', 'metal', 'metal', 'metal', 'metal',\n",
       "       'metal', 'metal', 'metal', 'metal', 'metal', 'metal', 'metal',\n",
       "       'metal', 'metal', 'metal', 'metal', 'metal', 'metal', 'metal',\n",
       "       'metal', 'metal', 'metal', 'metal', 'metal', 'metal', 'metal',\n",
       "       'metal', 'metal', 'metal', 'metal', 'metal', 'metal', 'metal',\n",
       "       'metal', 'metal', 'metal', 'metal', 'metal', 'pop', 'pop', 'pop',\n",
       "       'pop', 'pop', 'pop', 'pop', 'pop', 'pop', 'pop', 'pop', 'pop',\n",
       "       'pop', 'pop', 'pop', 'pop', 'pop', 'pop', 'pop', 'pop', 'pop',\n",
       "       'pop', 'pop', 'pop', 'pop', 'pop', 'pop', 'pop', 'pop', 'pop',\n",
       "       'pop', 'pop', 'pop', 'pop', 'pop', 'pop', 'pop', 'pop', 'pop',\n",
       "       'pop', 'pop', 'pop', 'pop', 'pop', 'pop', 'pop', 'pop', 'pop',\n",
       "       'pop', 'pop', 'pop', 'pop', 'pop', 'pop', 'pop', 'pop', 'pop',\n",
       "       'pop', 'pop', 'pop', 'pop', 'pop', 'pop', 'pop', 'pop', 'pop',\n",
       "       'pop', 'pop', 'pop', 'pop', 'pop', 'pop', 'pop', 'pop', 'pop',\n",
       "       'pop', 'pop', 'pop', 'pop', 'pop', 'pop', 'pop', 'pop', 'pop',\n",
       "       'pop', 'pop', 'pop', 'pop', 'pop', 'pop', 'pop', 'pop', 'pop',\n",
       "       'pop', 'pop', 'pop', 'pop', 'pop', 'pop', 'pop', 'reggae',\n",
       "       'reggae', 'reggae', 'reggae', 'reggae', 'reggae', 'reggae',\n",
       "       'reggae', 'reggae', 'reggae', 'reggae', 'reggae', 'reggae',\n",
       "       'reggae', 'reggae', 'reggae', 'reggae', 'reggae', 'reggae',\n",
       "       'reggae', 'reggae', 'reggae', 'reggae', 'reggae', 'reggae',\n",
       "       'reggae', 'reggae', 'reggae', 'reggae', 'reggae', 'reggae',\n",
       "       'reggae', 'reggae', 'reggae', 'reggae', 'reggae', 'reggae',\n",
       "       'reggae', 'reggae', 'reggae', 'reggae', 'reggae', 'reggae',\n",
       "       'reggae', 'reggae', 'reggae', 'reggae', 'reggae', 'reggae',\n",
       "       'reggae', 'reggae', 'reggae', 'reggae', 'reggae', 'reggae',\n",
       "       'reggae', 'reggae', 'reggae', 'reggae', 'reggae', 'reggae',\n",
       "       'reggae', 'reggae', 'reggae', 'reggae', 'reggae', 'reggae',\n",
       "       'reggae', 'reggae', 'reggae', 'reggae', 'reggae', 'reggae',\n",
       "       'reggae', 'reggae', 'reggae', 'reggae', 'reggae', 'reggae',\n",
       "       'reggae', 'reggae', 'reggae', 'reggae', 'reggae', 'reggae',\n",
       "       'reggae', 'reggae', 'reggae', 'reggae', 'reggae', 'reggae',\n",
       "       'reggae', 'reggae', 'reggae', 'reggae', 'reggae', 'reggae',\n",
       "       'reggae', 'reggae', 'reggae', 'rock', 'rock', 'rock', 'rock',\n",
       "       'rock', 'rock', 'rock', 'rock', 'rock', 'rock', 'rock', 'rock',\n",
       "       'rock', 'rock', 'rock', 'rock', 'rock', 'rock', 'rock', 'rock',\n",
       "       'rock', 'rock', 'rock', 'rock', 'rock', 'rock', 'rock', 'rock',\n",
       "       'rock', 'rock', 'rock', 'rock', 'rock', 'rock', 'rock', 'rock',\n",
       "       'rock', 'rock', 'rock', 'rock', 'rock', 'rock', 'rock', 'rock',\n",
       "       'rock', 'rock', 'rock', 'rock', 'rock', 'rock', 'rock', 'rock',\n",
       "       'rock', 'rock', 'rock', 'rock', 'rock', 'rock', 'rock', 'rock',\n",
       "       'rock', 'rock', 'rock', 'rock', 'rock', 'rock', 'rock', 'rock',\n",
       "       'rock', 'rock', 'rock', 'rock', 'rock', 'rock', 'rock', 'rock',\n",
       "       'rock', 'rock', 'rock', 'rock', 'rock', 'rock', 'rock', 'rock',\n",
       "       'rock', 'rock', 'rock', 'rock', 'rock', 'rock', 'rock', 'rock',\n",
       "       'rock', 'rock', 'rock', 'rock', 'rock', 'rock', 'rock', 'rock'],\n",
       "      dtype='<U9')"
      ]
     },
     "execution_count": 6,
     "metadata": {},
     "output_type": "execute_result"
    }
   ],
   "source": [
    "y_data"
   ]
  },
  {
   "cell_type": "code",
   "execution_count": 7,
   "id": "b53a05a0",
   "metadata": {},
   "outputs": [
    {
     "data": {
      "text/plain": [
       "array(['blues', 'classical', 'country', 'disco', 'hiphop', 'jazz',\n",
       "       'metal', 'pop', 'reggae', 'rock'], dtype='<U9')"
      ]
     },
     "execution_count": 7,
     "metadata": {},
     "output_type": "execute_result"
    }
   ],
   "source": [
    "labels = np.unique(y_data)\n",
    "labels"
   ]
  },
  {
   "cell_type": "code",
   "execution_count": 8,
   "id": "d5a129bc",
   "metadata": {},
   "outputs": [
    {
     "data": {
      "text/plain": [
       "array([[1., 0., 0., ..., 0., 0., 0.],\n",
       "       [1., 0., 0., ..., 0., 0., 0.],\n",
       "       [1., 0., 0., ..., 0., 0., 0.],\n",
       "       ...,\n",
       "       [0., 0., 0., ..., 0., 0., 1.],\n",
       "       [0., 0., 0., ..., 0., 0., 1.],\n",
       "       [0., 0., 0., ..., 0., 0., 1.]])"
      ]
     },
     "execution_count": 8,
     "metadata": {},
     "output_type": "execute_result"
    }
   ],
   "source": [
    "y_data2 = np.zeros((y_data.shape[0], len(labels)))\n",
    "\n",
    "for i, label in enumerate(labels):\n",
    "    for j in range(y_data.shape[0]):\n",
    "        if y_data[j] == label:\n",
    "            y_data2[j][i] = 1\n",
    "            \n",
    "y_data2"
   ]
  },
  {
   "cell_type": "code",
   "execution_count": 10,
   "id": "ab13759b",
   "metadata": {},
   "outputs": [
    {
     "data": {
      "text/plain": [
       "(1000, 128, 300, 1)"
      ]
     },
     "execution_count": 10,
     "metadata": {},
     "output_type": "execute_result"
    }
   ],
   "source": [
    "X_data2 = X_data2.reshape(1000, 128, 300, 1)\n",
    "X_data2.shape"
   ]
  },
  {
   "cell_type": "code",
   "execution_count": null,
   "id": "4414c289",
   "metadata": {},
   "outputs": [],
   "source": []
  },
  {
   "cell_type": "code",
   "execution_count": null,
   "id": "8195e547",
   "metadata": {},
   "outputs": [],
   "source": []
  },
  {
   "cell_type": "code",
   "execution_count": null,
   "id": "d3adbb6b",
   "metadata": {},
   "outputs": [],
   "source": []
  }
 ],
 "metadata": {
  "kernelspec": {
   "display_name": "Python 3 (ipykernel)",
   "language": "python",
   "name": "python3"
  },
  "language_info": {
   "codemirror_mode": {
    "name": "ipython",
    "version": 3
   },
   "file_extension": ".py",
   "mimetype": "text/x-python",
   "name": "python",
   "nbconvert_exporter": "python",
   "pygments_lexer": "ipython3",
   "version": "3.9.16"
  }
 },
 "nbformat": 4,
 "nbformat_minor": 5
}
