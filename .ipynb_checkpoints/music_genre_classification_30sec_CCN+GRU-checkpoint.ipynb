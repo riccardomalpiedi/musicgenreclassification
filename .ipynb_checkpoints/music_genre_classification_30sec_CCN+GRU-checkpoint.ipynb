{
 "cells": [
  {
   "cell_type": "code",
   "execution_count": 18,
   "id": "1353d4ed",
   "metadata": {},
   "outputs": [],
   "source": [
    "import numpy as np\n",
    "import pandas as pd\n",
    "import tensorflow as tf\n",
    "from tensorflow import keras\n",
    "import seaborn as sn\n",
    "import matplotlib.pyplot as plt"
   ]
  },
  {
   "cell_type": "code",
   "execution_count": 19,
   "id": "f2d896d7",
   "metadata": {},
   "outputs": [],
   "source": [
    "# Choose the path of the data\n",
    "X_data_path = \"data/X_data_10sec.csv\"\n",
    "y_data_path = \"data/y_data_10sec.csv\""
   ]
  },
  {
   "cell_type": "code",
   "execution_count": 20,
   "id": "7775ecc7",
   "metadata": {},
   "outputs": [],
   "source": [
    "# Set the parameters\n",
    "epochs = 32\n",
    "seconds = \"10sec\" # length of each sample, this will be used only to name the files with the results"
   ]
  },
  {
   "cell_type": "code",
   "execution_count": 21,
   "id": "884fcc38",
   "metadata": {},
   "outputs": [
    {
     "data": {
      "text/plain": [
       "(3000, 38400)"
      ]
     },
     "execution_count": 21,
     "metadata": {},
     "output_type": "execute_result"
    }
   ],
   "source": [
    "X_data = np.loadtxt(X_data_path, delimiter=\",\")\n",
    "X_data.shape"
   ]
  },
  {
   "cell_type": "code",
   "execution_count": 22,
   "id": "525fb095",
   "metadata": {},
   "outputs": [
    {
     "data": {
      "text/plain": [
       "array([[  0.28048742,   0.81629163,  -6.23892689, ..., -47.85346985,\n",
       "        -47.85346985, -38.20292664],\n",
       "       [ -4.82241058,  -6.21592712, -10.80950546, ..., -46.43103409,\n",
       "        -46.43103409, -46.43103409],\n",
       "       [  3.79986668,   5.4657836 ,   5.81849146, ..., -49.15478134,\n",
       "        -49.15478134, -33.45807266],\n",
       "       ...,\n",
       "       [-21.03319359, -24.26096344, -23.05108261, ..., -60.63187408,\n",
       "        -60.63187408, -42.44838333],\n",
       "       [ -7.60533762, -11.47871494, -10.9920063 , ..., -61.26615906,\n",
       "        -61.26615906, -43.74389267],\n",
       "       [ -8.89348984, -21.42334938, -28.44589043, ..., -59.62312698,\n",
       "        -59.62312698, -44.60402679]])"
      ]
     },
     "execution_count": 22,
     "metadata": {},
     "output_type": "execute_result"
    }
   ],
   "source": [
    "X_data"
   ]
  },
  {
   "cell_type": "code",
   "execution_count": 23,
   "id": "108b1d84",
   "metadata": {},
   "outputs": [
    {
     "data": {
      "text/plain": [
       "(3000,)"
      ]
     },
     "execution_count": 23,
     "metadata": {},
     "output_type": "execute_result"
    }
   ],
   "source": [
    "y_data = np.loadtxt(y_data_path, dtype=str)\n",
    "y_data.shape"
   ]
  },
  {
   "cell_type": "code",
   "execution_count": 24,
   "id": "d944b93d",
   "metadata": {},
   "outputs": [
    {
     "data": {
      "text/plain": [
       "array(['blues', 'blues', 'blues', ..., 'rock', 'rock', 'rock'],\n",
       "      dtype='<U9')"
      ]
     },
     "execution_count": 24,
     "metadata": {},
     "output_type": "execute_result"
    }
   ],
   "source": [
    "y_data"
   ]
  },
  {
   "cell_type": "code",
   "execution_count": 25,
   "id": "7775c49d",
   "metadata": {},
   "outputs": [
    {
     "data": {
      "text/plain": [
       "array(['blues', 'classical', 'country', 'disco', 'hiphop', 'jazz',\n",
       "       'metal', 'pop', 'reggae', 'rock'], dtype='<U9')"
      ]
     },
     "execution_count": 25,
     "metadata": {},
     "output_type": "execute_result"
    }
   ],
   "source": [
    "labels = np.unique(y_data)\n",
    "labels"
   ]
  },
  {
   "cell_type": "code",
   "execution_count": 26,
   "id": "cee9988f",
   "metadata": {
    "scrolled": true
   },
   "outputs": [
    {
     "data": {
      "text/plain": [
       "array([[1., 0., 0., ..., 0., 0., 0.],\n",
       "       [1., 0., 0., ..., 0., 0., 0.],\n",
       "       [1., 0., 0., ..., 0., 0., 0.],\n",
       "       ...,\n",
       "       [0., 0., 0., ..., 0., 0., 1.],\n",
       "       [0., 0., 0., ..., 0., 0., 1.],\n",
       "       [0., 0., 0., ..., 0., 0., 1.]])"
      ]
     },
     "execution_count": 26,
     "metadata": {},
     "output_type": "execute_result"
    }
   ],
   "source": [
    "y_data2 = np.zeros((y_data.shape[0], len(labels)))\n",
    "\n",
    "for i, label in enumerate(labels):\n",
    "    for j in range(y_data.shape[0]):\n",
    "        if y_data[j] == label:\n",
    "            y_data2[j][i] = 1\n",
    "            \n",
    "y_data2"
   ]
  },
  {
   "cell_type": "code",
   "execution_count": 27,
   "id": "44a6afe7",
   "metadata": {},
   "outputs": [
    {
     "data": {
      "text/plain": [
       "(3000, 128, 300, 1)"
      ]
     },
     "execution_count": 27,
     "metadata": {},
     "output_type": "execute_result"
    }
   ],
   "source": [
    "X_data2 = X_data.reshape(X_data.shape[0], 128, 300, 1)\n",
    "X_data2.shape"
   ]
  },
  {
   "cell_type": "code",
   "execution_count": 28,
   "id": "413cb252",
   "metadata": {},
   "outputs": [
    {
     "name": "stdout",
     "output_type": "stream",
     "text": [
      "(2400, 128, 300, 1)\n",
      "(600, 128, 300, 1)\n",
      "(2400, 10)\n",
      "(600, 10)\n"
     ]
    }
   ],
   "source": [
    "from sklearn.model_selection import train_test_split\n",
    "\n",
    "X_train, X_test, y_train, y_test = train_test_split(X_data2, y_data2, test_size=0.2)\n",
    "print(X_train.shape)\n",
    "print(X_test.shape)\n",
    "print(y_train.shape)\n",
    "print(y_test.shape)"
   ]
  },
  {
   "cell_type": "code",
   "execution_count": 29,
   "id": "94af2b2a",
   "metadata": {},
   "outputs": [],
   "source": [
    "# def conv_block(x, n_filters=64,filter_size=(7, 128), pool_size=(2, 2),stride=(2, 2)):\n",
    "#     x = keras.layers.Conv2D(n_filters, filter_size, activation = \"relu\", strides=(1, 1), padding='same')(x)\n",
    "#     x = keras.layers.MaxPooling2D(pool_size=pool_size, strides=stride)(x)\n",
    "#     x = keras.layers.Dropout(0.5)(x)\n",
    "#     return x\n",
    "def conv_block(x, n_filters,filter_size=(3, 3), pool_size=(2, 2),stride=(1, 1)):\n",
    "    x = keras.layers.Conv2D(n_filters, filter_size, strides=(1, 1), padding='same')(x)\n",
    "    x = keras.layers.Activation('relu')(x)\n",
    "    x = keras.layers.MaxPooling2D(pool_size=pool_size, strides=stride)(x)\n",
    "    x = keras.layers.Dropout(0.4)(x)\n",
    "    return x"
   ]
  },
  {
   "cell_type": "code",
   "execution_count": 30,
   "id": "cbb8685c",
   "metadata": {},
   "outputs": [],
   "source": [
    "nn_input = keras.Input(shape=(128,300,1))\n",
    "x = conv_block(nn_input, 16,stride=(2,2))\n",
    "x = conv_block(x, 32,filter_size=(3,3),stride=(2,2))\n",
    "x = conv_block(x, 64, stride=(2,2))\n",
    "x = conv_block(x, 128,filter_size=(3,3),stride=(2,2))\n",
    "x = conv_block(x, 256,stride=(2,2))\n",
    "x = keras.layers.Reshape((4,2304), input_shape=(4,9,256))(x)\n",
    "x = keras.layers.GRU(1024, activation=\"relu\", return_sequences=True)(x)\n",
    "x = keras.layers.Flatten()(x)\n",
    "x = keras.layers.Dropout(0.5)(x)\n",
    "x = keras.layers.Dense(256, activation='relu')(x)\n",
    "x = keras.layers.Dropout(0.5)(x)\n",
    "predictions = keras.layers.Dense(len(labels), \n",
    "                        activation='softmax')(x)\n",
    "    \n",
    "model = keras.Model(inputs=nn_input, outputs=predictions)"
   ]
  },
  {
   "cell_type": "code",
   "execution_count": 31,
   "id": "8a7a1e24",
   "metadata": {
    "scrolled": true
   },
   "outputs": [
    {
     "name": "stdout",
     "output_type": "stream",
     "text": [
      "Model: \"model_1\"\n",
      "_________________________________________________________________\n",
      " Layer (type)                Output Shape              Param #   \n",
      "=================================================================\n",
      " input_2 (InputLayer)        [(None, 128, 300, 1)]     0         \n",
      "                                                                 \n",
      " conv2d_5 (Conv2D)           (None, 128, 300, 16)      160       \n",
      "                                                                 \n",
      " activation_5 (Activation)   (None, 128, 300, 16)      0         \n",
      "                                                                 \n",
      " max_pooling2d_5 (MaxPooling  (None, 64, 150, 16)      0         \n",
      " 2D)                                                             \n",
      "                                                                 \n",
      " dropout_7 (Dropout)         (None, 64, 150, 16)       0         \n",
      "                                                                 \n",
      " conv2d_6 (Conv2D)           (None, 64, 150, 32)       4640      \n",
      "                                                                 \n",
      " activation_6 (Activation)   (None, 64, 150, 32)       0         \n",
      "                                                                 \n",
      " max_pooling2d_6 (MaxPooling  (None, 32, 75, 32)       0         \n",
      " 2D)                                                             \n",
      "                                                                 \n",
      " dropout_8 (Dropout)         (None, 32, 75, 32)        0         \n",
      "                                                                 \n",
      " conv2d_7 (Conv2D)           (None, 32, 75, 64)        18496     \n",
      "                                                                 \n",
      " activation_7 (Activation)   (None, 32, 75, 64)        0         \n",
      "                                                                 \n",
      " max_pooling2d_7 (MaxPooling  (None, 16, 37, 64)       0         \n",
      " 2D)                                                             \n",
      "                                                                 \n",
      " dropout_9 (Dropout)         (None, 16, 37, 64)        0         \n",
      "                                                                 \n",
      " conv2d_8 (Conv2D)           (None, 16, 37, 128)       73856     \n",
      "                                                                 \n",
      " activation_8 (Activation)   (None, 16, 37, 128)       0         \n",
      "                                                                 \n",
      " max_pooling2d_8 (MaxPooling  (None, 8, 18, 128)       0         \n",
      " 2D)                                                             \n",
      "                                                                 \n",
      " dropout_10 (Dropout)        (None, 8, 18, 128)        0         \n",
      "                                                                 \n",
      " conv2d_9 (Conv2D)           (None, 8, 18, 256)        295168    \n",
      "                                                                 \n",
      " activation_9 (Activation)   (None, 8, 18, 256)        0         \n",
      "                                                                 \n",
      " max_pooling2d_9 (MaxPooling  (None, 4, 9, 256)        0         \n",
      " 2D)                                                             \n",
      "                                                                 \n",
      " dropout_11 (Dropout)        (None, 4, 9, 256)         0         \n",
      "                                                                 \n",
      " reshape_1 (Reshape)         (None, 4, 2304)           0         \n",
      "                                                                 \n",
      " gru_1 (GRU)                 (None, 4, 1024)           10229760  \n",
      "                                                                 \n",
      " flatten_1 (Flatten)         (None, 4096)              0         \n",
      "                                                                 \n",
      " dropout_12 (Dropout)        (None, 4096)              0         \n",
      "                                                                 \n",
      " dense_2 (Dense)             (None, 256)               1048832   \n",
      "                                                                 \n",
      " dropout_13 (Dropout)        (None, 256)               0         \n",
      "                                                                 \n",
      " dense_3 (Dense)             (None, 10)                2570      \n",
      "                                                                 \n",
      "=================================================================\n",
      "Total params: 11,673,482\n",
      "Trainable params: 11,673,482\n",
      "Non-trainable params: 0\n",
      "_________________________________________________________________\n"
     ]
    }
   ],
   "source": [
    "model.summary()"
   ]
  },
  {
   "cell_type": "code",
   "execution_count": 32,
   "id": "be2b7e46",
   "metadata": {},
   "outputs": [],
   "source": [
    "model.compile(loss=tf.keras.losses.categorical_crossentropy,\n",
    "              optimizer=tf.keras.optimizers.Adam(learning_rate=0.001),\n",
    "              metrics=['accuracy'])"
   ]
  },
  {
   "cell_type": "code",
   "execution_count": 33,
   "id": "84c94100",
   "metadata": {
    "scrolled": true
   },
   "outputs": [
    {
     "name": "stdout",
     "output_type": "stream",
     "text": [
      "Epoch 1/32\n",
      "34/34 [==============================] - 84s 2s/step - loss: 4.2296 - accuracy: 0.1079 - val_loss: 2.3020 - val_accuracy: 0.1042\n",
      "Epoch 2/32\n",
      "34/34 [==============================] - 74s 2s/step - loss: 2.2899 - accuracy: 0.1037 - val_loss: 2.3009 - val_accuracy: 0.1000\n",
      "Epoch 3/32\n",
      "34/34 [==============================] - 74s 2s/step - loss: 2.2441 - accuracy: 0.1269 - val_loss: 2.2924 - val_accuracy: 0.1167\n",
      "Epoch 4/32\n",
      "34/34 [==============================] - 76s 2s/step - loss: 2.1407 - accuracy: 0.1926 - val_loss: 2.2586 - val_accuracy: 0.1250\n",
      "Epoch 5/32\n",
      "34/34 [==============================] - 76s 2s/step - loss: 2.0678 - accuracy: 0.2213 - val_loss: 2.2390 - val_accuracy: 0.1417\n",
      "Epoch 6/32\n",
      "34/34 [==============================] - 75s 2s/step - loss: 1.9735 - accuracy: 0.2593 - val_loss: 2.2348 - val_accuracy: 0.1042\n",
      "Epoch 7/32\n",
      "34/34 [==============================] - 75s 2s/step - loss: 1.8378 - accuracy: 0.3255 - val_loss: 2.1024 - val_accuracy: 0.2000\n",
      "Epoch 8/32\n",
      "34/34 [==============================] - 76s 2s/step - loss: 1.7284 - accuracy: 0.3463 - val_loss: 2.1165 - val_accuracy: 0.2333\n",
      "Epoch 9/32\n",
      "34/34 [==============================] - 76s 2s/step - loss: 1.6360 - accuracy: 0.3912 - val_loss: 2.0514 - val_accuracy: 0.2708\n",
      "Epoch 10/32\n",
      "34/34 [==============================] - 76s 2s/step - loss: 1.5855 - accuracy: 0.4236 - val_loss: 2.1747 - val_accuracy: 0.2167\n",
      "Epoch 11/32\n",
      "34/34 [==============================] - 75s 2s/step - loss: 1.5374 - accuracy: 0.4185 - val_loss: 2.1275 - val_accuracy: 0.2000\n",
      "Epoch 12/32\n",
      "34/34 [==============================] - 76s 2s/step - loss: 1.4554 - accuracy: 0.4542 - val_loss: 2.0538 - val_accuracy: 0.2375\n",
      "Epoch 13/32\n",
      "34/34 [==============================] - 75s 2s/step - loss: 1.3586 - accuracy: 0.4894 - val_loss: 2.0440 - val_accuracy: 0.2458\n",
      "Epoch 14/32\n",
      "34/34 [==============================] - 76s 2s/step - loss: 1.4144 - accuracy: 0.4824 - val_loss: 2.0252 - val_accuracy: 0.2792\n",
      "Epoch 15/32\n",
      "34/34 [==============================] - 76s 2s/step - loss: 1.3712 - accuracy: 0.4940 - val_loss: 1.8626 - val_accuracy: 0.3292\n",
      "Epoch 16/32\n",
      "34/34 [==============================] - 76s 2s/step - loss: 1.3283 - accuracy: 0.5093 - val_loss: 2.0050 - val_accuracy: 0.2750\n",
      "Epoch 17/32\n",
      "34/34 [==============================] - 75s 2s/step - loss: 1.3161 - accuracy: 0.5190 - val_loss: 1.7888 - val_accuracy: 0.3375\n",
      "Epoch 18/32\n",
      "34/34 [==============================] - 75s 2s/step - loss: 1.2194 - accuracy: 0.5653 - val_loss: 1.8412 - val_accuracy: 0.3208\n",
      "Epoch 19/32\n",
      "34/34 [==============================] - 75s 2s/step - loss: 1.1955 - accuracy: 0.5616 - val_loss: 1.8544 - val_accuracy: 0.3125\n",
      "Epoch 20/32\n",
      "34/34 [==============================] - 75s 2s/step - loss: 1.2219 - accuracy: 0.5444 - val_loss: 1.8621 - val_accuracy: 0.3292\n",
      "Epoch 21/32\n",
      "34/34 [==============================] - 76s 2s/step - loss: 1.1573 - accuracy: 0.5741 - val_loss: 1.7824 - val_accuracy: 0.3458\n",
      "Epoch 22/32\n",
      "34/34 [==============================] - 76s 2s/step - loss: 1.1778 - accuracy: 0.5745 - val_loss: 1.7346 - val_accuracy: 0.3542\n",
      "Epoch 23/32\n",
      "34/34 [==============================] - 75s 2s/step - loss: 1.1340 - accuracy: 0.5926 - val_loss: 1.7939 - val_accuracy: 0.3542\n",
      "Epoch 24/32\n",
      "34/34 [==============================] - 74s 2s/step - loss: 1.0801 - accuracy: 0.6014 - val_loss: 1.7723 - val_accuracy: 0.3333\n",
      "Epoch 25/32\n",
      "34/34 [==============================] - 74s 2s/step - loss: 1.0478 - accuracy: 0.6213 - val_loss: 1.8713 - val_accuracy: 0.3292\n",
      "Epoch 26/32\n",
      "34/34 [==============================] - 74s 2s/step - loss: 1.0620 - accuracy: 0.6236 - val_loss: 1.8941 - val_accuracy: 0.3375\n",
      "Epoch 27/32\n",
      "34/34 [==============================] - 74s 2s/step - loss: 1.0125 - accuracy: 0.6449 - val_loss: 1.7640 - val_accuracy: 0.3583\n",
      "Epoch 28/32\n",
      "34/34 [==============================] - 73s 2s/step - loss: 1.0231 - accuracy: 0.6384 - val_loss: 1.9133 - val_accuracy: 0.3417\n",
      "Epoch 29/32\n",
      "34/34 [==============================] - 74s 2s/step - loss: 1.0028 - accuracy: 0.6394 - val_loss: 1.9273 - val_accuracy: 0.3833\n",
      "Epoch 30/32\n",
      "34/34 [==============================] - 74s 2s/step - loss: 0.9743 - accuracy: 0.6486 - val_loss: 2.0453 - val_accuracy: 0.3542\n",
      "Epoch 31/32\n",
      "34/34 [==============================] - 73s 2s/step - loss: 0.9699 - accuracy: 0.6426 - val_loss: 1.9295 - val_accuracy: 0.3708\n",
      "Epoch 32/32\n",
      "34/34 [==============================] - 74s 2s/step - loss: 0.9267 - accuracy: 0.6690 - val_loss: 1.8748 - val_accuracy: 0.3750\n"
     ]
    }
   ],
   "source": [
    "history = model.fit(\n",
    "      X_train,\n",
    "      y_train,\n",
    "      epochs=epochs, \n",
    "      batch_size=64,\n",
    "      validation_split=0.10\n",
    "        )"
   ]
  },
  {
   "cell_type": "code",
   "execution_count": 48,
   "id": "a004bbe7",
   "metadata": {},
   "outputs": [
    {
     "name": "stderr",
     "output_type": "stream",
     "text": [
      "WARNING:absl:Found untraced functions such as _jit_compiled_convolution_op, _jit_compiled_convolution_op, _jit_compiled_convolution_op, _jit_compiled_convolution_op, _jit_compiled_convolution_op while saving (showing 5 of 5). These functions will not be directly callable after loading.\n"
     ]
    },
    {
     "name": "stdout",
     "output_type": "stream",
     "text": [
      "INFO:tensorflow:Assets written to: models/GRU_model_10sec_32epochs\\assets\n"
     ]
    },
    {
     "name": "stderr",
     "output_type": "stream",
     "text": [
      "INFO:tensorflow:Assets written to: models/GRU_model_10sec_32epochs\\assets\n"
     ]
    }
   ],
   "source": [
    "model.save(\"models/GRU_model_\" + seconds + \"_\" + str(epochs) + \"epochs\")"
   ]
  },
  {
   "cell_type": "code",
   "execution_count": 35,
   "id": "44c3028c",
   "metadata": {},
   "outputs": [
    {
     "data": {
      "image/png": "[encoded data removed]",
      "text/plain": [
       "<Figure size 640x480 with 1 Axes>"
      ]
     },
     "metadata": {},
     "output_type": "display_data"
    }
   ],
   "source": [
    "plt.plot(history.history['accuracy'])\n",
    "plt.plot(history.history['val_accuracy'])\n",
    "plt.title('model accuracy')\n",
    "plt.ylabel('accuracy')\n",
    "plt.xlabel('epoch')\n",
    "plt.legend(['train', 'val'], loc='upper left')\n",
    "# plt.savefig(\"images/GRU_accuracy_\" + seconds + \".png\")\n",
    "plt.show()"
   ]
  },
  {
   "cell_type": "code",
   "execution_count": 36,
   "id": "2a1fbf36",
   "metadata": {},
   "outputs": [
    {
     "data": {
      "image/png": "[encoded data removed]",
      "text/plain": [
       "<Figure size 640x480 with 1 Axes>"
      ]
     },
     "metadata": {},
     "output_type": "display_data"
    }
   ],
   "source": [
    "plt.plot(history.history['loss'])\n",
    "plt.plot(history.history['val_loss'])\n",
    "plt.title('model loss')\n",
    "plt.ylabel('loss')\n",
    "plt.xlabel('epoch')\n",
    "plt.legend(['train', 'val'], loc='upper left')\n",
    "# plt.savefig(\"images/GRU_loss_\" + seconds + \".png\")\n",
    "plt.show()"
   ]
  },
  {
   "cell_type": "code",
   "execution_count": 37,
   "id": "da341ddf",
   "metadata": {},
   "outputs": [
    {
     "name": "stdout",
     "output_type": "stream",
     "text": [
      "val_loss = 1.971 and val_acc = 0.347\n"
     ]
    }
   ],
   "source": [
    "score = model.evaluate(X_test, y_test, verbose=0)\n",
    "print(\"val_loss = {:.3f} and val_acc = {:.3f}\".format(score[0], score[1]))"
   ]
  },
  {
   "cell_type": "code",
   "execution_count": 38,
   "id": "1c8431f8",
   "metadata": {
    "scrolled": true
   },
   "outputs": [
    {
     "name": "stdout",
     "output_type": "stream",
     "text": [
      "19/19 [==============================] - 6s 234ms/step\n",
      "(600, 10)\n"
     ]
    },
    {
     "data": {
      "text/plain": [
       "array([[0.08581697, 0.03921727, 0.09023879, ..., 0.04048768, 0.04398102,\n",
       "        0.3365785 ],\n",
       "       [0.01142295, 0.00724486, 0.00892738, ..., 0.02672099, 0.06861405,\n",
       "        0.07575068],\n",
       "       [0.01880752, 0.00102182, 0.02098744, ..., 0.0676284 , 0.0204687 ,\n",
       "        0.2022134 ],\n",
       "       ...,\n",
       "       [0.00076482, 0.00119577, 0.13489056, ..., 0.04717715, 0.0015663 ,\n",
       "        0.7355234 ],\n",
       "       [0.00222288, 0.00294213, 0.09247974, ..., 0.28872678, 0.01473189,\n",
       "        0.39547515],\n",
       "       [0.00082582, 0.00172164, 0.00586661, ..., 0.48744798, 0.08471075,\n",
       "        0.04272399]], dtype=float32)"
      ]
     },
     "execution_count": 38,
     "metadata": {},
     "output_type": "execute_result"
    }
   ],
   "source": [
    "y_pred = model.predict(X_test)\n",
    "print(y_pred.shape)\n",
    "y_pred"
   ]
  },
  {
   "cell_type": "code",
   "execution_count": 39,
   "id": "355bdaf9",
   "metadata": {},
   "outputs": [
    {
     "data": {
      "text/plain": [
       "array([9, 4, 3, 9, 9, 9, 6, 3, 9, 9, 9, 9, 9, 6, 7], dtype=int64)"
      ]
     },
     "execution_count": 39,
     "metadata": {},
     "output_type": "execute_result"
    }
   ],
   "source": [
    "y_classes = y_pred.argmax(1)\n",
    "y_classes[:15]"
   ]
  },
  {
   "cell_type": "code",
   "execution_count": 40,
   "id": "f6d24523",
   "metadata": {},
   "outputs": [
    {
     "data": {
      "text/plain": [
       "array([5, 7, 3, 0, 1, 5, 0, 4, 3, 5, 7, 1, 2, 9, 7], dtype=int64)"
      ]
     },
     "execution_count": 40,
     "metadata": {},
     "output_type": "execute_result"
    }
   ],
   "source": [
    "y_test2 = y_test.argmax(1)\n",
    "y_test2[:15]"
   ]
  },
  {
   "cell_type": "code",
   "execution_count": 41,
   "id": "72040727",
   "metadata": {},
   "outputs": [
    {
     "name": "stdout",
     "output_type": "stream",
     "text": [
      "accuracy     : 0.3466666666666667\n",
      "precision    : 0.4461645011165512\n",
      "recall       : 0.3595160791589363\n",
      "f1-score     : 0.2867924346168931\n"
     ]
    },
    {
     "name": "stderr",
     "output_type": "stream",
     "text": [
      "C:\\Users\\Utente\\anaconda3\\envs\\tensorflow_env\\lib\\site-packages\\sklearn\\metrics\\_classification.py:1344: UndefinedMetricWarning: Precision is ill-defined and being set to 0.0 in labels with no predicted samples. Use `zero_division` parameter to control this behavior.\n",
      "  _warn_prf(average, modifier, msg_start, len(result))\n"
     ]
    }
   ],
   "source": [
    "import sklearn.metrics as mt\n",
    "\n",
    "accuracy = mt.accuracy_score(y_test2, y_classes)\n",
    "precision = mt.precision_score(y_test2, y_classes, average = \"macro\")\n",
    "recall = mt.recall_score(y_test2, y_classes, average = \"macro\")\n",
    "f1_score = mt.f1_score(y_test2, y_classes, average = \"macro\")\n",
    "print(\"accuracy     : \" + str(accuracy))\n",
    "print(\"precision    : \" + str(precision))\n",
    "print(\"recall       : \" + str(recall))\n",
    "print(\"f1-score     : \" + str(f1_score))"
   ]
  },
  {
   "cell_type": "code",
   "execution_count": 42,
   "id": "3b10723a",
   "metadata": {},
   "outputs": [],
   "source": [
    "# model_metrics = {\n",
    "#     \"epochs\" : [64],\n",
    "#     \"accuracy\" : [accuracy],\n",
    "#     \"precision\" : [precision],\n",
    "#     \"recall\" : [recall],\n",
    "#     \"f1-score\" : [f1_score]\n",
    "# }\n",
    "# df_metrics = pd.DataFrame(model_metrics)\n",
    "# metrics_path = \"metrics/GRU_metrics_\" + seconds + \".csv\"\n",
    "# df_metrics.to_csv(metrics_path, index=False)"
   ]
  },
  {
   "cell_type": "code",
   "execution_count": 49,
   "id": "eaf5bdaf",
   "metadata": {},
   "outputs": [
    {
     "data": {
      "text/html": [
       "<div>\n",
       "<style scoped>\n",
       "    .dataframe tbody tr th:only-of-type {\n",
       "        vertical-align: middle;\n",
       "    }\n",
       "\n",
       "    .dataframe tbody tr th {\n",
       "        vertical-align: top;\n",
       "    }\n",
       "\n",
       "    .dataframe thead th {\n",
       "        text-align: right;\n",
       "    }\n",
       "</style>\n",
       "<table border=\"1\" class=\"dataframe\">\n",
       "  <thead>\n",
       "    <tr style=\"text-align: right;\">\n",
       "      <th></th>\n",
       "      <th>epochs</th>\n",
       "      <th>accuracy</th>\n",
       "      <th>precision</th>\n",
       "      <th>recall</th>\n",
       "      <th>f1-score</th>\n",
       "    </tr>\n",
       "  </thead>\n",
       "  <tbody>\n",
       "    <tr>\n",
       "      <th>0</th>\n",
       "      <td>64</td>\n",
       "      <td>0.476667</td>\n",
       "      <td>0.62877</td>\n",
       "      <td>0.470385</td>\n",
       "      <td>0.434655</td>\n",
       "    </tr>\n",
       "  </tbody>\n",
       "</table>\n",
       "</div>"
      ],
      "text/plain": [
       "   epochs  accuracy  precision    recall  f1-score\n",
       "0      64  0.476667    0.62877  0.470385  0.434655"
      ]
     },
     "execution_count": 49,
     "metadata": {},
     "output_type": "execute_result"
    }
   ],
   "source": [
    "metrics_path = \"metrics/GRU_metrics_\" + seconds + \".csv\"\n",
    "df_metrics = pd.read_csv(metrics_path)\n",
    "df_metrics"
   ]
  },
  {
   "cell_type": "code",
   "execution_count": 50,
   "id": "02f77b3d",
   "metadata": {},
   "outputs": [
    {
     "name": "stderr",
     "output_type": "stream",
     "text": [
      "C:\\Users\\Utente\\AppData\\Local\\Temp\\ipykernel_11852\\2179813385.py:8: FutureWarning: The frame.append method is deprecated and will be removed from pandas in a future version. Use pandas.concat instead.\n",
      "  df_metrics = df_metrics.append(model_metrics, ignore_index=True)\n"
     ]
    },
    {
     "data": {
      "text/html": [
       "<div>\n",
       "<style scoped>\n",
       "    .dataframe tbody tr th:only-of-type {\n",
       "        vertical-align: middle;\n",
       "    }\n",
       "\n",
       "    .dataframe tbody tr th {\n",
       "        vertical-align: top;\n",
       "    }\n",
       "\n",
       "    .dataframe thead th {\n",
       "        text-align: right;\n",
       "    }\n",
       "</style>\n",
       "<table border=\"1\" class=\"dataframe\">\n",
       "  <thead>\n",
       "    <tr style=\"text-align: right;\">\n",
       "      <th></th>\n",
       "      <th>epochs</th>\n",
       "      <th>accuracy</th>\n",
       "      <th>precision</th>\n",
       "      <th>recall</th>\n",
       "      <th>f1-score</th>\n",
       "    </tr>\n",
       "  </thead>\n",
       "  <tbody>\n",
       "    <tr>\n",
       "      <th>1</th>\n",
       "      <td>32.0</td>\n",
       "      <td>0.346667</td>\n",
       "      <td>0.446165</td>\n",
       "      <td>0.359516</td>\n",
       "      <td>0.286792</td>\n",
       "    </tr>\n",
       "    <tr>\n",
       "      <th>0</th>\n",
       "      <td>64.0</td>\n",
       "      <td>0.476667</td>\n",
       "      <td>0.628770</td>\n",
       "      <td>0.470385</td>\n",
       "      <td>0.434655</td>\n",
       "    </tr>\n",
       "  </tbody>\n",
       "</table>\n",
       "</div>"
      ],
      "text/plain": [
       "   epochs  accuracy  precision    recall  f1-score\n",
       "1    32.0  0.346667   0.446165  0.359516  0.286792\n",
       "0    64.0  0.476667   0.628770  0.470385  0.434655"
      ]
     },
     "execution_count": 50,
     "metadata": {},
     "output_type": "execute_result"
    }
   ],
   "source": [
    "model_metrics = {\n",
    "    \"epochs\" : epochs,\n",
    "    \"accuracy\" : accuracy,\n",
    "    \"precision\" : precision,\n",
    "    \"recall\" : recall,\n",
    "    \"f1-score\" : f1_score\n",
    "}\n",
    "df_metrics = df_metrics.append(model_metrics, ignore_index=True)\n",
    "df_metrics = df_metrics.sort_values([\"epochs\"])\n",
    "df_metrics"
   ]
  },
  {
   "cell_type": "code",
   "execution_count": 52,
   "id": "cb945abb",
   "metadata": {},
   "outputs": [],
   "source": [
    "df_metrics.to_csv(metrics_path, index=False)"
   ]
  },
  {
   "cell_type": "code",
   "execution_count": 51,
   "id": "557d375f",
   "metadata": {},
   "outputs": [
    {
     "name": "stdout",
     "output_type": "stream",
     "text": [
      "[[ 0  0  0  0  0  0 14  0  0 48]\n",
      " [ 0  7  0  0  0  0  0  0  0 59]\n",
      " [ 0  0  0  1  0  0  1  0  0 61]\n",
      " [ 0  0  0 17  8  0  3  5  0 23]\n",
      " [ 0  0  0  2 50  0  2  0  0  1]\n",
      " [ 0  0  1  2  0  1  3  0  0 59]\n",
      " [ 0  0  0  0  1  0 57  0  0  5]\n",
      " [ 0  0  0  3  8  0  2 37  0 16]\n",
      " [ 0  0  0 26 17  0  0  5  0  6]\n",
      " [ 0  0  0  3  2  0  5  0  0 39]]\n"
     ]
    }
   ],
   "source": [
    "cm = mt.confusion_matrix(y_test2, y_classes)\n",
    "print(cm)"
   ]
  },
  {
   "cell_type": "code",
   "execution_count": 53,
   "id": "a6765225",
   "metadata": {},
   "outputs": [
    {
     "data": {
      "image/png": "[encoded data removed]",
      "text/plain": [
       "<Figure size 1500x1200 with 2 Axes>"
      ]
     },
     "metadata": {},
     "output_type": "display_data"
    }
   ],
   "source": [
    "plt.figure(figsize=(15,12))\n",
    "ax= plt.subplot()\n",
    "sn.heatmap(cm, annot=True, fmt='g', ax=ax);  # annot=True to annotate cells, ftm='g' to disable scientific notation\n",
    "\n",
    "# labels, title and ticks\n",
    "ax.set_xlabel('Predicted labels');\n",
    "ax.set_ylabel('True labels'); \n",
    "ax.set_title('Confusion Matrix'); \n",
    "ax.xaxis.set_ticklabels(labels); ax.yaxis.set_ticklabels(labels);\n",
    "plt.savefig(\"images/\" + seconds + \"/GRU_confusion_matrix_\" + str(epochs) + \"epochs.png\")"
   ]
  },
  {
   "cell_type": "code",
   "execution_count": null,
   "id": "c8965f6a",
   "metadata": {},
   "outputs": [],
   "source": []
  }
 ],
 "metadata": {
  "kernelspec": {
   "display_name": "Python 3 (ipykernel)",
   "language": "python",
   "name": "python3"
  },
  "language_info": {
   "codemirror_mode": {
    "name": "ipython",
    "version": 3
   },
   "file_extension": ".py",
   "mimetype": "text/x-python",
   "name": "python",
   "nbconvert_exporter": "python",
   "pygments_lexer": "ipython3",
   "version": "3.9.16"
  }
 },
 "nbformat": 4,
 "nbformat_minor": 5
}
