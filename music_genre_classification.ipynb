{
 "cells": [
  {
   "cell_type": "code",
   "execution_count": 99,
   "id": "1353d4ed",
   "metadata": {},
   "outputs": [],
   "source": [
    "import numpy as np\n",
    "import pandas as pd\n",
    "import tensorflow as tf\n",
    "from tensorflow import keras\n",
    "import seaborn as sn\n",
    "import matplotlib.pyplot as plt"
   ]
  },
  {
   "cell_type": "code",
   "execution_count": 100,
   "id": "bc39c045",
   "metadata": {},
   "outputs": [],
   "source": [
    "# Choose the path of the data\n",
    "X_data_path = \"data/X_data_10sec.csv\"\n",
    "y_data_path = \"data/y_data_10sec.csv\""
   ]
  },
  {
   "cell_type": "code",
   "execution_count": 101,
   "id": "4cdb9f3f",
   "metadata": {},
   "outputs": [],
   "source": [
    "# Set the parameters\n",
    "epochs = 16\n",
    "seconds = \"10sec\" # length of each sample, this will be used only to name the files with the results"
   ]
  },
  {
   "cell_type": "code",
   "execution_count": 102,
   "id": "884fcc38",
   "metadata": {},
   "outputs": [
    {
     "data": {
      "text/plain": [
       "(3000, 38400)"
      ]
     },
     "execution_count": 102,
     "metadata": {},
     "output_type": "execute_result"
    }
   ],
   "source": [
    "X_data = np.loadtxt(X_data_path, delimiter=\",\")\n",
    "X_data.shape"
   ]
  },
  {
   "cell_type": "code",
   "execution_count": 103,
   "id": "525fb095",
   "metadata": {},
   "outputs": [
    {
     "data": {
      "text/plain": [
       "array([[  0.28048742,   0.81629163,  -6.23892689, ..., -47.85346985,\n",
       "        -47.85346985, -38.20292664],\n",
       "       [ -4.82241058,  -6.21592712, -10.80950546, ..., -46.43103409,\n",
       "        -46.43103409, -46.43103409],\n",
       "       [  3.79986668,   5.4657836 ,   5.81849146, ..., -49.15478134,\n",
       "        -49.15478134, -33.45807266],\n",
       "       ...,\n",
       "       [-21.03319359, -24.26096344, -23.05108261, ..., -60.63187408,\n",
       "        -60.63187408, -42.44838333],\n",
       "       [ -7.60533762, -11.47871494, -10.9920063 , ..., -61.26615906,\n",
       "        -61.26615906, -43.74389267],\n",
       "       [ -8.89348984, -21.42334938, -28.44589043, ..., -59.62312698,\n",
       "        -59.62312698, -44.60402679]])"
      ]
     },
     "execution_count": 103,
     "metadata": {},
     "output_type": "execute_result"
    }
   ],
   "source": [
    "X_data"
   ]
  },
  {
   "cell_type": "code",
   "execution_count": 104,
   "id": "108b1d84",
   "metadata": {},
   "outputs": [
    {
     "data": {
      "text/plain": [
       "(3000,)"
      ]
     },
     "execution_count": 104,
     "metadata": {},
     "output_type": "execute_result"
    }
   ],
   "source": [
    "y_data = np.loadtxt(y_data_path, dtype=str)\n",
    "y_data.shape"
   ]
  },
  {
   "cell_type": "code",
   "execution_count": 105,
   "id": "d944b93d",
   "metadata": {},
   "outputs": [
    {
     "data": {
      "text/plain": [
       "array(['blues', 'blues', 'blues', ..., 'rock', 'rock', 'rock'],\n",
       "      dtype='<U9')"
      ]
     },
     "execution_count": 105,
     "metadata": {},
     "output_type": "execute_result"
    }
   ],
   "source": [
    "y_data"
   ]
  },
  {
   "cell_type": "code",
   "execution_count": 106,
   "id": "7775c49d",
   "metadata": {},
   "outputs": [
    {
     "data": {
      "text/plain": [
       "array(['blues', 'classical', 'country', 'disco', 'hiphop', 'jazz',\n",
       "       'metal', 'pop', 'reggae', 'rock'], dtype='<U9')"
      ]
     },
     "execution_count": 106,
     "metadata": {},
     "output_type": "execute_result"
    }
   ],
   "source": [
    "labels = np.unique(y_data)\n",
    "labels"
   ]
  },
  {
   "cell_type": "code",
   "execution_count": 107,
   "id": "cee9988f",
   "metadata": {
    "scrolled": true
   },
   "outputs": [
    {
     "data": {
      "text/plain": [
       "array([[1., 0., 0., ..., 0., 0., 0.],\n",
       "       [1., 0., 0., ..., 0., 0., 0.],\n",
       "       [1., 0., 0., ..., 0., 0., 0.],\n",
       "       ...,\n",
       "       [0., 0., 0., ..., 0., 0., 1.],\n",
       "       [0., 0., 0., ..., 0., 0., 1.],\n",
       "       [0., 0., 0., ..., 0., 0., 1.]])"
      ]
     },
     "execution_count": 107,
     "metadata": {},
     "output_type": "execute_result"
    }
   ],
   "source": [
    "y_data2 = np.zeros((y_data.shape[0], len(labels)))\n",
    "\n",
    "for i, label in enumerate(labels):\n",
    "    for j in range(y_data.shape[0]):\n",
    "        if y_data[j] == label:\n",
    "            y_data2[j][i] = 1\n",
    "            \n",
    "y_data2"
   ]
  },
  {
   "cell_type": "code",
   "execution_count": 108,
   "id": "44a6afe7",
   "metadata": {},
   "outputs": [
    {
     "data": {
      "text/plain": [
       "(3000, 128, 300, 1)"
      ]
     },
     "execution_count": 108,
     "metadata": {},
     "output_type": "execute_result"
    }
   ],
   "source": [
    "X_data2 = X_data.reshape(X_data.shape[0], 128, 300, 1)\n",
    "X_data2.shape"
   ]
  },
  {
   "cell_type": "code",
   "execution_count": 109,
   "id": "413cb252",
   "metadata": {},
   "outputs": [
    {
     "name": "stdout",
     "output_type": "stream",
     "text": [
      "(2400, 128, 300, 1)\n",
      "(600, 128, 300, 1)\n",
      "(2400, 10)\n",
      "(600, 10)\n"
     ]
    }
   ],
   "source": [
    "from sklearn.model_selection import train_test_split\n",
    "\n",
    "X_train, X_test, y_train, y_test = train_test_split(X_data2, y_data2, test_size=0.2)\n",
    "print(X_train.shape)\n",
    "print(X_test.shape)\n",
    "print(y_train.shape)\n",
    "print(y_test.shape)"
   ]
  },
  {
   "cell_type": "code",
   "execution_count": 110,
   "id": "94af2b2a",
   "metadata": {},
   "outputs": [],
   "source": [
    "def conv_block(x, n_filters,filter_size=(3, 3), pool_size=(2, 2),stride=(1, 1)):\n",
    "    x = keras.layers.Conv2D(n_filters, filter_size, strides=(1, 1), padding='same')(x)\n",
    "    x = keras.layers.Activation('relu')(x)\n",
    "    x = keras.layers.MaxPooling2D(pool_size=pool_size, strides=stride)(x)\n",
    "    x = keras.layers.Dropout(0.4)(x)\n",
    "    return x"
   ]
  },
  {
   "cell_type": "code",
   "execution_count": 112,
   "id": "cbb8685c",
   "metadata": {},
   "outputs": [],
   "source": [
    "nn_input = keras.Input(shape=(128,300,1))\n",
    "x = conv_block(nn_input, 16,stride=(2,2))\n",
    "x = conv_block(x, 32,filter_size=(3,3),stride=(2,2))\n",
    "x = conv_block(x, 64, stride=(2,2))\n",
    "x = conv_block(x, 128,filter_size=(3,3),stride=(2,2))\n",
    "x = conv_block(x, 256,stride=(2,2))\n",
    "\n",
    "x = keras.layers.Flatten()(x)\n",
    "x = keras.layers.Dropout(0.5)(x)\n",
    "x = keras.layers.Dense(128, activation='relu', \n",
    "          kernel_regularizer=tf.keras.regularizers.l2(0.01))(x)\n",
    "x = keras.layers.Dropout(0.3)(x)\n",
    "predictions = keras.layers.Dense(len(labels), \n",
    "                        activation='softmax', \n",
    "                        kernel_regularizer=tf.keras.regularizers.l2(0.01))(x)\n",
    "    \n",
    "model = keras.Model(inputs=nn_input, outputs=predictions)"
   ]
  },
  {
   "cell_type": "code",
   "execution_count": 113,
   "id": "8a7a1e24",
   "metadata": {},
   "outputs": [
    {
     "name": "stdout",
     "output_type": "stream",
     "text": [
      "Model: \"model_3\"\n",
      "_________________________________________________________________\n",
      " Layer (type)                Output Shape              Param #   \n",
      "=================================================================\n",
      " input_4 (InputLayer)        [(None, 128, 300, 1)]     0         \n",
      "                                                                 \n",
      " conv2d_15 (Conv2D)          (None, 128, 300, 16)      160       \n",
      "                                                                 \n",
      " activation_15 (Activation)  (None, 128, 300, 16)      0         \n",
      "                                                                 \n",
      " max_pooling2d_15 (MaxPoolin  (None, 64, 150, 16)      0         \n",
      " g2D)                                                            \n",
      "                                                                 \n",
      " dropout_21 (Dropout)        (None, 64, 150, 16)       0         \n",
      "                                                                 \n",
      " conv2d_16 (Conv2D)          (None, 64, 150, 32)       4640      \n",
      "                                                                 \n",
      " activation_16 (Activation)  (None, 64, 150, 32)       0         \n",
      "                                                                 \n",
      " max_pooling2d_16 (MaxPoolin  (None, 32, 75, 32)       0         \n",
      " g2D)                                                            \n",
      "                                                                 \n",
      " dropout_22 (Dropout)        (None, 32, 75, 32)        0         \n",
      "                                                                 \n",
      " conv2d_17 (Conv2D)          (None, 32, 75, 64)        18496     \n",
      "                                                                 \n",
      " activation_17 (Activation)  (None, 32, 75, 64)        0         \n",
      "                                                                 \n",
      " max_pooling2d_17 (MaxPoolin  (None, 16, 37, 64)       0         \n",
      " g2D)                                                            \n",
      "                                                                 \n",
      " dropout_23 (Dropout)        (None, 16, 37, 64)        0         \n",
      "                                                                 \n",
      " conv2d_18 (Conv2D)          (None, 16, 37, 128)       73856     \n",
      "                                                                 \n",
      " activation_18 (Activation)  (None, 16, 37, 128)       0         \n",
      "                                                                 \n",
      " max_pooling2d_18 (MaxPoolin  (None, 8, 18, 128)       0         \n",
      " g2D)                                                            \n",
      "                                                                 \n",
      " dropout_24 (Dropout)        (None, 8, 18, 128)        0         \n",
      "                                                                 \n",
      " conv2d_19 (Conv2D)          (None, 8, 18, 256)        295168    \n",
      "                                                                 \n",
      " activation_19 (Activation)  (None, 8, 18, 256)        0         \n",
      "                                                                 \n",
      " max_pooling2d_19 (MaxPoolin  (None, 4, 9, 256)        0         \n",
      " g2D)                                                            \n",
      "                                                                 \n",
      " dropout_25 (Dropout)        (None, 4, 9, 256)         0         \n",
      "                                                                 \n",
      " flatten_3 (Flatten)         (None, 9216)              0         \n",
      "                                                                 \n",
      " dropout_26 (Dropout)        (None, 9216)              0         \n",
      "                                                                 \n",
      " dense_6 (Dense)             (None, 128)               1179776   \n",
      "                                                                 \n",
      " dropout_27 (Dropout)        (None, 128)               0         \n",
      "                                                                 \n",
      " dense_7 (Dense)             (None, 10)                1290      \n",
      "                                                                 \n",
      "=================================================================\n",
      "Total params: 1,573,386\n",
      "Trainable params: 1,573,386\n",
      "Non-trainable params: 0\n",
      "_________________________________________________________________\n"
     ]
    }
   ],
   "source": [
    "model.summary()"
   ]
  },
  {
   "cell_type": "code",
   "execution_count": 114,
   "id": "be2b7e46",
   "metadata": {},
   "outputs": [],
   "source": [
    "model.compile(loss=tf.keras.losses.categorical_crossentropy,\n",
    "              optimizer=tf.keras.optimizers.Adam(learning_rate=0.001),\n",
    "              metrics=['accuracy'])"
   ]
  },
  {
   "cell_type": "code",
   "execution_count": 115,
   "id": "10a166e0",
   "metadata": {},
   "outputs": [
    {
     "data": {
      "text/plain": [
       "(2400, 128, 300, 1)"
      ]
     },
     "execution_count": 115,
     "metadata": {},
     "output_type": "execute_result"
    }
   ],
   "source": [
    "X_train.shape"
   ]
  },
  {
   "cell_type": "code",
   "execution_count": 116,
   "id": "96dceb20",
   "metadata": {},
   "outputs": [
    {
     "data": {
      "text/plain": [
       "(2400, 10)"
      ]
     },
     "execution_count": 116,
     "metadata": {},
     "output_type": "execute_result"
    }
   ],
   "source": [
    "y_train.shape"
   ]
  },
  {
   "cell_type": "code",
   "execution_count": 117,
   "id": "84c94100",
   "metadata": {
    "scrolled": true
   },
   "outputs": [
    {
     "name": "stdout",
     "output_type": "stream",
     "text": [
      "Epoch 1/16\n",
      "68/68 [==============================] - 46s 602ms/step - loss: 7.0210 - accuracy: 0.1347 - val_loss: 4.8070 - val_accuracy: 0.1000\n",
      "Epoch 2/16\n",
      "68/68 [==============================] - 40s 591ms/step - loss: 4.5039 - accuracy: 0.1884 - val_loss: 4.4387 - val_accuracy: 0.1208\n",
      "Epoch 3/16\n",
      "68/68 [==============================] - 40s 589ms/step - loss: 4.0866 - accuracy: 0.2329 - val_loss: 4.1135 - val_accuracy: 0.1958\n",
      "Epoch 4/16\n",
      "68/68 [==============================] - 43s 627ms/step - loss: 3.7587 - accuracy: 0.2750 - val_loss: 3.8074 - val_accuracy: 0.2000\n",
      "Epoch 5/16\n",
      "68/68 [==============================] - 41s 599ms/step - loss: 3.4353 - accuracy: 0.3111 - val_loss: 3.6361 - val_accuracy: 0.1875\n",
      "Epoch 6/16\n",
      "68/68 [==============================] - 43s 639ms/step - loss: 3.1148 - accuracy: 0.3574 - val_loss: 3.3875 - val_accuracy: 0.2792\n",
      "Epoch 7/16\n",
      "68/68 [==============================] - 43s 629ms/step - loss: 2.9163 - accuracy: 0.3611 - val_loss: 3.0951 - val_accuracy: 0.3125\n",
      "Epoch 8/16\n",
      "68/68 [==============================] - 43s 631ms/step - loss: 2.7420 - accuracy: 0.3833 - val_loss: 3.0487 - val_accuracy: 0.3125\n",
      "Epoch 9/16\n",
      "68/68 [==============================] - 44s 645ms/step - loss: 2.5374 - accuracy: 0.4255 - val_loss: 2.8781 - val_accuracy: 0.3333\n",
      "Epoch 10/16\n",
      "68/68 [==============================] - 41s 600ms/step - loss: 2.3705 - accuracy: 0.4481 - val_loss: 2.7105 - val_accuracy: 0.3875\n",
      "Epoch 11/16\n",
      "68/68 [==============================] - 43s 635ms/step - loss: 2.2531 - accuracy: 0.4630 - val_loss: 2.6000 - val_accuracy: 0.3500\n",
      "Epoch 12/16\n",
      "68/68 [==============================] - 43s 634ms/step - loss: 2.1475 - accuracy: 0.4866 - val_loss: 2.3537 - val_accuracy: 0.4583\n",
      "Epoch 13/16\n",
      "68/68 [==============================] - 42s 619ms/step - loss: 2.0771 - accuracy: 0.4838 - val_loss: 2.4367 - val_accuracy: 0.3917\n",
      "Epoch 14/16\n",
      "68/68 [==============================] - 44s 641ms/step - loss: 2.0147 - accuracy: 0.4894 - val_loss: 2.2193 - val_accuracy: 0.4750\n",
      "Epoch 15/16\n",
      "68/68 [==============================] - 43s 631ms/step - loss: 1.9457 - accuracy: 0.5028 - val_loss: 2.2061 - val_accuracy: 0.5333\n",
      "Epoch 16/16\n",
      "68/68 [==============================] - 43s 624ms/step - loss: 1.8334 - accuracy: 0.5338 - val_loss: 2.1449 - val_accuracy: 0.4792\n"
     ]
    }
   ],
   "source": [
    "history = model.fit(\n",
    "      X_train,\n",
    "      y_train,\n",
    "      epochs=epochs, \n",
    "      batch_size=32,\n",
    "      validation_split=0.10\n",
    "        )"
   ]
  },
  {
   "cell_type": "code",
   "execution_count": 118,
   "id": "a004bbe7",
   "metadata": {},
   "outputs": [
    {
     "name": "stderr",
     "output_type": "stream",
     "text": [
      "WARNING:absl:Found untraced functions such as _jit_compiled_convolution_op, _jit_compiled_convolution_op, _jit_compiled_convolution_op, _jit_compiled_convolution_op, _jit_compiled_convolution_op while saving (showing 5 of 5). These functions will not be directly callable after loading.\n"
     ]
    },
    {
     "name": "stdout",
     "output_type": "stream",
     "text": [
      "INFO:tensorflow:Assets written to: models/model_10sec_16epochs\\assets\n"
     ]
    },
    {
     "name": "stderr",
     "output_type": "stream",
     "text": [
      "INFO:tensorflow:Assets written to: models/model_10sec_16epochs\\assets\n"
     ]
    }
   ],
   "source": [
    "model.save(\"models/model_\" + seconds + \"_\" + str(epochs) + \"epochs\")"
   ]
  },
  {
   "cell_type": "code",
   "execution_count": 119,
   "id": "15e9ea5d",
   "metadata": {},
   "outputs": [
    {
     "data": {
      "image/png": "[encoded data removed]",
      "text/plain": [
       "<Figure size 640x480 with 1 Axes>"
      ]
     },
     "metadata": {},
     "output_type": "display_data"
    }
   ],
   "source": [
    "plt.plot(history.history['accuracy'])\n",
    "plt.plot(history.history['val_accuracy'])\n",
    "plt.title('model accuracy')\n",
    "plt.ylabel('accuracy')\n",
    "plt.xlabel('epoch')\n",
    "plt.legend(['train', 'val'], loc='upper left')\n",
    "# plt.savefig(\"images/accuracy_\" + seconds + \".png\")\n",
    "plt.show()"
   ]
  },
  {
   "cell_type": "code",
   "execution_count": 120,
   "id": "21103e75",
   "metadata": {},
   "outputs": [
    {
     "data": {
      "image/png": "[encoded data removed]",
      "text/plain": [
       "<Figure size 640x480 with 1 Axes>"
      ]
     },
     "metadata": {},
     "output_type": "display_data"
    }
   ],
   "source": [
    "plt.plot(history.history['loss'])\n",
    "plt.plot(history.history['val_loss'])\n",
    "plt.title('model loss')\n",
    "plt.ylabel('loss')\n",
    "plt.xlabel('epoch')\n",
    "plt.legend(['train', 'val'], loc='upper left')\n",
    "# plt.savefig(\"images/loss_\" + seconds + \".png\")\n",
    "plt.show()"
   ]
  },
  {
   "cell_type": "code",
   "execution_count": 121,
   "id": "da341ddf",
   "metadata": {},
   "outputs": [
    {
     "name": "stdout",
     "output_type": "stream",
     "text": [
      "val_loss = 2.154 and val_acc = 0.503\n"
     ]
    }
   ],
   "source": [
    "score = model.evaluate(X_test, y_test, verbose=0)\n",
    "print(\"val_loss = {:.3f} and val_acc = {:.3f}\".format(score[0], score[1]))"
   ]
  },
  {
   "cell_type": "code",
   "execution_count": 122,
   "id": "1c8431f8",
   "metadata": {
    "scrolled": true
   },
   "outputs": [
    {
     "name": "stdout",
     "output_type": "stream",
     "text": [
      "19/19 [==============================] - 3s 136ms/step\n",
      "(600, 10)\n"
     ]
    },
    {
     "data": {
      "text/plain": [
       "array([[0.17789559, 0.02123358, 0.10118339, ..., 0.01740611, 0.05513174,\n",
       "        0.15827347],\n",
       "       [0.06960672, 0.00981752, 0.04049446, ..., 0.07628245, 0.21662036,\n",
       "        0.0899236 ],\n",
       "       [0.11591719, 0.0057603 , 0.03329675, ..., 0.00263677, 0.02730429,\n",
       "        0.14580388],\n",
       "       ...,\n",
       "       [0.11485421, 0.01551628, 0.05465617, ..., 0.01918127, 0.11815794,\n",
       "        0.13368241],\n",
       "       [0.1240317 , 0.11246442, 0.19208492, ..., 0.04468948, 0.05261899,\n",
       "        0.13894847],\n",
       "       [0.12578385, 0.05137694, 0.19886765, ..., 0.09159107, 0.06402353,\n",
       "        0.14786112]], dtype=float32)"
      ]
     },
     "execution_count": 122,
     "metadata": {},
     "output_type": "execute_result"
    }
   ],
   "source": [
    "y_pred = model.predict(X_test)\n",
    "print(y_pred.shape)\n",
    "y_pred"
   ]
  },
  {
   "cell_type": "code",
   "execution_count": 123,
   "id": "355bdaf9",
   "metadata": {},
   "outputs": [
    {
     "data": {
      "text/plain": [
       "array([0, 4, 6, 7, 3, 9, 0, 3, 0, 0, 5, 9, 6, 2, 5], dtype=int64)"
      ]
     },
     "execution_count": 123,
     "metadata": {},
     "output_type": "execute_result"
    }
   ],
   "source": [
    "y_classes = y_pred.argmax(1)\n",
    "y_classes[:15]"
   ]
  },
  {
   "cell_type": "code",
   "execution_count": 124,
   "id": "f6d24523",
   "metadata": {},
   "outputs": [
    {
     "data": {
      "text/plain": [
       "array([0, 8, 6, 7, 3, 9, 3, 3, 2, 0, 1, 1, 9, 0, 1], dtype=int64)"
      ]
     },
     "execution_count": 124,
     "metadata": {},
     "output_type": "execute_result"
    }
   ],
   "source": [
    "y_test2 = y_test.argmax(1)\n",
    "y_test2[:15]"
   ]
  },
  {
   "cell_type": "code",
   "execution_count": 125,
   "id": "836b1461",
   "metadata": {},
   "outputs": [
    {
     "name": "stdout",
     "output_type": "stream",
     "text": [
      "accuracy     : 0.5033333333333333\n",
      "precision    : 0.5565053230533578\n",
      "recall       : 0.508811996517662\n",
      "f1-score     : 0.4751419397971503\n"
     ]
    }
   ],
   "source": [
    "import sklearn.metrics as mt\n",
    "\n",
    "accuracy = mt.accuracy_score(y_test2, y_classes)\n",
    "precision = mt.precision_score(y_test2, y_classes, average = \"macro\")\n",
    "recall = mt.recall_score(y_test2, y_classes, average = \"macro\")\n",
    "f1_score = mt.f1_score(y_test2, y_classes, average = \"macro\")\n",
    "print(\"accuracy     : \" + str(accuracy))\n",
    "print(\"precision    : \" + str(precision))\n",
    "print(\"recall       : \" + str(recall))\n",
    "print(\"f1-score     : \" + str(f1_score))"
   ]
  },
  {
   "cell_type": "code",
   "execution_count": 126,
   "id": "9dbcabf3",
   "metadata": {},
   "outputs": [],
   "source": [
    "# model_metrics = {\n",
    "#     \"epochs\" : [128],\n",
    "#     \"accuracy\" : [accuracy],\n",
    "#     \"precision\" : [precision],\n",
    "#     \"recall\" : [recall],\n",
    "#     \"f1-score\" : [f1_score]\n",
    "# }\n",
    "# df_metrics = pd.DataFrame(model_metrics)\n",
    "# metrics_path = \"metrics/metrics_\" + seconds + \".csv\"\n",
    "# df_metrics.to_csv(metrics_path, index=False)"
   ]
  },
  {
   "cell_type": "code",
   "execution_count": 127,
   "id": "e3e1bd3b",
   "metadata": {},
   "outputs": [
    {
     "data": {
      "text/html": [
       "<div>\n",
       "<style scoped>\n",
       "    .dataframe tbody tr th:only-of-type {\n",
       "        vertical-align: middle;\n",
       "    }\n",
       "\n",
       "    .dataframe tbody tr th {\n",
       "        vertical-align: top;\n",
       "    }\n",
       "\n",
       "    .dataframe thead th {\n",
       "        text-align: right;\n",
       "    }\n",
       "</style>\n",
       "<table border=\"1\" class=\"dataframe\">\n",
       "  <thead>\n",
       "    <tr style=\"text-align: right;\">\n",
       "      <th></th>\n",
       "      <th>epochs</th>\n",
       "      <th>accuracy</th>\n",
       "      <th>precision</th>\n",
       "      <th>recall</th>\n",
       "      <th>f1-score</th>\n",
       "    </tr>\n",
       "  </thead>\n",
       "  <tbody>\n",
       "    <tr>\n",
       "      <th>0</th>\n",
       "      <td>32.0</td>\n",
       "      <td>0.693333</td>\n",
       "      <td>0.720898</td>\n",
       "      <td>0.693390</td>\n",
       "      <td>0.697194</td>\n",
       "    </tr>\n",
       "    <tr>\n",
       "      <th>1</th>\n",
       "      <td>64.0</td>\n",
       "      <td>0.763333</td>\n",
       "      <td>0.780598</td>\n",
       "      <td>0.770911</td>\n",
       "      <td>0.766061</td>\n",
       "    </tr>\n",
       "    <tr>\n",
       "      <th>2</th>\n",
       "      <td>128.0</td>\n",
       "      <td>0.830000</td>\n",
       "      <td>0.849458</td>\n",
       "      <td>0.828728</td>\n",
       "      <td>0.830348</td>\n",
       "    </tr>\n",
       "  </tbody>\n",
       "</table>\n",
       "</div>"
      ],
      "text/plain": [
       "   epochs  accuracy  precision    recall  f1-score\n",
       "0    32.0  0.693333   0.720898  0.693390  0.697194\n",
       "1    64.0  0.763333   0.780598  0.770911  0.766061\n",
       "2   128.0  0.830000   0.849458  0.828728  0.830348"
      ]
     },
     "execution_count": 127,
     "metadata": {},
     "output_type": "execute_result"
    }
   ],
   "source": [
    "metrics_path = \"metrics/metrics_\" + seconds + \".csv\"\n",
    "df_metrics = pd.read_csv(metrics_path)\n",
    "df_metrics"
   ]
  },
  {
   "cell_type": "code",
   "execution_count": 128,
   "id": "780d9762",
   "metadata": {},
   "outputs": [
    {
     "name": "stderr",
     "output_type": "stream",
     "text": [
      "C:\\Users\\Utente\\AppData\\Local\\Temp\\ipykernel_5996\\2179813385.py:8: FutureWarning: The frame.append method is deprecated and will be removed from pandas in a future version. Use pandas.concat instead.\n",
      "  df_metrics = df_metrics.append(model_metrics, ignore_index=True)\n"
     ]
    },
    {
     "data": {
      "text/html": [
       "<div>\n",
       "<style scoped>\n",
       "    .dataframe tbody tr th:only-of-type {\n",
       "        vertical-align: middle;\n",
       "    }\n",
       "\n",
       "    .dataframe tbody tr th {\n",
       "        vertical-align: top;\n",
       "    }\n",
       "\n",
       "    .dataframe thead th {\n",
       "        text-align: right;\n",
       "    }\n",
       "</style>\n",
       "<table border=\"1\" class=\"dataframe\">\n",
       "  <thead>\n",
       "    <tr style=\"text-align: right;\">\n",
       "      <th></th>\n",
       "      <th>epochs</th>\n",
       "      <th>accuracy</th>\n",
       "      <th>precision</th>\n",
       "      <th>recall</th>\n",
       "      <th>f1-score</th>\n",
       "    </tr>\n",
       "  </thead>\n",
       "  <tbody>\n",
       "    <tr>\n",
       "      <th>3</th>\n",
       "      <td>16.0</td>\n",
       "      <td>0.503333</td>\n",
       "      <td>0.556505</td>\n",
       "      <td>0.508812</td>\n",
       "      <td>0.475142</td>\n",
       "    </tr>\n",
       "    <tr>\n",
       "      <th>0</th>\n",
       "      <td>32.0</td>\n",
       "      <td>0.693333</td>\n",
       "      <td>0.720898</td>\n",
       "      <td>0.693390</td>\n",
       "      <td>0.697194</td>\n",
       "    </tr>\n",
       "    <tr>\n",
       "      <th>1</th>\n",
       "      <td>64.0</td>\n",
       "      <td>0.763333</td>\n",
       "      <td>0.780598</td>\n",
       "      <td>0.770911</td>\n",
       "      <td>0.766061</td>\n",
       "    </tr>\n",
       "    <tr>\n",
       "      <th>2</th>\n",
       "      <td>128.0</td>\n",
       "      <td>0.830000</td>\n",
       "      <td>0.849458</td>\n",
       "      <td>0.828728</td>\n",
       "      <td>0.830348</td>\n",
       "    </tr>\n",
       "  </tbody>\n",
       "</table>\n",
       "</div>"
      ],
      "text/plain": [
       "   epochs  accuracy  precision    recall  f1-score\n",
       "3    16.0  0.503333   0.556505  0.508812  0.475142\n",
       "0    32.0  0.693333   0.720898  0.693390  0.697194\n",
       "1    64.0  0.763333   0.780598  0.770911  0.766061\n",
       "2   128.0  0.830000   0.849458  0.828728  0.830348"
      ]
     },
     "execution_count": 128,
     "metadata": {},
     "output_type": "execute_result"
    }
   ],
   "source": [
    "model_metrics = {\n",
    "    \"epochs\" : epochs,\n",
    "    \"accuracy\" : accuracy,\n",
    "    \"precision\" : precision,\n",
    "    \"recall\" : recall,\n",
    "    \"f1-score\" : f1_score\n",
    "}\n",
    "df_metrics = df_metrics.append(model_metrics, ignore_index=True)\n",
    "df_metrics = df_metrics.sort_values([\"epochs\"])\n",
    "df_metrics"
   ]
  },
  {
   "cell_type": "code",
   "execution_count": 129,
   "id": "efdd44b2",
   "metadata": {},
   "outputs": [],
   "source": [
    "df_metrics.to_csv(metrics_path, index=False)"
   ]
  },
  {
   "cell_type": "code",
   "execution_count": 130,
   "id": "557d375f",
   "metadata": {},
   "outputs": [
    {
     "name": "stdout",
     "output_type": "stream",
     "text": [
      "[[25  0 11 10  1  0 11  0  0  2]\n",
      " [ 3  6 22  0  0 26  0  0  0  2]\n",
      " [11  0 45  1  0  0  0  0  0  3]\n",
      " [ 3  0  6 27  5  0  1  8  4  3]\n",
      " [ 0  0  0  0 46  0  1  7  2  1]\n",
      " [ 8  0 35  1  0  7  3  0  1  5]\n",
      " [ 0  0  0  1  0  0 59  0  0  0]\n",
      " [ 4  0  2  4  6  0  0 41  0  1]\n",
      " [ 3  0  3  6 12  0  2  1 33  1]\n",
      " [10  0 20  6  1  0 13  2  3 13]]\n"
     ]
    }
   ],
   "source": [
    "cm = mt.confusion_matrix(y_test2, y_classes)\n",
    "print(cm)"
   ]
  },
  {
   "cell_type": "code",
   "execution_count": 131,
   "id": "a6765225",
   "metadata": {},
   "outputs": [
    {
     "data": {
      "image/png": "[encoded data removed]",
      "text/plain": [
       "<Figure size 1500x1200 with 2 Axes>"
      ]
     },
     "metadata": {},
     "output_type": "display_data"
    }
   ],
   "source": [
    "plt.figure(figsize=(15,12))\n",
    "ax= plt.subplot()\n",
    "sn.heatmap(cm, annot=True, fmt='g', ax=ax);  # annot=True to annotate cells, ftm='g' to disable scientific notation\n",
    "\n",
    "# labels, title and ticks\n",
    "ax.set_xlabel('Predicted labels');\n",
    "ax.set_ylabel('True labels'); \n",
    "ax.set_title('Confusion Matrix'); \n",
    "ax.xaxis.set_ticklabels(labels); ax.yaxis.set_ticklabels(labels);\n",
    "plt.savefig(\"images/\" + seconds + \"/confusion_matrix_\" + str(epochs) + \"epochs.png\")"
   ]
  },
  {
   "cell_type": "code",
   "execution_count": null,
   "id": "c8965f6a",
   "metadata": {},
   "outputs": [],
   "source": []
  },
  {
   "cell_type": "code",
   "execution_count": null,
   "id": "bd49b6da",
   "metadata": {},
   "outputs": [],
   "source": []
  }
 ],
 "metadata": {
  "kernelspec": {
   "display_name": "Python 3 (ipykernel)",
   "language": "python",
   "name": "python3"
  },
  "language_info": {
   "codemirror_mode": {
    "name": "ipython",
    "version": 3
   },
   "file_extension": ".py",
   "mimetype": "text/x-python",
   "name": "python",
   "nbconvert_exporter": "python",
   "pygments_lexer": "ipython3",
   "version": "3.9.16"
  }
 },
 "nbformat": 4,
 "nbformat_minor": 5
}
