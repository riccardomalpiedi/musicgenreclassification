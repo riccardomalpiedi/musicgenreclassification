{
 "cells": [
  {
   "cell_type": "code",
   "execution_count": 1,
   "id": "1353d4ed",
   "metadata": {},
   "outputs": [],
   "source": [
    "import numpy as np\n",
    "import pandas as pd\n",
    "import tensorflow as tf\n",
    "from tensorflow import keras\n",
    "import seaborn as sn\n",
    "import matplotlib.pyplot as plt"
   ]
  },
  {
   "cell_type": "code",
   "execution_count": 2,
   "id": "884fcc38",
   "metadata": {},
   "outputs": [
    {
     "data": {
      "text/plain": [
       "(1000, 38400)"
      ]
     },
     "execution_count": 2,
     "metadata": {},
     "output_type": "execute_result"
    }
   ],
   "source": [
    "X_data = np.loadtxt(\"data/X_data.csv\", delimiter=\",\")\n",
    "X_data.shape"
   ]
  },
  {
   "cell_type": "code",
   "execution_count": 3,
   "id": "525fb095",
   "metadata": {},
   "outputs": [
    {
     "data": {
      "text/plain": [
       "array([[  0.28048742,   3.72830677,   3.19126654, ..., -45.90468216,\n",
       "        -45.90468216, -42.39907837],\n",
       "       [ -2.58110476,  13.3120842 ,   2.01552916, ..., -49.64926147,\n",
       "        -49.64926147, -37.44506454],\n",
       "       [ -2.15358114,  -7.61195707,  -4.13224602, ..., -50.49839783,\n",
       "        -50.49839783, -35.67107391],\n",
       "       ...,\n",
       "       [-15.86331844, -12.50350857, -28.52645874, ..., -58.88102722,\n",
       "        -58.88102722, -31.27197647],\n",
       "       [ -4.51956177,  -9.57658386,  -3.12049174, ..., -54.87487793,\n",
       "        -54.87487793, -51.62145996],\n",
       "       [-21.03319359, -23.70036888, -20.64584732, ..., -60.84477997,\n",
       "        -60.84477997, -60.84477997]])"
      ]
     },
     "execution_count": 3,
     "metadata": {},
     "output_type": "execute_result"
    }
   ],
   "source": [
    "X_data"
   ]
  },
  {
   "cell_type": "code",
   "execution_count": 4,
   "id": "108b1d84",
   "metadata": {},
   "outputs": [
    {
     "data": {
      "text/plain": [
       "(1000,)"
      ]
     },
     "execution_count": 4,
     "metadata": {},
     "output_type": "execute_result"
    }
   ],
   "source": [
    "y_data = np.loadtxt(\"data/y_data.csv\", dtype=str)\n",
    "y_data.shape"
   ]
  },
  {
   "cell_type": "code",
   "execution_count": 5,
   "id": "d944b93d",
   "metadata": {},
   "outputs": [
    {
     "data": {
      "text/plain": [
       "array(['blues', 'blues', 'blues', 'blues', 'blues', 'blues', 'blues',\n",
       "       'blues', 'blues', 'blues', 'blues', 'blues', 'blues', 'blues',\n",
       "       'blues', 'blues', 'blues', 'blues', 'blues', 'blues', 'blues',\n",
       "       'blues', 'blues', 'blues', 'blues', 'blues', 'blues', 'blues',\n",
       "       'blues', 'blues', 'blues', 'blues', 'blues', 'blues', 'blues',\n",
       "       'blues', 'blues', 'blues', 'blues', 'blues', 'blues', 'blues',\n",
       "       'blues', 'blues', 'blues', 'blues', 'blues', 'blues', 'blues',\n",
       "       'blues', 'blues', 'blues', 'blues', 'blues', 'blues', 'blues',\n",
       "       'blues', 'blues', 'blues', 'blues', 'blues', 'blues', 'blues',\n",
       "       'blues', 'blues', 'blues', 'blues', 'blues', 'blues', 'blues',\n",
       "       'blues', 'blues', 'blues', 'blues', 'blues', 'blues', 'blues',\n",
       "       'blues', 'blues', 'blues', 'blues', 'blues', 'blues', 'blues',\n",
       "       'blues', 'blues', 'blues', 'blues', 'blues', 'blues', 'blues',\n",
       "       'blues', 'blues', 'blues', 'blues', 'blues', 'blues', 'blues',\n",
       "       'blues', 'blues', 'classical', 'classical', 'classical',\n",
       "       'classical', 'classical', 'classical', 'classical', 'classical',\n",
       "       'classical', 'classical', 'classical', 'classical', 'classical',\n",
       "       'classical', 'classical', 'classical', 'classical', 'classical',\n",
       "       'classical', 'classical', 'classical', 'classical', 'classical',\n",
       "       'classical', 'classical', 'classical', 'classical', 'classical',\n",
       "       'classical', 'classical', 'classical', 'classical', 'classical',\n",
       "       'classical', 'classical', 'classical', 'classical', 'classical',\n",
       "       'classical', 'classical', 'classical', 'classical', 'classical',\n",
       "       'classical', 'classical', 'classical', 'classical', 'classical',\n",
       "       'classical', 'classical', 'classical', 'classical', 'classical',\n",
       "       'classical', 'classical', 'classical', 'classical', 'classical',\n",
       "       'classical', 'classical', 'classical', 'classical', 'classical',\n",
       "       'classical', 'classical', 'classical', 'classical', 'classical',\n",
       "       'classical', 'classical', 'classical', 'classical', 'classical',\n",
       "       'classical', 'classical', 'classical', 'classical', 'classical',\n",
       "       'classical', 'classical', 'classical', 'classical', 'classical',\n",
       "       'classical', 'classical', 'classical', 'classical', 'classical',\n",
       "       'classical', 'classical', 'classical', 'classical', 'classical',\n",
       "       'classical', 'classical', 'classical', 'classical', 'classical',\n",
       "       'classical', 'classical', 'country', 'country', 'country',\n",
       "       'country', 'country', 'country', 'country', 'country', 'country',\n",
       "       'country', 'country', 'country', 'country', 'country', 'country',\n",
       "       'country', 'country', 'country', 'country', 'country', 'country',\n",
       "       'country', 'country', 'country', 'country', 'country', 'country',\n",
       "       'country', 'country', 'country', 'country', 'country', 'country',\n",
       "       'country', 'country', 'country', 'country', 'country', 'country',\n",
       "       'country', 'country', 'country', 'country', 'country', 'country',\n",
       "       'country', 'country', 'country', 'country', 'country', 'country',\n",
       "       'country', 'country', 'country', 'country', 'country', 'country',\n",
       "       'country', 'country', 'country', 'country', 'country', 'country',\n",
       "       'country', 'country', 'country', 'country', 'country', 'country',\n",
       "       'country', 'country', 'country', 'country', 'country', 'country',\n",
       "       'country', 'country', 'country', 'country', 'country', 'country',\n",
       "       'country', 'country', 'country', 'country', 'country', 'country',\n",
       "       'country', 'country', 'country', 'country', 'country', 'country',\n",
       "       'country', 'country', 'country', 'country', 'country', 'country',\n",
       "       'country', 'disco', 'disco', 'disco', 'disco', 'disco', 'disco',\n",
       "       'disco', 'disco', 'disco', 'disco', 'disco', 'disco', 'disco',\n",
       "       'disco', 'disco', 'disco', 'disco', 'disco', 'disco', 'disco',\n",
       "       'disco', 'disco', 'disco', 'disco', 'disco', 'disco', 'disco',\n",
       "       'disco', 'disco', 'disco', 'disco', 'disco', 'disco', 'disco',\n",
       "       'disco', 'disco', 'disco', 'disco', 'disco', 'disco', 'disco',\n",
       "       'disco', 'disco', 'disco', 'disco', 'disco', 'disco', 'disco',\n",
       "       'disco', 'disco', 'disco', 'disco', 'disco', 'disco', 'disco',\n",
       "       'disco', 'disco', 'disco', 'disco', 'disco', 'disco', 'disco',\n",
       "       'disco', 'disco', 'disco', 'disco', 'disco', 'disco', 'disco',\n",
       "       'disco', 'disco', 'disco', 'disco', 'disco', 'disco', 'disco',\n",
       "       'disco', 'disco', 'disco', 'disco', 'disco', 'disco', 'disco',\n",
       "       'disco', 'disco', 'disco', 'disco', 'disco', 'disco', 'disco',\n",
       "       'disco', 'disco', 'disco', 'disco', 'disco', 'disco', 'disco',\n",
       "       'disco', 'disco', 'disco', 'hiphop', 'hiphop', 'hiphop', 'hiphop',\n",
       "       'hiphop', 'hiphop', 'hiphop', 'hiphop', 'hiphop', 'hiphop',\n",
       "       'hiphop', 'hiphop', 'hiphop', 'hiphop', 'hiphop', 'hiphop',\n",
       "       'hiphop', 'hiphop', 'hiphop', 'hiphop', 'hiphop', 'hiphop',\n",
       "       'hiphop', 'hiphop', 'hiphop', 'hiphop', 'hiphop', 'hiphop',\n",
       "       'hiphop', 'hiphop', 'hiphop', 'hiphop', 'hiphop', 'hiphop',\n",
       "       'hiphop', 'hiphop', 'hiphop', 'hiphop', 'hiphop', 'hiphop',\n",
       "       'hiphop', 'hiphop', 'hiphop', 'hiphop', 'hiphop', 'hiphop',\n",
       "       'hiphop', 'hiphop', 'hiphop', 'hiphop', 'hiphop', 'hiphop',\n",
       "       'hiphop', 'hiphop', 'hiphop', 'hiphop', 'hiphop', 'hiphop',\n",
       "       'hiphop', 'hiphop', 'hiphop', 'hiphop', 'hiphop', 'hiphop',\n",
       "       'hiphop', 'hiphop', 'hiphop', 'hiphop', 'hiphop', 'hiphop',\n",
       "       'hiphop', 'hiphop', 'hiphop', 'hiphop', 'hiphop', 'hiphop',\n",
       "       'hiphop', 'hiphop', 'hiphop', 'hiphop', 'hiphop', 'hiphop',\n",
       "       'hiphop', 'hiphop', 'hiphop', 'hiphop', 'hiphop', 'hiphop',\n",
       "       'hiphop', 'hiphop', 'hiphop', 'hiphop', 'hiphop', 'hiphop',\n",
       "       'hiphop', 'hiphop', 'hiphop', 'hiphop', 'hiphop', 'hiphop', 'jazz',\n",
       "       'jazz', 'jazz', 'jazz', 'jazz', 'jazz', 'jazz', 'jazz', 'jazz',\n",
       "       'jazz', 'jazz', 'jazz', 'jazz', 'jazz', 'jazz', 'jazz', 'jazz',\n",
       "       'jazz', 'jazz', 'jazz', 'jazz', 'jazz', 'jazz', 'jazz', 'jazz',\n",
       "       'jazz', 'jazz', 'jazz', 'jazz', 'jazz', 'jazz', 'jazz', 'jazz',\n",
       "       'jazz', 'jazz', 'jazz', 'jazz', 'jazz', 'jazz', 'jazz', 'jazz',\n",
       "       'jazz', 'jazz', 'jazz', 'jazz', 'jazz', 'jazz', 'jazz', 'jazz',\n",
       "       'jazz', 'jazz', 'jazz', 'jazz', 'jazz', 'jazz', 'jazz', 'jazz',\n",
       "       'jazz', 'jazz', 'jazz', 'jazz', 'jazz', 'jazz', 'jazz', 'jazz',\n",
       "       'jazz', 'jazz', 'jazz', 'jazz', 'jazz', 'jazz', 'jazz', 'jazz',\n",
       "       'jazz', 'jazz', 'jazz', 'jazz', 'jazz', 'jazz', 'jazz', 'jazz',\n",
       "       'jazz', 'jazz', 'jazz', 'jazz', 'jazz', 'jazz', 'jazz', 'jazz',\n",
       "       'jazz', 'jazz', 'jazz', 'jazz', 'jazz', 'jazz', 'jazz', 'jazz',\n",
       "       'jazz', 'jazz', 'jazz', 'metal', 'metal', 'metal', 'metal',\n",
       "       'metal', 'metal', 'metal', 'metal', 'metal', 'metal', 'metal',\n",
       "       'metal', 'metal', 'metal', 'metal', 'metal', 'metal', 'metal',\n",
       "       'metal', 'metal', 'metal', 'metal', 'metal', 'metal', 'metal',\n",
       "       'metal', 'metal', 'metal', 'metal', 'metal', 'metal', 'metal',\n",
       "       'metal', 'metal', 'metal', 'metal', 'metal', 'metal', 'metal',\n",
       "       'metal', 'metal', 'metal', 'metal', 'metal', 'metal', 'metal',\n",
       "       'metal', 'metal', 'metal', 'metal', 'metal', 'metal', 'metal',\n",
       "       'metal', 'metal', 'metal', 'metal', 'metal', 'metal', 'metal',\n",
       "       'metal', 'metal', 'metal', 'metal', 'metal', 'metal', 'metal',\n",
       "       'metal', 'metal', 'metal', 'metal', 'metal', 'metal', 'metal',\n",
       "       'metal', 'metal', 'metal', 'metal', 'metal', 'metal', 'metal',\n",
       "       'metal', 'metal', 'metal', 'metal', 'metal', 'metal', 'metal',\n",
       "       'metal', 'metal', 'metal', 'metal', 'metal', 'metal', 'metal',\n",
       "       'metal', 'metal', 'metal', 'metal', 'metal', 'pop', 'pop', 'pop',\n",
       "       'pop', 'pop', 'pop', 'pop', 'pop', 'pop', 'pop', 'pop', 'pop',\n",
       "       'pop', 'pop', 'pop', 'pop', 'pop', 'pop', 'pop', 'pop', 'pop',\n",
       "       'pop', 'pop', 'pop', 'pop', 'pop', 'pop', 'pop', 'pop', 'pop',\n",
       "       'pop', 'pop', 'pop', 'pop', 'pop', 'pop', 'pop', 'pop', 'pop',\n",
       "       'pop', 'pop', 'pop', 'pop', 'pop', 'pop', 'pop', 'pop', 'pop',\n",
       "       'pop', 'pop', 'pop', 'pop', 'pop', 'pop', 'pop', 'pop', 'pop',\n",
       "       'pop', 'pop', 'pop', 'pop', 'pop', 'pop', 'pop', 'pop', 'pop',\n",
       "       'pop', 'pop', 'pop', 'pop', 'pop', 'pop', 'pop', 'pop', 'pop',\n",
       "       'pop', 'pop', 'pop', 'pop', 'pop', 'pop', 'pop', 'pop', 'pop',\n",
       "       'pop', 'pop', 'pop', 'pop', 'pop', 'pop', 'pop', 'pop', 'pop',\n",
       "       'pop', 'pop', 'pop', 'pop', 'pop', 'pop', 'pop', 'reggae',\n",
       "       'reggae', 'reggae', 'reggae', 'reggae', 'reggae', 'reggae',\n",
       "       'reggae', 'reggae', 'reggae', 'reggae', 'reggae', 'reggae',\n",
       "       'reggae', 'reggae', 'reggae', 'reggae', 'reggae', 'reggae',\n",
       "       'reggae', 'reggae', 'reggae', 'reggae', 'reggae', 'reggae',\n",
       "       'reggae', 'reggae', 'reggae', 'reggae', 'reggae', 'reggae',\n",
       "       'reggae', 'reggae', 'reggae', 'reggae', 'reggae', 'reggae',\n",
       "       'reggae', 'reggae', 'reggae', 'reggae', 'reggae', 'reggae',\n",
       "       'reggae', 'reggae', 'reggae', 'reggae', 'reggae', 'reggae',\n",
       "       'reggae', 'reggae', 'reggae', 'reggae', 'reggae', 'reggae',\n",
       "       'reggae', 'reggae', 'reggae', 'reggae', 'reggae', 'reggae',\n",
       "       'reggae', 'reggae', 'reggae', 'reggae', 'reggae', 'reggae',\n",
       "       'reggae', 'reggae', 'reggae', 'reggae', 'reggae', 'reggae',\n",
       "       'reggae', 'reggae', 'reggae', 'reggae', 'reggae', 'reggae',\n",
       "       'reggae', 'reggae', 'reggae', 'reggae', 'reggae', 'reggae',\n",
       "       'reggae', 'reggae', 'reggae', 'reggae', 'reggae', 'reggae',\n",
       "       'reggae', 'reggae', 'reggae', 'reggae', 'reggae', 'reggae',\n",
       "       'reggae', 'reggae', 'reggae', 'rock', 'rock', 'rock', 'rock',\n",
       "       'rock', 'rock', 'rock', 'rock', 'rock', 'rock', 'rock', 'rock',\n",
       "       'rock', 'rock', 'rock', 'rock', 'rock', 'rock', 'rock', 'rock',\n",
       "       'rock', 'rock', 'rock', 'rock', 'rock', 'rock', 'rock', 'rock',\n",
       "       'rock', 'rock', 'rock', 'rock', 'rock', 'rock', 'rock', 'rock',\n",
       "       'rock', 'rock', 'rock', 'rock', 'rock', 'rock', 'rock', 'rock',\n",
       "       'rock', 'rock', 'rock', 'rock', 'rock', 'rock', 'rock', 'rock',\n",
       "       'rock', 'rock', 'rock', 'rock', 'rock', 'rock', 'rock', 'rock',\n",
       "       'rock', 'rock', 'rock', 'rock', 'rock', 'rock', 'rock', 'rock',\n",
       "       'rock', 'rock', 'rock', 'rock', 'rock', 'rock', 'rock', 'rock',\n",
       "       'rock', 'rock', 'rock', 'rock', 'rock', 'rock', 'rock', 'rock',\n",
       "       'rock', 'rock', 'rock', 'rock', 'rock', 'rock', 'rock', 'rock',\n",
       "       'rock', 'rock', 'rock', 'rock', 'rock', 'rock', 'rock', 'rock'],\n",
       "      dtype='<U9')"
      ]
     },
     "execution_count": 5,
     "metadata": {},
     "output_type": "execute_result"
    }
   ],
   "source": [
    "y_data"
   ]
  },
  {
   "cell_type": "code",
   "execution_count": 6,
   "id": "7775c49d",
   "metadata": {},
   "outputs": [
    {
     "data": {
      "text/plain": [
       "array(['blues', 'classical', 'country', 'disco', 'hiphop', 'jazz',\n",
       "       'metal', 'pop', 'reggae', 'rock'], dtype='<U9')"
      ]
     },
     "execution_count": 6,
     "metadata": {},
     "output_type": "execute_result"
    }
   ],
   "source": [
    "labels = np.unique(y_data)\n",
    "labels"
   ]
  },
  {
   "cell_type": "code",
   "execution_count": 7,
   "id": "cee9988f",
   "metadata": {
    "scrolled": true
   },
   "outputs": [
    {
     "data": {
      "text/plain": [
       "array([[1., 0., 0., ..., 0., 0., 0.],\n",
       "       [1., 0., 0., ..., 0., 0., 0.],\n",
       "       [1., 0., 0., ..., 0., 0., 0.],\n",
       "       ...,\n",
       "       [0., 0., 0., ..., 0., 0., 1.],\n",
       "       [0., 0., 0., ..., 0., 0., 1.],\n",
       "       [0., 0., 0., ..., 0., 0., 1.]])"
      ]
     },
     "execution_count": 7,
     "metadata": {},
     "output_type": "execute_result"
    }
   ],
   "source": [
    "y_data2 = np.zeros((y_data.shape[0], len(labels)))\n",
    "\n",
    "for i, label in enumerate(labels):\n",
    "    for j in range(y_data.shape[0]):\n",
    "        if y_data[j] == label:\n",
    "            y_data2[j][i] = 1\n",
    "            \n",
    "y_data2"
   ]
  },
  {
   "cell_type": "code",
   "execution_count": 8,
   "id": "3e7cb6bc",
   "metadata": {
    "scrolled": true
   },
   "outputs": [
    {
     "data": {
      "text/plain": [
       "array([[[  0.28048742,   3.72830677,   3.19126654, ...,   6.14212751,\n",
       "          -1.98371422,  12.92064667],\n",
       "        [  3.10127735,  14.22969437,  11.79866219, ...,  10.4456377 ,\n",
       "           5.20716858,  15.11762428],\n",
       "        [ -4.39976215,  10.78109169,  12.30222225, ...,  -0.17950238,\n",
       "           6.4920702 ,  13.78956223],\n",
       "        ...,\n",
       "        [-45.90468216, -45.90468216, -45.90468216, ..., -45.90468216,\n",
       "         -45.90468216, -42.06035614],\n",
       "        [-45.90468216, -45.90468216, -45.90468216, ..., -45.90468216,\n",
       "         -45.90468216, -42.29415131],\n",
       "        [-45.90468216, -45.90468216, -45.90468216, ..., -45.90468216,\n",
       "         -45.90468216, -42.39907837]],\n",
       "\n",
       "       [[ -2.58110476,  13.3120842 ,   2.01552916, ...,   0.45536363,\n",
       "          12.62303734,   9.48605347],\n",
       "        [ -1.35699916,  24.61754227,  13.61273861, ...,   8.17651463,\n",
       "          18.54008102,  16.74104881],\n",
       "        [ -7.55361128,  19.53930855,  14.08666611, ...,   8.84458733,\n",
       "          11.41815948,  13.66756248],\n",
       "        ...,\n",
       "        [-49.64926147, -49.64926147, -49.64926147, ..., -49.64926147,\n",
       "         -49.64926147, -37.22035217],\n",
       "        [-49.64926147, -49.64926147, -49.64926147, ..., -49.64926147,\n",
       "         -49.64926147, -37.36601639],\n",
       "        [-49.64926147, -49.64926147, -49.64926147, ..., -49.64926147,\n",
       "         -49.64926147, -37.44506454]],\n",
       "\n",
       "       [[ -2.15358114,  -7.61195707,  -4.13224602, ...,   9.3029232 ,\n",
       "           8.57606316,  -2.87754512],\n",
       "        [  8.41343594,   5.55776644,  -2.91569495, ...,  12.09691429,\n",
       "          11.52791977,   5.6033082 ],\n",
       "        [ 15.20326138,  11.36775017,   3.92468548, ...,  18.01969337,\n",
       "          16.67443275,  10.38411617],\n",
       "        ...,\n",
       "        [-50.49839783, -50.49839783, -50.49839783, ..., -50.49839783,\n",
       "         -50.49839783, -35.33242798],\n",
       "        [-50.49839783, -50.49839783, -50.49839783, ..., -50.49839783,\n",
       "         -50.49839783, -35.57148361],\n",
       "        [-50.49839783, -50.49839783, -50.49839783, ..., -50.49839783,\n",
       "         -50.49839783, -35.67107391]],\n",
       "\n",
       "       ...,\n",
       "\n",
       "       [[-15.86331844, -12.50350857, -28.52645874, ...,  -1.98057055,\n",
       "         -14.97267818,  -1.17860353],\n",
       "        [ -7.99864483,  -6.13870239,  -3.78151655, ...,  12.16443253,\n",
       "          -1.19246638,   1.81942761],\n",
       "        [ -2.08711338,  -6.0700326 ,  -4.91538811, ...,  15.2064209 ,\n",
       "           7.99641371,   8.34650612],\n",
       "        ...,\n",
       "        [-55.62298584, -58.88102722, -58.88102722, ..., -58.61043549,\n",
       "         -53.73719788, -30.92585564],\n",
       "        [-56.20801544, -58.88102722, -58.88102722, ..., -58.88102722,\n",
       "         -58.88102722, -31.15576935],\n",
       "        [-56.44928741, -58.88102722, -58.88102722, ..., -58.88102722,\n",
       "         -58.88102722, -31.27197647]],\n",
       "\n",
       "       [[ -4.51956177,  -9.57658386,  -3.12049174, ...,  -2.72686291,\n",
       "          -0.83332026,  -0.46008092],\n",
       "        [  4.84572506,  10.43822098,   0.6397748 , ...,   6.51932144,\n",
       "           9.02947807,   3.00911212],\n",
       "        [ 12.48102093,  13.40070629,   7.16884804, ...,   7.05125713,\n",
       "          12.8967104 ,   5.96245575],\n",
       "        ...,\n",
       "        [-48.27846146, -54.87487793, -54.87487793, ..., -54.87487793,\n",
       "         -54.87487793, -51.39247894],\n",
       "        [-48.85231018, -54.87487793, -54.87487793, ..., -54.87487793,\n",
       "         -54.87487793, -51.50120163],\n",
       "        [-49.15665054, -54.87487793, -54.87487793, ..., -54.87487793,\n",
       "         -54.87487793, -51.62145996]],\n",
       "\n",
       "       [[-21.03319359, -23.70036888, -20.64584732, ..., -22.23006821,\n",
       "         -25.18108749,  -4.15042686],\n",
       "        [ -6.14806223,  -3.41666436,  -4.81445408, ...,   3.43874812,\n",
       "           1.9127605 ,   7.27839375],\n",
       "        [ -1.4148432 ,  -2.86879349,   7.68261909, ...,   2.54500604,\n",
       "          -0.09642466,   6.70595694],\n",
       "        ...,\n",
       "        [-59.39182663, -60.84477997, -60.84477997, ..., -60.84477997,\n",
       "         -60.84477997, -60.75209808],\n",
       "        [-59.95914078, -60.84477997, -60.84477997, ..., -60.84477997,\n",
       "         -60.84477997, -60.84477997],\n",
       "        [-60.23310089, -60.84477997, -60.84477997, ..., -60.84477997,\n",
       "         -60.84477997, -60.84477997]]])"
      ]
     },
     "execution_count": 8,
     "metadata": {},
     "output_type": "execute_result"
    }
   ],
   "source": [
    "X_data2 = X_data.reshape(1000, 128, 300)\n",
    "X_data2"
   ]
  },
  {
   "cell_type": "code",
   "execution_count": 9,
   "id": "44a6afe7",
   "metadata": {},
   "outputs": [
    {
     "data": {
      "text/plain": [
       "(1000, 128, 300, 1)"
      ]
     },
     "execution_count": 9,
     "metadata": {},
     "output_type": "execute_result"
    }
   ],
   "source": [
    "X_data2 = X_data2.reshape(1000, 128, 300, 1)\n",
    "X_data2.shape"
   ]
  },
  {
   "cell_type": "code",
   "execution_count": 10,
   "id": "413cb252",
   "metadata": {},
   "outputs": [
    {
     "name": "stdout",
     "output_type": "stream",
     "text": [
      "(800, 128, 300, 1)\n",
      "(200, 128, 300, 1)\n",
      "(800, 10)\n",
      "(200, 10)\n"
     ]
    }
   ],
   "source": [
    "from sklearn.model_selection import train_test_split\n",
    "\n",
    "X_train, X_test, y_train, y_test = train_test_split(X_data2, y_data2, test_size=0.2)\n",
    "print(X_train.shape)\n",
    "print(X_test.shape)\n",
    "print(y_train.shape)\n",
    "print(y_test.shape)"
   ]
  },
  {
   "cell_type": "code",
   "execution_count": 11,
   "id": "94af2b2a",
   "metadata": {},
   "outputs": [],
   "source": [
    "def conv_block(x, n_filters,filter_size=(3, 3), pool_size=(2, 2),stride=(1, 1)):\n",
    "    x = keras.layers.Conv2D(n_filters, filter_size, strides=(1, 1), padding='same')(x)\n",
    "    x = keras.layers.Activation('relu')(x)\n",
    "    x = keras.layers.MaxPooling2D(pool_size=pool_size, strides=stride)(x)\n",
    "    x = keras.layers.Dropout(0.4)(x)\n",
    "    return x"
   ]
  },
  {
   "cell_type": "code",
   "execution_count": 12,
   "id": "78c5f9a1",
   "metadata": {},
   "outputs": [],
   "source": [
    "nn_input = keras.Input(shape=(128,300,1))"
   ]
  },
  {
   "cell_type": "code",
   "execution_count": 13,
   "id": "cbb8685c",
   "metadata": {},
   "outputs": [],
   "source": [
    "x = conv_block(nn_input, 16,stride=(2,2))\n",
    "x = conv_block(x, 32,filter_size=(3,3),stride=(2,2))\n",
    "x = conv_block(x, 64, stride=(2,2))\n",
    "x = conv_block(x, 128,filter_size=(3,3),stride=(2,2))\n",
    "x = conv_block(x, 256,stride=(2,2))\n",
    "\n",
    "x = keras.layers.Flatten()(x)\n",
    "x = keras.layers.Dropout(0.5)(x)\n",
    "x = keras.layers.Dense(128, activation='relu', \n",
    "          kernel_regularizer=tf.keras.regularizers.l2(0.01))(x)\n",
    "x = keras.layers.Dropout(0.3)(x)\n",
    "predictions = keras.layers.Dense(len(labels), \n",
    "                        activation='softmax', \n",
    "                        kernel_regularizer=tf.keras.regularizers.l2(0.01))(x)\n",
    "    \n",
    "model = keras.Model(inputs=nn_input, outputs=predictions)"
   ]
  },
  {
   "cell_type": "code",
   "execution_count": 14,
   "id": "8a7a1e24",
   "metadata": {},
   "outputs": [
    {
     "name": "stdout",
     "output_type": "stream",
     "text": [
      "Model: \"functional_1\"\n",
      "_________________________________________________________________\n",
      "Layer (type)                 Output Shape              Param #   \n",
      "=================================================================\n",
      "input_1 (InputLayer)         [(None, 128, 300, 1)]     0         \n",
      "_________________________________________________________________\n",
      "conv2d (Conv2D)              (None, 128, 300, 16)      160       \n",
      "_________________________________________________________________\n",
      "activation (Activation)      (None, 128, 300, 16)      0         \n",
      "_________________________________________________________________\n",
      "max_pooling2d (MaxPooling2D) (None, 64, 150, 16)       0         \n",
      "_________________________________________________________________\n",
      "dropout (Dropout)            (None, 64, 150, 16)       0         \n",
      "_________________________________________________________________\n",
      "conv2d_1 (Conv2D)            (None, 64, 150, 32)       4640      \n",
      "_________________________________________________________________\n",
      "activation_1 (Activation)    (None, 64, 150, 32)       0         \n",
      "_________________________________________________________________\n",
      "max_pooling2d_1 (MaxPooling2 (None, 32, 75, 32)        0         \n",
      "_________________________________________________________________\n",
      "dropout_1 (Dropout)          (None, 32, 75, 32)        0         \n",
      "_________________________________________________________________\n",
      "conv2d_2 (Conv2D)            (None, 32, 75, 64)        18496     \n",
      "_________________________________________________________________\n",
      "activation_2 (Activation)    (None, 32, 75, 64)        0         \n",
      "_________________________________________________________________\n",
      "max_pooling2d_2 (MaxPooling2 (None, 16, 37, 64)        0         \n",
      "_________________________________________________________________\n",
      "dropout_2 (Dropout)          (None, 16, 37, 64)        0         \n",
      "_________________________________________________________________\n",
      "conv2d_3 (Conv2D)            (None, 16, 37, 128)       73856     \n",
      "_________________________________________________________________\n",
      "activation_3 (Activation)    (None, 16, 37, 128)       0         \n",
      "_________________________________________________________________\n",
      "max_pooling2d_3 (MaxPooling2 (None, 8, 18, 128)        0         \n",
      "_________________________________________________________________\n",
      "dropout_3 (Dropout)          (None, 8, 18, 128)        0         \n",
      "_________________________________________________________________\n",
      "conv2d_4 (Conv2D)            (None, 8, 18, 256)        295168    \n",
      "_________________________________________________________________\n",
      "activation_4 (Activation)    (None, 8, 18, 256)        0         \n",
      "_________________________________________________________________\n",
      "max_pooling2d_4 (MaxPooling2 (None, 4, 9, 256)         0         \n",
      "_________________________________________________________________\n",
      "dropout_4 (Dropout)          (None, 4, 9, 256)         0         \n",
      "_________________________________________________________________\n",
      "flatten (Flatten)            (None, 9216)              0         \n",
      "_________________________________________________________________\n",
      "dropout_5 (Dropout)          (None, 9216)              0         \n",
      "_________________________________________________________________\n",
      "dense (Dense)                (None, 128)               1179776   \n",
      "_________________________________________________________________\n",
      "dropout_6 (Dropout)          (None, 128)               0         \n",
      "_________________________________________________________________\n",
      "dense_1 (Dense)              (None, 10)                1290      \n",
      "=================================================================\n",
      "Total params: 1,573,386\n",
      "Trainable params: 1,573,386\n",
      "Non-trainable params: 0\n",
      "_________________________________________________________________\n"
     ]
    }
   ],
   "source": [
    "model.summary()"
   ]
  },
  {
   "cell_type": "code",
   "execution_count": 15,
   "id": "be2b7e46",
   "metadata": {},
   "outputs": [],
   "source": [
    "model.compile(loss=tf.keras.losses.categorical_crossentropy,\n",
    "              optimizer=tf.keras.optimizers.Adam(learning_rate=0.001),\n",
    "              metrics=['accuracy'])"
   ]
  },
  {
   "cell_type": "code",
   "execution_count": 16,
   "id": "10a166e0",
   "metadata": {},
   "outputs": [
    {
     "data": {
      "text/plain": [
       "(800, 128, 300, 1)"
      ]
     },
     "execution_count": 16,
     "metadata": {},
     "output_type": "execute_result"
    }
   ],
   "source": [
    "X_train.shape"
   ]
  },
  {
   "cell_type": "code",
   "execution_count": 17,
   "id": "96dceb20",
   "metadata": {},
   "outputs": [
    {
     "data": {
      "text/plain": [
       "(800, 10)"
      ]
     },
     "execution_count": 17,
     "metadata": {},
     "output_type": "execute_result"
    }
   ],
   "source": [
    "y_train.shape"
   ]
  },
  {
   "cell_type": "code",
   "execution_count": 18,
   "id": "84c94100",
   "metadata": {},
   "outputs": [
    {
     "name": "stdout",
     "output_type": "stream",
     "text": [
      "23/23 [==============================] - 26s 1s/step - loss: 11.1391 - accuracy: 0.0750 - val_loss: 4.9724 - val_accuracy: 0.1375\n",
      "23/23 [==============================] - 24s 1s/step - loss: 4.9472 - accuracy: 0.1111 - val_loss: 4.8965 - val_accuracy: 0.0875\n",
      "23/23 [==============================] - 25s 1s/step - loss: 4.8269 - accuracy: 0.1264 - val_loss: 4.7699 - val_accuracy: 0.1375\n",
      "23/23 [==============================] - 22s 978ms/step - loss: 4.6916 - accuracy: 0.1347 - val_loss: 4.6467 - val_accuracy: 0.0750\n",
      "23/23 [==============================] - 22s 975ms/step - loss: 4.5573 - accuracy: 0.1403 - val_loss: 4.5241 - val_accuracy: 0.0875\n",
      "23/23 [==============================] - 22s 975ms/step - loss: 4.4148 - accuracy: 0.1389 - val_loss: 4.4054 - val_accuracy: 0.0875\n",
      "23/23 [==============================] - 23s 987ms/step - loss: 4.2397 - accuracy: 0.1792 - val_loss: 4.2576 - val_accuracy: 0.2125\n",
      "23/23 [==============================] - 23s 994ms/step - loss: 4.0924 - accuracy: 0.1861 - val_loss: 4.1104 - val_accuracy: 0.2500\n",
      "23/23 [==============================] - 22s 969ms/step - loss: 3.9324 - accuracy: 0.2278 - val_loss: 3.9485 - val_accuracy: 0.4125\n",
      "23/23 [==============================] - 23s 999ms/step - loss: 3.8332 - accuracy: 0.2500 - val_loss: 3.8540 - val_accuracy: 0.3000\n",
      "23/23 [==============================] - 22s 969ms/step - loss: 3.6967 - accuracy: 0.2667 - val_loss: 3.7867 - val_accuracy: 0.2375\n",
      "23/23 [==============================] - 22s 965ms/step - loss: 3.5064 - accuracy: 0.3028 - val_loss: 3.7018 - val_accuracy: 0.2375\n",
      "23/23 [==============================] - 22s 971ms/step - loss: 3.3683 - accuracy: 0.3208 - val_loss: 3.5513 - val_accuracy: 0.3000\n",
      "23/23 [==============================] - 22s 977ms/step - loss: 3.2804 - accuracy: 0.3361 - val_loss: 3.3603 - val_accuracy: 0.4875\n",
      "23/23 [==============================] - 23s 985ms/step - loss: 3.1947 - accuracy: 0.3597 - val_loss: 3.4749 - val_accuracy: 0.2625\n",
      "23/23 [==============================] - 23s 982ms/step - loss: 3.0885 - accuracy: 0.3625 - val_loss: 3.3276 - val_accuracy: 0.3375\n",
      "23/23 [==============================] - 22s 977ms/step - loss: 2.9373 - accuracy: 0.4042 - val_loss: 3.0562 - val_accuracy: 0.4500\n",
      "23/23 [==============================] - 22s 977ms/step - loss: 2.9367 - accuracy: 0.3819 - val_loss: 3.1933 - val_accuracy: 0.3625\n",
      "23/23 [==============================] - 23s 982ms/step - loss: 2.8136 - accuracy: 0.4236 - val_loss: 3.0930 - val_accuracy: 0.2750\n",
      "23/23 [==============================] - 24s 1s/step - loss: 2.8319 - accuracy: 0.4014 - val_loss: 3.0769 - val_accuracy: 0.3500\n",
      "23/23 [==============================] - 25s 1s/step - loss: 2.6576 - accuracy: 0.4667 - val_loss: 2.7965 - val_accuracy: 0.4500\n",
      "23/23 [==============================] - 26s 1s/step - loss: 2.6130 - accuracy: 0.4569 - val_loss: 2.8116 - val_accuracy: 0.4875\n",
      "23/23 [==============================] - 23s 998ms/step - loss: 2.4947 - accuracy: 0.4694 - val_loss: 2.7846 - val_accuracy: 0.3750\n",
      "23/23 [==============================] - 23s 997ms/step - loss: 2.4234 - accuracy: 0.5181 - val_loss: 2.5696 - val_accuracy: 0.5875\n",
      "23/23 [==============================] - 26s 1s/step - loss: 2.4591 - accuracy: 0.4778 - val_loss: 2.7606 - val_accuracy: 0.4500\n",
      "23/23 [==============================] - 23s 990ms/step - loss: 2.3070 - accuracy: 0.5403 - val_loss: 2.4346 - val_accuracy: 0.6250\n",
      "23/23 [==============================] - 23s 1s/step - loss: 2.3587 - accuracy: 0.4958 - val_loss: 2.7426 - val_accuracy: 0.3250\n",
      "23/23 [==============================] - 26s 1s/step - loss: 2.3011 - accuracy: 0.4875 - val_loss: 2.4236 - val_accuracy: 0.5250\n",
      "23/23 [==============================] - 22s 977ms/step - loss: 2.2427 - accuracy: 0.5153 - val_loss: 2.6106 - val_accuracy: 0.3500\n",
      "23/23 [==============================] - 24s 1s/step - loss: 2.2106 - accuracy: 0.5111 - val_loss: 2.5309 - val_accuracy: 0.4500\n",
      "23/23 [==============================] - 22s 969ms/step - loss: 2.1880 - accuracy: 0.5361 - val_loss: 2.3449 - val_accuracy: 0.5500\n",
      "23/23 [==============================] - 24s 1s/step - loss: 2.2308 - accuracy: 0.5042 - val_loss: 2.4608 - val_accuracy: 0.5750\n",
      "23/23 [==============================] - 23s 1s/step - loss: 2.1124 - accuracy: 0.5417 - val_loss: 2.3895 - val_accuracy: 0.5375\n",
      "23/23 [==============================] - 22s 968ms/step - loss: 2.0158 - accuracy: 0.5736 - val_loss: 2.2376 - val_accuracy: 0.5375\n",
      "23/23 [==============================] - 22s 967ms/step - loss: 2.0046 - accuracy: 0.5361 - val_loss: 2.3546 - val_accuracy: 0.4750\n",
      "23/23 [==============================] - 25s 1s/step - loss: 2.0252 - accuracy: 0.5500 - val_loss: 2.1945 - val_accuracy: 0.5625\n",
      "23/23 [==============================] - 22s 978ms/step - loss: 1.9714 - accuracy: 0.5319 - val_loss: 2.1794 - val_accuracy: 0.5625\n",
      "23/23 [==============================] - 22s 976ms/step - loss: 1.9079 - accuracy: 0.5653 - val_loss: 2.1492 - val_accuracy: 0.5875\n",
      "23/23 [==============================] - 22s 977ms/step - loss: 1.8282 - accuracy: 0.5917 - val_loss: 2.1048 - val_accuracy: 0.6125\n",
      "23/23 [==============================] - 24s 1s/step - loss: 1.8332 - accuracy: 0.5792 - val_loss: 2.1946 - val_accuracy: 0.5000\n",
      "23/23 [==============================] - 25s 1s/step - loss: 1.8548 - accuracy: 0.5500 - val_loss: 2.0352 - val_accuracy: 0.6625\n",
      "23/23 [==============================] - 22s 970ms/step - loss: 1.8168 - accuracy: 0.5792 - val_loss: 2.0759 - val_accuracy: 0.6125\n",
      "23/23 [==============================] - 22s 970ms/step - loss: 1.7480 - accuracy: 0.6097 - val_loss: 1.9995 - val_accuracy: 0.5375\n",
      "23/23 [==============================] - 25s 1s/step - loss: 1.8059 - accuracy: 0.5778 - val_loss: 2.0172 - val_accuracy: 0.6250\n",
      "23/23 [==============================] - 22s 974ms/step - loss: 1.6623 - accuracy: 0.6333 - val_loss: 1.9272 - val_accuracy: 0.5875\n",
      "23/23 [==============================] - 22s 973ms/step - loss: 1.7164 - accuracy: 0.6250 - val_loss: 1.8625 - val_accuracy: 0.6875\n",
      "23/23 [==============================] - 26s 1s/step - loss: 1.6146 - accuracy: 0.6167 - val_loss: 2.0120 - val_accuracy: 0.5125\n",
      "23/23 [==============================] - 23s 979ms/step - loss: 1.7590 - accuracy: 0.5722 - val_loss: 2.0303 - val_accuracy: 0.6000\n",
      "23/23 [==============================] - 24s 1s/step - loss: 1.7439 - accuracy: 0.6097 - val_loss: 1.8176 - val_accuracy: 0.6625\n",
      "23/23 [==============================] - 23s 1s/step - loss: 1.6658 - accuracy: 0.6375 - val_loss: 1.8438 - val_accuracy: 0.6625\n",
      "23/23 [==============================] - 22s 960ms/step - loss: 1.6523 - accuracy: 0.6278 - val_loss: 1.8919 - val_accuracy: 0.6375\n",
      "23/23 [==============================] - 25s 1s/step - loss: 1.5993 - accuracy: 0.6444 - val_loss: 1.7321 - val_accuracy: 0.6625\n",
      "23/23 [==============================] - 25s 1s/step - loss: 1.5648 - accuracy: 0.6569 - val_loss: 1.8602 - val_accuracy: 0.6250\n",
      "23/23 [==============================] - 25s 1s/step - loss: 1.5839 - accuracy: 0.6403 - val_loss: 1.8583 - val_accuracy: 0.6500\n",
      "23/23 [==============================] - 24s 1s/step - loss: 1.5715 - accuracy: 0.6528 - val_loss: 1.7910 - val_accuracy: 0.6750\n",
      "23/23 [==============================] - 22s 968ms/step - loss: 1.5088 - accuracy: 0.6639 - val_loss: 1.7820 - val_accuracy: 0.6500\n",
      "23/23 [==============================] - 23s 997ms/step - loss: 1.5253 - accuracy: 0.6778 - val_loss: 1.8655 - val_accuracy: 0.6500\n",
      "23/23 [==============================] - 25s 1s/step - loss: 1.4746 - accuracy: 0.6958 - val_loss: 1.8286 - val_accuracy: 0.6125\n",
      "23/23 [==============================] - 23s 994ms/step - loss: 1.4570 - accuracy: 0.7069 - val_loss: 1.8132 - val_accuracy: 0.6125\n",
      "23/23 [==============================] - 23s 980ms/step - loss: 1.5635 - accuracy: 0.6639 - val_loss: 1.8233 - val_accuracy: 0.5875\n",
      "23/23 [==============================] - 29s 1s/step - loss: 1.4590 - accuracy: 0.7028 - val_loss: 1.7707 - val_accuracy: 0.6125\n",
      "23/23 [==============================] - 36s 2s/step - loss: 1.4261 - accuracy: 0.7236 - val_loss: 1.6416 - val_accuracy: 0.6750\n",
      "23/23 [==============================] - 35s 2s/step - loss: 1.5028 - accuracy: 0.6764 - val_loss: 1.7210 - val_accuracy: 0.6375\n"
     ]
    },
    {
     "name": "stdout",
     "output_type": "stream",
     "text": [
      "23/23 [==============================] - 35s 2s/step - loss: 1.4589 - accuracy: 0.6778 - val_loss: 1.7065 - val_accuracy: 0.6375\n",
      "23/23 [==============================] - 35s 2s/step - loss: 1.4534 - accuracy: 0.7042 - val_loss: 1.8072 - val_accuracy: 0.6000\n",
      "23/23 [==============================] - 35s 2s/step - loss: 1.4557 - accuracy: 0.6778 - val_loss: 1.6967 - val_accuracy: 0.6375\n",
      "23/23 [==============================] - 35s 2s/step - loss: 1.4213 - accuracy: 0.6792 - val_loss: 1.6581 - val_accuracy: 0.6500\n",
      "23/23 [==============================] - 35s 2s/step - loss: 1.3449 - accuracy: 0.7181 - val_loss: 1.6144 - val_accuracy: 0.6875\n",
      "23/23 [==============================] - 35s 2s/step - loss: 1.3863 - accuracy: 0.7194 - val_loss: 1.6789 - val_accuracy: 0.6750\n",
      "23/23 [==============================] - 36s 2s/step - loss: 1.3204 - accuracy: 0.7514 - val_loss: 1.6786 - val_accuracy: 0.6625\n",
      "23/23 [==============================] - 35s 2s/step - loss: 1.3458 - accuracy: 0.7125 - val_loss: 1.6326 - val_accuracy: 0.6375\n",
      "23/23 [==============================] - 35s 2s/step - loss: 1.3940 - accuracy: 0.7208 - val_loss: 1.7311 - val_accuracy: 0.6000\n",
      "23/23 [==============================] - 35s 2s/step - loss: 1.3020 - accuracy: 0.7444 - val_loss: 1.5865 - val_accuracy: 0.7000\n",
      "23/23 [==============================] - 35s 2s/step - loss: 1.3214 - accuracy: 0.7458 - val_loss: 1.6506 - val_accuracy: 0.6625\n",
      "23/23 [==============================] - 35s 2s/step - loss: 1.3477 - accuracy: 0.7167 - val_loss: 1.7145 - val_accuracy: 0.6250\n",
      "23/23 [==============================] - 36s 2s/step - loss: 1.4422 - accuracy: 0.6847 - val_loss: 1.7107 - val_accuracy: 0.6250\n",
      "23/23 [==============================] - 36s 2s/step - loss: 1.3637 - accuracy: 0.7153 - val_loss: 1.6613 - val_accuracy: 0.6500\n",
      "23/23 [==============================] - 36s 2s/step - loss: 1.3368 - accuracy: 0.7208 - val_loss: 1.6891 - val_accuracy: 0.6375\n",
      "23/23 [==============================] - 35s 2s/step - loss: 1.3065 - accuracy: 0.7181 - val_loss: 1.6798 - val_accuracy: 0.6125\n",
      "23/23 [==============================] - 35s 2s/step - loss: 1.3483 - accuracy: 0.7208 - val_loss: 1.5671 - val_accuracy: 0.6625\n",
      "23/23 [==============================] - 35s 2s/step - loss: 1.2992 - accuracy: 0.7389 - val_loss: 1.6055 - val_accuracy: 0.6875\n",
      "23/23 [==============================] - 36s 2s/step - loss: 1.2872 - accuracy: 0.7458 - val_loss: 1.6128 - val_accuracy: 0.6625\n",
      "23/23 [==============================] - 35s 2s/step - loss: 1.2304 - accuracy: 0.7583 - val_loss: 1.5463 - val_accuracy: 0.6250\n",
      "23/23 [==============================] - 35s 2s/step - loss: 1.3002 - accuracy: 0.7472 - val_loss: 1.5462 - val_accuracy: 0.7500\n",
      "23/23 [==============================] - 35s 2s/step - loss: 1.2747 - accuracy: 0.7819 - val_loss: 1.5987 - val_accuracy: 0.6500\n",
      "23/23 [==============================] - 35s 2s/step - loss: 1.3533 - accuracy: 0.7236 - val_loss: 1.6626 - val_accuracy: 0.7000\n",
      "23/23 [==============================] - 36s 2s/step - loss: 1.2247 - accuracy: 0.7806 - val_loss: 1.4637 - val_accuracy: 0.7125\n",
      "23/23 [==============================] - 35s 2s/step - loss: 1.3390 - accuracy: 0.7458 - val_loss: 1.6115 - val_accuracy: 0.7000\n",
      "23/23 [==============================] - 36s 2s/step - loss: 1.2477 - accuracy: 0.7736 - val_loss: 1.5920 - val_accuracy: 0.6750\n",
      "23/23 [==============================] - 35s 2s/step - loss: 1.2663 - accuracy: 0.7708 - val_loss: 1.5207 - val_accuracy: 0.7125\n",
      "23/23 [==============================] - 35s 2s/step - loss: 1.2995 - accuracy: 0.7528 - val_loss: 1.7226 - val_accuracy: 0.6000\n",
      "23/23 [==============================] - 38s 2s/step - loss: 1.3125 - accuracy: 0.7514 - val_loss: 1.6098 - val_accuracy: 0.6375\n",
      "23/23 [==============================] - 35s 2s/step - loss: 1.3385 - accuracy: 0.7472 - val_loss: 1.6061 - val_accuracy: 0.6750\n",
      "23/23 [==============================] - 35s 2s/step - loss: 1.3524 - accuracy: 0.7417 - val_loss: 1.6360 - val_accuracy: 0.6750\n",
      "23/23 [==============================] - 35s 2s/step - loss: 1.2817 - accuracy: 0.7722 - val_loss: 1.6614 - val_accuracy: 0.6500\n",
      "23/23 [==============================] - 35s 2s/step - loss: 1.3009 - accuracy: 0.7736 - val_loss: 1.6058 - val_accuracy: 0.6875\n",
      "23/23 [==============================] - 35s 2s/step - loss: 1.2487 - accuracy: 0.7944 - val_loss: 1.6165 - val_accuracy: 0.6125\n",
      "23/23 [==============================] - 36s 2s/step - loss: 1.2239 - accuracy: 0.7833 - val_loss: 1.5383 - val_accuracy: 0.7000\n",
      "23/23 [==============================] - 35s 2s/step - loss: 1.2271 - accuracy: 0.7917 - val_loss: 1.6153 - val_accuracy: 0.6375\n",
      "23/23 [==============================] - 35s 2s/step - loss: 1.2608 - accuracy: 0.7778 - val_loss: 1.5504 - val_accuracy: 0.6875\n"
     ]
    }
   ],
   "source": [
    "epochs=100\n",
    "\n",
    "for epoch in range(epochs):\n",
    "\n",
    "    history = model.fit(\n",
    "      X_train,\n",
    "      y_train,\n",
    "      epochs=1, \n",
    "      batch_size=32,\n",
    "      validation_split=0.10\n",
    "        )"
   ]
  },
  {
   "cell_type": "code",
   "execution_count": 19,
   "id": "a004bbe7",
   "metadata": {},
   "outputs": [
    {
     "name": "stdout",
     "output_type": "stream",
     "text": [
      "WARNING:tensorflow:From C:\\Users\\Utente\\anaconda3\\envs\\tensorflow_env\\lib\\site-packages\\tensorflow\\python\\training\\tracking\\tracking.py:111: Model.state_updates (from tensorflow.python.keras.engine.training) is deprecated and will be removed in a future version.\n",
      "Instructions for updating:\n",
      "This property should not be used in TensorFlow 2.0, as updates are applied automatically.\n",
      "WARNING:tensorflow:From C:\\Users\\Utente\\anaconda3\\envs\\tensorflow_env\\lib\\site-packages\\tensorflow\\python\\training\\tracking\\tracking.py:111: Layer.updates (from tensorflow.python.keras.engine.base_layer) is deprecated and will be removed in a future version.\n",
      "Instructions for updating:\n",
      "This property should not be used in TensorFlow 2.0, as updates are applied automatically.\n",
      "INFO:tensorflow:Assets written to: models/model30sec-1\\assets\n"
     ]
    }
   ],
   "source": [
    "model.save(\"models/model30sec-2\")"
   ]
  },
  {
   "cell_type": "code",
   "execution_count": 20,
   "id": "da341ddf",
   "metadata": {},
   "outputs": [
    {
     "name": "stdout",
     "output_type": "stream",
     "text": [
      "val_loss = 1.677 and val_acc = 0.670\n"
     ]
    }
   ],
   "source": [
    "score = model.evaluate(X_test, y_test, verbose=0)\n",
    "print(\"val_loss = {:.3f} and val_acc = {:.3f}\".format(score[0], score[1]))"
   ]
  },
  {
   "cell_type": "code",
   "execution_count": 36,
   "id": "1c8431f8",
   "metadata": {
    "scrolled": true
   },
   "outputs": [
    {
     "name": "stdout",
     "output_type": "stream",
     "text": [
      "(200, 10)\n"
     ]
    },
    {
     "data": {
      "text/plain": [
       "array([[1.05186880e-01, 1.99811868e-02, 1.15453206e-01, ...,\n",
       "        2.36385558e-02, 6.12613522e-02, 2.89175779e-01],\n",
       "       [3.83705914e-01, 1.45783543e-03, 2.41829798e-01, ...,\n",
       "        6.76902430e-03, 9.53103453e-02, 2.11452603e-01],\n",
       "       [2.19309226e-01, 1.60950620e-03, 3.59956268e-03, ...,\n",
       "        1.42870750e-03, 2.24957876e-02, 1.31232098e-01],\n",
       "       ...,\n",
       "       [5.65865230e-05, 2.42503793e-05, 3.04598211e-06, ...,\n",
       "        5.48736677e-02, 3.61276828e-02, 5.97560254e-04],\n",
       "       [7.07928836e-03, 1.12543744e-03, 1.22015807e-03, ...,\n",
       "        1.99559089e-02, 2.32545137e-01, 3.91258784e-02],\n",
       "       [7.94460997e-02, 4.02496522e-03, 4.52731848e-02, ...,\n",
       "        6.16610935e-03, 4.95408401e-02, 2.26426065e-01]], dtype=float32)"
      ]
     },
     "execution_count": 36,
     "metadata": {},
     "output_type": "execute_result"
    }
   ],
   "source": [
    "y_pred = model.predict(X_test)\n",
    "print(y_pred.shape)\n",
    "y_pred"
   ]
  },
  {
   "cell_type": "code",
   "execution_count": 44,
   "id": "355bdaf9",
   "metadata": {},
   "outputs": [
    {
     "data": {
      "text/plain": [
       "array([9, 0, 6, 7, 7, 9, 2, 4, 9, 7, 2, 6, 8, 9, 1], dtype=int64)"
      ]
     },
     "execution_count": 44,
     "metadata": {},
     "output_type": "execute_result"
    }
   ],
   "source": [
    "y_classes = y_pred.argmax(1)\n",
    "y_classes[:15]"
   ]
  },
  {
   "cell_type": "code",
   "execution_count": 45,
   "id": "f6d24523",
   "metadata": {},
   "outputs": [
    {
     "data": {
      "text/plain": [
       "array([6, 2, 6, 7, 7, 0, 7, 4, 0, 7, 9, 6, 7, 3, 1], dtype=int64)"
      ]
     },
     "execution_count": 45,
     "metadata": {},
     "output_type": "execute_result"
    }
   ],
   "source": [
    "y_test2 = y_test.argmax(1)\n",
    "y_test2[:15]"
   ]
  },
  {
   "cell_type": "code",
   "execution_count": 50,
   "id": "72040727",
   "metadata": {},
   "outputs": [
    {
     "data": {
      "text/plain": [
       "0.67"
      ]
     },
     "execution_count": 50,
     "metadata": {},
     "output_type": "execute_result"
    }
   ],
   "source": [
    "import sklearn.metrics as mt\n",
    "accuracy = mt.accuracy_score(y_test2, y_classes)\n",
    "accuracy"
   ]
  },
  {
   "cell_type": "code",
   "execution_count": 52,
   "id": "696f5a6f",
   "metadata": {},
   "outputs": [
    {
     "data": {
      "text/plain": [
       "0.6992799547068996"
      ]
     },
     "execution_count": 52,
     "metadata": {},
     "output_type": "execute_result"
    }
   ],
   "source": [
    "precision = mt.precision_score(y_test2, y_classes, average = \"macro\")\n",
    "precision"
   ]
  },
  {
   "cell_type": "code",
   "execution_count": 53,
   "id": "e08fbbed",
   "metadata": {},
   "outputs": [
    {
     "data": {
      "text/plain": [
       "0.681141774891775"
      ]
     },
     "execution_count": 53,
     "metadata": {},
     "output_type": "execute_result"
    }
   ],
   "source": [
    "recall = mt.recall_score(y_test2, y_classes, average = \"macro\")\n",
    "recall"
   ]
  },
  {
   "cell_type": "code",
   "execution_count": 54,
   "id": "1f0b3ab2",
   "metadata": {},
   "outputs": [
    {
     "data": {
      "text/plain": [
       "0.6700900074086128"
      ]
     },
     "execution_count": 54,
     "metadata": {},
     "output_type": "execute_result"
    }
   ],
   "source": [
    "f1_score = mt.f1_score(y_test2, y_classes, average = \"macro\")\n",
    "f1_score"
   ]
  },
  {
   "cell_type": "code",
   "execution_count": 56,
   "id": "557d375f",
   "metadata": {},
   "outputs": [
    {
     "name": "stdout",
     "output_type": "stream",
     "text": [
      "[[ 7  0  1  1  1  3  0  0  3  5]\n",
      " [ 0 13  1  0  0  2  0  0  0  0]\n",
      " [ 1  0 17  0  0  0  0  0  0  4]\n",
      " [ 0  0  4 10  1  0  0  4  1  4]\n",
      " [ 0  0  0  0 15  0  1  1  1  0]\n",
      " [ 0  0  0  0  0 19  0  0  0  0]\n",
      " [ 0  0  0  0  1  0 20  0  0  3]\n",
      " [ 0  1  2  0  1  0  0 15  1  1]\n",
      " [ 0  0  0  0  2  0  0  1 10  1]\n",
      " [ 0  1  6  4  0  0  0  1  1  8]]\n"
     ]
    }
   ],
   "source": [
    "cm = mt.confusion_matrix(y_test2, y_classes)\n",
    "print(cm)"
   ]
  },
  {
   "cell_type": "code",
   "execution_count": 61,
   "id": "a6765225",
   "metadata": {},
   "outputs": [
    {
     "data": {
      "image/png": "[encoded data removed]",
      "text/plain": [
       "<Figure size 1080x864 with 2 Axes>"
      ]
     },
     "metadata": {},
     "output_type": "display_data"
    }
   ],
   "source": [
    "plt.figure(figsize=(15,12))\n",
    "ax= plt.subplot()\n",
    "sn.heatmap(cm, annot=True, fmt='g', ax=ax);  # annot=True to annotate cells, ftm='g' to disable scientific notation\n",
    "\n",
    "# labels, title and ticks\n",
    "ax.set_xlabel('Predicted labels');\n",
    "ax.set_ylabel('True labels'); \n",
    "ax.set_title('Confusion Matrix'); \n",
    "ax.xaxis.set_ticklabels(labels); ax.yaxis.set_ticklabels(labels);"
   ]
  },
  {
   "cell_type": "code",
   "execution_count": null,
   "id": "c8965f6a",
   "metadata": {},
   "outputs": [],
   "source": []
  },
  {
   "cell_type": "code",
   "execution_count": null,
   "id": "bd49b6da",
   "metadata": {},
   "outputs": [],
   "source": []
  }
 ],
 "metadata": {
  "kernelspec": {
   "display_name": "Python 3 (ipykernel)",
   "language": "python",
   "name": "python3"
  },
  "language_info": {
   "codemirror_mode": {
    "name": "ipython",
    "version": 3
   },
   "file_extension": ".py",
   "mimetype": "text/x-python",
   "name": "python",
   "nbconvert_exporter": "python",
   "pygments_lexer": "ipython3",
   "version": "3.8.13"
  }
 },
 "nbformat": 4,
 "nbformat_minor": 5
}
