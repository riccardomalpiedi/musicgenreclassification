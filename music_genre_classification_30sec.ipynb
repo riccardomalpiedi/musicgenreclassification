{
 "cells": [
  {
   "cell_type": "code",
   "execution_count": 1,
   "id": "1353d4ed",
   "metadata": {},
   "outputs": [],
   "source": [
    "import numpy as np\n",
    "import pandas as pd\n",
    "import tensorflow as tf\n",
    "from tensorflow import keras\n",
    "import seaborn as sn\n",
    "import matplotlib.pyplot as plt"
   ]
  },
  {
   "cell_type": "code",
   "execution_count": 6,
   "id": "884fcc38",
   "metadata": {},
   "outputs": [
    {
     "data": {
      "text/plain": [
       "(1000, 38400)"
      ]
     },
     "execution_count": 6,
     "metadata": {},
     "output_type": "execute_result"
    }
   ],
   "source": [
    "X_data = np.loadtxt(\"data/X_data.csv\", delimiter=\",\")\n",
    "X_data.shape"
   ]
  },
  {
   "cell_type": "code",
   "execution_count": 7,
   "id": "525fb095",
   "metadata": {},
   "outputs": [
    {
     "data": {
      "text/plain": [
       "array([[  0.28048742,   3.72830677,   3.19126654, ..., -45.90468216,\n",
       "        -45.90468216, -42.39907837],\n",
       "       [ -2.58110476,  13.3120842 ,   2.01552916, ..., -49.64926147,\n",
       "        -49.64926147, -37.44506454],\n",
       "       [ -2.15358114,  -7.61195707,  -4.13224602, ..., -50.49839783,\n",
       "        -50.49839783, -35.67107391],\n",
       "       ...,\n",
       "       [-15.86331844, -12.50350857, -28.52645874, ..., -58.88102722,\n",
       "        -58.88102722, -31.27197647],\n",
       "       [ -4.51956177,  -9.57658386,  -3.12049174, ..., -54.87487793,\n",
       "        -54.87487793, -51.62145996],\n",
       "       [-21.03319359, -23.70036888, -20.64584732, ..., -60.84477997,\n",
       "        -60.84477997, -60.84477997]])"
      ]
     },
     "execution_count": 7,
     "metadata": {},
     "output_type": "execute_result"
    }
   ],
   "source": [
    "X_data"
   ]
  },
  {
   "cell_type": "code",
   "execution_count": 15,
   "id": "108b1d84",
   "metadata": {},
   "outputs": [
    {
     "data": {
      "text/plain": [
       "(1000,)"
      ]
     },
     "execution_count": 15,
     "metadata": {},
     "output_type": "execute_result"
    }
   ],
   "source": [
    "y_data = np.loadtxt(\"data/y_data.csv\", dtype=str)\n",
    "y_data.shape"
   ]
  },
  {
   "cell_type": "code",
   "execution_count": 12,
   "id": "d944b93d",
   "metadata": {},
   "outputs": [
    {
     "data": {
      "text/plain": [
       "array(['blues', 'blues', 'blues', 'blues', 'blues', 'blues', 'blues',\n",
       "       'blues', 'blues', 'blues', 'blues', 'blues', 'blues', 'blues',\n",
       "       'blues', 'blues', 'blues', 'blues', 'blues', 'blues', 'blues',\n",
       "       'blues', 'blues', 'blues', 'blues', 'blues', 'blues', 'blues',\n",
       "       'blues', 'blues', 'blues', 'blues', 'blues', 'blues', 'blues',\n",
       "       'blues', 'blues', 'blues', 'blues', 'blues', 'blues', 'blues',\n",
       "       'blues', 'blues', 'blues', 'blues', 'blues', 'blues', 'blues',\n",
       "       'blues', 'blues', 'blues', 'blues', 'blues', 'blues', 'blues',\n",
       "       'blues', 'blues', 'blues', 'blues', 'blues', 'blues', 'blues',\n",
       "       'blues', 'blues', 'blues', 'blues', 'blues', 'blues', 'blues',\n",
       "       'blues', 'blues', 'blues', 'blues', 'blues', 'blues', 'blues',\n",
       "       'blues', 'blues', 'blues', 'blues', 'blues', 'blues', 'blues',\n",
       "       'blues', 'blues', 'blues', 'blues', 'blues', 'blues', 'blues',\n",
       "       'blues', 'blues', 'blues', 'blues', 'blues', 'blues', 'blues',\n",
       "       'blues', 'blues', 'classical', 'classical', 'classical',\n",
       "       'classical', 'classical', 'classical', 'classical', 'classical',\n",
       "       'classical', 'classical', 'classical', 'classical', 'classical',\n",
       "       'classical', 'classical', 'classical', 'classical', 'classical',\n",
       "       'classical', 'classical', 'classical', 'classical', 'classical',\n",
       "       'classical', 'classical', 'classical', 'classical', 'classical',\n",
       "       'classical', 'classical', 'classical', 'classical', 'classical',\n",
       "       'classical', 'classical', 'classical', 'classical', 'classical',\n",
       "       'classical', 'classical', 'classical', 'classical', 'classical',\n",
       "       'classical', 'classical', 'classical', 'classical', 'classical',\n",
       "       'classical', 'classical', 'classical', 'classical', 'classical',\n",
       "       'classical', 'classical', 'classical', 'classical', 'classical',\n",
       "       'classical', 'classical', 'classical', 'classical', 'classical',\n",
       "       'classical', 'classical', 'classical', 'classical', 'classical',\n",
       "       'classical', 'classical', 'classical', 'classical', 'classical',\n",
       "       'classical', 'classical', 'classical', 'classical', 'classical',\n",
       "       'classical', 'classical', 'classical', 'classical', 'classical',\n",
       "       'classical', 'classical', 'classical', 'classical', 'classical',\n",
       "       'classical', 'classical', 'classical', 'classical', 'classical',\n",
       "       'classical', 'classical', 'classical', 'classical', 'classical',\n",
       "       'classical', 'classical', 'country', 'country', 'country',\n",
       "       'country', 'country', 'country', 'country', 'country', 'country',\n",
       "       'country', 'country', 'country', 'country', 'country', 'country',\n",
       "       'country', 'country', 'country', 'country', 'country', 'country',\n",
       "       'country', 'country', 'country', 'country', 'country', 'country',\n",
       "       'country', 'country', 'country', 'country', 'country', 'country',\n",
       "       'country', 'country', 'country', 'country', 'country', 'country',\n",
       "       'country', 'country', 'country', 'country', 'country', 'country',\n",
       "       'country', 'country', 'country', 'country', 'country', 'country',\n",
       "       'country', 'country', 'country', 'country', 'country', 'country',\n",
       "       'country', 'country', 'country', 'country', 'country', 'country',\n",
       "       'country', 'country', 'country', 'country', 'country', 'country',\n",
       "       'country', 'country', 'country', 'country', 'country', 'country',\n",
       "       'country', 'country', 'country', 'country', 'country', 'country',\n",
       "       'country', 'country', 'country', 'country', 'country', 'country',\n",
       "       'country', 'country', 'country', 'country', 'country', 'country',\n",
       "       'country', 'country', 'country', 'country', 'country', 'country',\n",
       "       'country', 'disco', 'disco', 'disco', 'disco', 'disco', 'disco',\n",
       "       'disco', 'disco', 'disco', 'disco', 'disco', 'disco', 'disco',\n",
       "       'disco', 'disco', 'disco', 'disco', 'disco', 'disco', 'disco',\n",
       "       'disco', 'disco', 'disco', 'disco', 'disco', 'disco', 'disco',\n",
       "       'disco', 'disco', 'disco', 'disco', 'disco', 'disco', 'disco',\n",
       "       'disco', 'disco', 'disco', 'disco', 'disco', 'disco', 'disco',\n",
       "       'disco', 'disco', 'disco', 'disco', 'disco', 'disco', 'disco',\n",
       "       'disco', 'disco', 'disco', 'disco', 'disco', 'disco', 'disco',\n",
       "       'disco', 'disco', 'disco', 'disco', 'disco', 'disco', 'disco',\n",
       "       'disco', 'disco', 'disco', 'disco', 'disco', 'disco', 'disco',\n",
       "       'disco', 'disco', 'disco', 'disco', 'disco', 'disco', 'disco',\n",
       "       'disco', 'disco', 'disco', 'disco', 'disco', 'disco', 'disco',\n",
       "       'disco', 'disco', 'disco', 'disco', 'disco', 'disco', 'disco',\n",
       "       'disco', 'disco', 'disco', 'disco', 'disco', 'disco', 'disco',\n",
       "       'disco', 'disco', 'disco', 'hiphop', 'hiphop', 'hiphop', 'hiphop',\n",
       "       'hiphop', 'hiphop', 'hiphop', 'hiphop', 'hiphop', 'hiphop',\n",
       "       'hiphop', 'hiphop', 'hiphop', 'hiphop', 'hiphop', 'hiphop',\n",
       "       'hiphop', 'hiphop', 'hiphop', 'hiphop', 'hiphop', 'hiphop',\n",
       "       'hiphop', 'hiphop', 'hiphop', 'hiphop', 'hiphop', 'hiphop',\n",
       "       'hiphop', 'hiphop', 'hiphop', 'hiphop', 'hiphop', 'hiphop',\n",
       "       'hiphop', 'hiphop', 'hiphop', 'hiphop', 'hiphop', 'hiphop',\n",
       "       'hiphop', 'hiphop', 'hiphop', 'hiphop', 'hiphop', 'hiphop',\n",
       "       'hiphop', 'hiphop', 'hiphop', 'hiphop', 'hiphop', 'hiphop',\n",
       "       'hiphop', 'hiphop', 'hiphop', 'hiphop', 'hiphop', 'hiphop',\n",
       "       'hiphop', 'hiphop', 'hiphop', 'hiphop', 'hiphop', 'hiphop',\n",
       "       'hiphop', 'hiphop', 'hiphop', 'hiphop', 'hiphop', 'hiphop',\n",
       "       'hiphop', 'hiphop', 'hiphop', 'hiphop', 'hiphop', 'hiphop',\n",
       "       'hiphop', 'hiphop', 'hiphop', 'hiphop', 'hiphop', 'hiphop',\n",
       "       'hiphop', 'hiphop', 'hiphop', 'hiphop', 'hiphop', 'hiphop',\n",
       "       'hiphop', 'hiphop', 'hiphop', 'hiphop', 'hiphop', 'hiphop',\n",
       "       'hiphop', 'hiphop', 'hiphop', 'hiphop', 'hiphop', 'hiphop', 'jazz',\n",
       "       'jazz', 'jazz', 'jazz', 'jazz', 'jazz', 'jazz', 'jazz', 'jazz',\n",
       "       'jazz', 'jazz', 'jazz', 'jazz', 'jazz', 'jazz', 'jazz', 'jazz',\n",
       "       'jazz', 'jazz', 'jazz', 'jazz', 'jazz', 'jazz', 'jazz', 'jazz',\n",
       "       'jazz', 'jazz', 'jazz', 'jazz', 'jazz', 'jazz', 'jazz', 'jazz',\n",
       "       'jazz', 'jazz', 'jazz', 'jazz', 'jazz', 'jazz', 'jazz', 'jazz',\n",
       "       'jazz', 'jazz', 'jazz', 'jazz', 'jazz', 'jazz', 'jazz', 'jazz',\n",
       "       'jazz', 'jazz', 'jazz', 'jazz', 'jazz', 'jazz', 'jazz', 'jazz',\n",
       "       'jazz', 'jazz', 'jazz', 'jazz', 'jazz', 'jazz', 'jazz', 'jazz',\n",
       "       'jazz', 'jazz', 'jazz', 'jazz', 'jazz', 'jazz', 'jazz', 'jazz',\n",
       "       'jazz', 'jazz', 'jazz', 'jazz', 'jazz', 'jazz', 'jazz', 'jazz',\n",
       "       'jazz', 'jazz', 'jazz', 'jazz', 'jazz', 'jazz', 'jazz', 'jazz',\n",
       "       'jazz', 'jazz', 'jazz', 'jazz', 'jazz', 'jazz', 'jazz', 'jazz',\n",
       "       'jazz', 'jazz', 'jazz', 'metal', 'metal', 'metal', 'metal',\n",
       "       'metal', 'metal', 'metal', 'metal', 'metal', 'metal', 'metal',\n",
       "       'metal', 'metal', 'metal', 'metal', 'metal', 'metal', 'metal',\n",
       "       'metal', 'metal', 'metal', 'metal', 'metal', 'metal', 'metal',\n",
       "       'metal', 'metal', 'metal', 'metal', 'metal', 'metal', 'metal',\n",
       "       'metal', 'metal', 'metal', 'metal', 'metal', 'metal', 'metal',\n",
       "       'metal', 'metal', 'metal', 'metal', 'metal', 'metal', 'metal',\n",
       "       'metal', 'metal', 'metal', 'metal', 'metal', 'metal', 'metal',\n",
       "       'metal', 'metal', 'metal', 'metal', 'metal', 'metal', 'metal',\n",
       "       'metal', 'metal', 'metal', 'metal', 'metal', 'metal', 'metal',\n",
       "       'metal', 'metal', 'metal', 'metal', 'metal', 'metal', 'metal',\n",
       "       'metal', 'metal', 'metal', 'metal', 'metal', 'metal', 'metal',\n",
       "       'metal', 'metal', 'metal', 'metal', 'metal', 'metal', 'metal',\n",
       "       'metal', 'metal', 'metal', 'metal', 'metal', 'metal', 'metal',\n",
       "       'metal', 'metal', 'metal', 'metal', 'metal', 'pop', 'pop', 'pop',\n",
       "       'pop', 'pop', 'pop', 'pop', 'pop', 'pop', 'pop', 'pop', 'pop',\n",
       "       'pop', 'pop', 'pop', 'pop', 'pop', 'pop', 'pop', 'pop', 'pop',\n",
       "       'pop', 'pop', 'pop', 'pop', 'pop', 'pop', 'pop', 'pop', 'pop',\n",
       "       'pop', 'pop', 'pop', 'pop', 'pop', 'pop', 'pop', 'pop', 'pop',\n",
       "       'pop', 'pop', 'pop', 'pop', 'pop', 'pop', 'pop', 'pop', 'pop',\n",
       "       'pop', 'pop', 'pop', 'pop', 'pop', 'pop', 'pop', 'pop', 'pop',\n",
       "       'pop', 'pop', 'pop', 'pop', 'pop', 'pop', 'pop', 'pop', 'pop',\n",
       "       'pop', 'pop', 'pop', 'pop', 'pop', 'pop', 'pop', 'pop', 'pop',\n",
       "       'pop', 'pop', 'pop', 'pop', 'pop', 'pop', 'pop', 'pop', 'pop',\n",
       "       'pop', 'pop', 'pop', 'pop', 'pop', 'pop', 'pop', 'pop', 'pop',\n",
       "       'pop', 'pop', 'pop', 'pop', 'pop', 'pop', 'pop', 'reggae',\n",
       "       'reggae', 'reggae', 'reggae', 'reggae', 'reggae', 'reggae',\n",
       "       'reggae', 'reggae', 'reggae', 'reggae', 'reggae', 'reggae',\n",
       "       'reggae', 'reggae', 'reggae', 'reggae', 'reggae', 'reggae',\n",
       "       'reggae', 'reggae', 'reggae', 'reggae', 'reggae', 'reggae',\n",
       "       'reggae', 'reggae', 'reggae', 'reggae', 'reggae', 'reggae',\n",
       "       'reggae', 'reggae', 'reggae', 'reggae', 'reggae', 'reggae',\n",
       "       'reggae', 'reggae', 'reggae', 'reggae', 'reggae', 'reggae',\n",
       "       'reggae', 'reggae', 'reggae', 'reggae', 'reggae', 'reggae',\n",
       "       'reggae', 'reggae', 'reggae', 'reggae', 'reggae', 'reggae',\n",
       "       'reggae', 'reggae', 'reggae', 'reggae', 'reggae', 'reggae',\n",
       "       'reggae', 'reggae', 'reggae', 'reggae', 'reggae', 'reggae',\n",
       "       'reggae', 'reggae', 'reggae', 'reggae', 'reggae', 'reggae',\n",
       "       'reggae', 'reggae', 'reggae', 'reggae', 'reggae', 'reggae',\n",
       "       'reggae', 'reggae', 'reggae', 'reggae', 'reggae', 'reggae',\n",
       "       'reggae', 'reggae', 'reggae', 'reggae', 'reggae', 'reggae',\n",
       "       'reggae', 'reggae', 'reggae', 'reggae', 'reggae', 'reggae',\n",
       "       'reggae', 'reggae', 'reggae', 'rock', 'rock', 'rock', 'rock',\n",
       "       'rock', 'rock', 'rock', 'rock', 'rock', 'rock', 'rock', 'rock',\n",
       "       'rock', 'rock', 'rock', 'rock', 'rock', 'rock', 'rock', 'rock',\n",
       "       'rock', 'rock', 'rock', 'rock', 'rock', 'rock', 'rock', 'rock',\n",
       "       'rock', 'rock', 'rock', 'rock', 'rock', 'rock', 'rock', 'rock',\n",
       "       'rock', 'rock', 'rock', 'rock', 'rock', 'rock', 'rock', 'rock',\n",
       "       'rock', 'rock', 'rock', 'rock', 'rock', 'rock', 'rock', 'rock',\n",
       "       'rock', 'rock', 'rock', 'rock', 'rock', 'rock', 'rock', 'rock',\n",
       "       'rock', 'rock', 'rock', 'rock', 'rock', 'rock', 'rock', 'rock',\n",
       "       'rock', 'rock', 'rock', 'rock', 'rock', 'rock', 'rock', 'rock',\n",
       "       'rock', 'rock', 'rock', 'rock', 'rock', 'rock', 'rock', 'rock',\n",
       "       'rock', 'rock', 'rock', 'rock', 'rock', 'rock', 'rock', 'rock',\n",
       "       'rock', 'rock', 'rock', 'rock', 'rock', 'rock', 'rock', 'rock'],\n",
       "      dtype='<U9')"
      ]
     },
     "execution_count": 12,
     "metadata": {},
     "output_type": "execute_result"
    }
   ],
   "source": [
    "y_data"
   ]
  },
  {
   "cell_type": "code",
   "execution_count": 14,
   "id": "7775c49d",
   "metadata": {},
   "outputs": [
    {
     "data": {
      "text/plain": [
       "array(['blues', 'classical', 'country', 'disco', 'hiphop', 'jazz',\n",
       "       'metal', 'pop', 'reggae', 'rock'], dtype='<U9')"
      ]
     },
     "execution_count": 14,
     "metadata": {},
     "output_type": "execute_result"
    }
   ],
   "source": [
    "labels = np.unique(y_data)\n",
    "labels"
   ]
  },
  {
   "cell_type": "code",
   "execution_count": 64,
   "id": "cee9988f",
   "metadata": {
    "scrolled": true
   },
   "outputs": [
    {
     "data": {
      "text/plain": [
       "array([[1., 0., 0., ..., 0., 0., 0.],\n",
       "       [1., 0., 0., ..., 0., 0., 0.],\n",
       "       [1., 0., 0., ..., 0., 0., 0.],\n",
       "       ...,\n",
       "       [0., 0., 0., ..., 0., 0., 1.],\n",
       "       [0., 0., 0., ..., 0., 0., 1.],\n",
       "       [0., 0., 0., ..., 0., 0., 1.]])"
      ]
     },
     "execution_count": 64,
     "metadata": {},
     "output_type": "execute_result"
    }
   ],
   "source": [
    "y_data2 = np.zeros((y_data.shape[0], len(labels)))\n",
    "\n",
    "for i, label in enumerate(labels):\n",
    "    for j in range(y_data.shape[0]):\n",
    "        if y_data[j] == label:\n",
    "            y_data2[j][i] = 1\n",
    "            \n",
    "y_data2"
   ]
  },
  {
   "cell_type": "code",
   "execution_count": 41,
   "id": "3e7cb6bc",
   "metadata": {
    "scrolled": true
   },
   "outputs": [
    {
     "data": {
      "text/plain": [
       "array([[[  0.28048742,   3.72830677,   3.19126654, ...,   6.14212751,\n",
       "          -1.98371422,  12.92064667],\n",
       "        [  3.10127735,  14.22969437,  11.79866219, ...,  10.4456377 ,\n",
       "           5.20716858,  15.11762428],\n",
       "        [ -4.39976215,  10.78109169,  12.30222225, ...,  -0.17950238,\n",
       "           6.4920702 ,  13.78956223],\n",
       "        ...,\n",
       "        [-45.90468216, -45.90468216, -45.90468216, ..., -45.90468216,\n",
       "         -45.90468216, -42.06035614],\n",
       "        [-45.90468216, -45.90468216, -45.90468216, ..., -45.90468216,\n",
       "         -45.90468216, -42.29415131],\n",
       "        [-45.90468216, -45.90468216, -45.90468216, ..., -45.90468216,\n",
       "         -45.90468216, -42.39907837]],\n",
       "\n",
       "       [[ -2.58110476,  13.3120842 ,   2.01552916, ...,   0.45536363,\n",
       "          12.62303734,   9.48605347],\n",
       "        [ -1.35699916,  24.61754227,  13.61273861, ...,   8.17651463,\n",
       "          18.54008102,  16.74104881],\n",
       "        [ -7.55361128,  19.53930855,  14.08666611, ...,   8.84458733,\n",
       "          11.41815948,  13.66756248],\n",
       "        ...,\n",
       "        [-49.64926147, -49.64926147, -49.64926147, ..., -49.64926147,\n",
       "         -49.64926147, -37.22035217],\n",
       "        [-49.64926147, -49.64926147, -49.64926147, ..., -49.64926147,\n",
       "         -49.64926147, -37.36601639],\n",
       "        [-49.64926147, -49.64926147, -49.64926147, ..., -49.64926147,\n",
       "         -49.64926147, -37.44506454]],\n",
       "\n",
       "       [[ -2.15358114,  -7.61195707,  -4.13224602, ...,   9.3029232 ,\n",
       "           8.57606316,  -2.87754512],\n",
       "        [  8.41343594,   5.55776644,  -2.91569495, ...,  12.09691429,\n",
       "          11.52791977,   5.6033082 ],\n",
       "        [ 15.20326138,  11.36775017,   3.92468548, ...,  18.01969337,\n",
       "          16.67443275,  10.38411617],\n",
       "        ...,\n",
       "        [-50.49839783, -50.49839783, -50.49839783, ..., -50.49839783,\n",
       "         -50.49839783, -35.33242798],\n",
       "        [-50.49839783, -50.49839783, -50.49839783, ..., -50.49839783,\n",
       "         -50.49839783, -35.57148361],\n",
       "        [-50.49839783, -50.49839783, -50.49839783, ..., -50.49839783,\n",
       "         -50.49839783, -35.67107391]],\n",
       "\n",
       "       ...,\n",
       "\n",
       "       [[-15.86331844, -12.50350857, -28.52645874, ...,  -1.98057055,\n",
       "         -14.97267818,  -1.17860353],\n",
       "        [ -7.99864483,  -6.13870239,  -3.78151655, ...,  12.16443253,\n",
       "          -1.19246638,   1.81942761],\n",
       "        [ -2.08711338,  -6.0700326 ,  -4.91538811, ...,  15.2064209 ,\n",
       "           7.99641371,   8.34650612],\n",
       "        ...,\n",
       "        [-55.62298584, -58.88102722, -58.88102722, ..., -58.61043549,\n",
       "         -53.73719788, -30.92585564],\n",
       "        [-56.20801544, -58.88102722, -58.88102722, ..., -58.88102722,\n",
       "         -58.88102722, -31.15576935],\n",
       "        [-56.44928741, -58.88102722, -58.88102722, ..., -58.88102722,\n",
       "         -58.88102722, -31.27197647]],\n",
       "\n",
       "       [[ -4.51956177,  -9.57658386,  -3.12049174, ...,  -2.72686291,\n",
       "          -0.83332026,  -0.46008092],\n",
       "        [  4.84572506,  10.43822098,   0.6397748 , ...,   6.51932144,\n",
       "           9.02947807,   3.00911212],\n",
       "        [ 12.48102093,  13.40070629,   7.16884804, ...,   7.05125713,\n",
       "          12.8967104 ,   5.96245575],\n",
       "        ...,\n",
       "        [-48.27846146, -54.87487793, -54.87487793, ..., -54.87487793,\n",
       "         -54.87487793, -51.39247894],\n",
       "        [-48.85231018, -54.87487793, -54.87487793, ..., -54.87487793,\n",
       "         -54.87487793, -51.50120163],\n",
       "        [-49.15665054, -54.87487793, -54.87487793, ..., -54.87487793,\n",
       "         -54.87487793, -51.62145996]],\n",
       "\n",
       "       [[-21.03319359, -23.70036888, -20.64584732, ..., -22.23006821,\n",
       "         -25.18108749,  -4.15042686],\n",
       "        [ -6.14806223,  -3.41666436,  -4.81445408, ...,   3.43874812,\n",
       "           1.9127605 ,   7.27839375],\n",
       "        [ -1.4148432 ,  -2.86879349,   7.68261909, ...,   2.54500604,\n",
       "          -0.09642466,   6.70595694],\n",
       "        ...,\n",
       "        [-59.39182663, -60.84477997, -60.84477997, ..., -60.84477997,\n",
       "         -60.84477997, -60.75209808],\n",
       "        [-59.95914078, -60.84477997, -60.84477997, ..., -60.84477997,\n",
       "         -60.84477997, -60.84477997],\n",
       "        [-60.23310089, -60.84477997, -60.84477997, ..., -60.84477997,\n",
       "         -60.84477997, -60.84477997]]])"
      ]
     },
     "execution_count": 41,
     "metadata": {},
     "output_type": "execute_result"
    }
   ],
   "source": [
    "X_data2 = X_data.reshape(1000, 128, 300)\n",
    "X_data2"
   ]
  },
  {
   "cell_type": "code",
   "execution_count": 43,
   "id": "44a6afe7",
   "metadata": {},
   "outputs": [
    {
     "data": {
      "text/plain": [
       "(1000, 128, 300, 1)"
      ]
     },
     "execution_count": 43,
     "metadata": {},
     "output_type": "execute_result"
    }
   ],
   "source": [
    "X_data2 = X_data2.reshape(1000, 128, 300, 1)\n",
    "X_data2.shape"
   ]
  },
  {
   "cell_type": "code",
   "execution_count": 65,
   "id": "413cb252",
   "metadata": {},
   "outputs": [
    {
     "name": "stdout",
     "output_type": "stream",
     "text": [
      "(800, 128, 300, 1)\n",
      "(200, 128, 300, 1)\n",
      "(800, 10)\n",
      "(200, 10)\n"
     ]
    }
   ],
   "source": [
    "from sklearn.model_selection import train_test_split\n",
    "\n",
    "X_train, X_test, y_train, y_test = train_test_split(X_data2, y_data2, test_size=0.2)\n",
    "print(X_train.shape)\n",
    "print(X_test.shape)\n",
    "print(y_train.shape)\n",
    "print(y_test.shape)"
   ]
  },
  {
   "cell_type": "code",
   "execution_count": 72,
   "id": "94af2b2a",
   "metadata": {},
   "outputs": [],
   "source": [
    "def conv_block(x, n_filters,filter_size=(3, 3), pool_size=(2, 2),stride=(1, 1)):\n",
    "    x = keras.layers.Conv2D(n_filters, filter_size, strides=(1, 1), padding='same')(x)\n",
    "    x = keras.layers.Activation('relu')(x)\n",
    "    x = keras.layers.MaxPooling2D(pool_size=pool_size, strides=stride)(x)\n",
    "    x = keras.layers.Dropout(0.4)(x)\n",
    "    return x"
   ]
  },
  {
   "cell_type": "code",
   "execution_count": 73,
   "id": "78c5f9a1",
   "metadata": {},
   "outputs": [],
   "source": [
    "nn_input = keras.Input(shape=(128,300,1))"
   ]
  },
  {
   "cell_type": "code",
   "execution_count": 74,
   "id": "cbb8685c",
   "metadata": {},
   "outputs": [],
   "source": [
    "x = conv_block(nn_input, 16,stride=(2,2))\n",
    "x = conv_block(x, 32,filter_size=(3,3),stride=(2,2))\n",
    "x = conv_block(x, 64, stride=(2,2))\n",
    "x = conv_block(x, 128,filter_size=(3,3),stride=(2,2))\n",
    "x = conv_block(x, 256,stride=(2,2))\n",
    "\n",
    "x = keras.layers.Flatten()(x)\n",
    "x = keras.layers.Dropout(0.5)(x)\n",
    "x = keras.layers.Dense(128, activation='relu', \n",
    "          kernel_regularizer=tf.keras.regularizers.l2(0.01))(x)\n",
    "x = keras.layers.Dropout(0.3)(x)\n",
    "predictions = keras.layers.Dense(len(labels), \n",
    "                        activation='softmax', \n",
    "                        kernel_regularizer=tf.keras.regularizers.l2(0.01))(x)\n",
    "    \n",
    "model = keras.Model(inputs=nn_input, outputs=predictions)"
   ]
  },
  {
   "cell_type": "code",
   "execution_count": 75,
   "id": "8a7a1e24",
   "metadata": {},
   "outputs": [
    {
     "name": "stdout",
     "output_type": "stream",
     "text": [
      "Model: \"functional_3\"\n",
      "_________________________________________________________________\n",
      "Layer (type)                 Output Shape              Param #   \n",
      "=================================================================\n",
      "input_4 (InputLayer)         [(None, 128, 300, 1)]     0         \n",
      "_________________________________________________________________\n",
      "conv2d_42 (Conv2D)           (None, 128, 300, 16)      160       \n",
      "_________________________________________________________________\n",
      "activation_31 (Activation)   (None, 128, 300, 16)      0         \n",
      "_________________________________________________________________\n",
      "max_pooling2d_31 (MaxPooling (None, 64, 150, 16)       0         \n",
      "_________________________________________________________________\n",
      "dropout_39 (Dropout)         (None, 64, 150, 16)       0         \n",
      "_________________________________________________________________\n",
      "conv2d_43 (Conv2D)           (None, 64, 150, 32)       4640      \n",
      "_________________________________________________________________\n",
      "activation_32 (Activation)   (None, 64, 150, 32)       0         \n",
      "_________________________________________________________________\n",
      "max_pooling2d_32 (MaxPooling (None, 32, 75, 32)        0         \n",
      "_________________________________________________________________\n",
      "dropout_40 (Dropout)         (None, 32, 75, 32)        0         \n",
      "_________________________________________________________________\n",
      "conv2d_44 (Conv2D)           (None, 32, 75, 64)        18496     \n",
      "_________________________________________________________________\n",
      "activation_33 (Activation)   (None, 32, 75, 64)        0         \n",
      "_________________________________________________________________\n",
      "max_pooling2d_33 (MaxPooling (None, 16, 37, 64)        0         \n",
      "_________________________________________________________________\n",
      "dropout_41 (Dropout)         (None, 16, 37, 64)        0         \n",
      "_________________________________________________________________\n",
      "conv2d_45 (Conv2D)           (None, 16, 37, 128)       73856     \n",
      "_________________________________________________________________\n",
      "activation_34 (Activation)   (None, 16, 37, 128)       0         \n",
      "_________________________________________________________________\n",
      "max_pooling2d_34 (MaxPooling (None, 8, 18, 128)        0         \n",
      "_________________________________________________________________\n",
      "dropout_42 (Dropout)         (None, 8, 18, 128)        0         \n",
      "_________________________________________________________________\n",
      "conv2d_46 (Conv2D)           (None, 8, 18, 256)        295168    \n",
      "_________________________________________________________________\n",
      "activation_35 (Activation)   (None, 8, 18, 256)        0         \n",
      "_________________________________________________________________\n",
      "max_pooling2d_35 (MaxPooling (None, 4, 9, 256)         0         \n",
      "_________________________________________________________________\n",
      "dropout_43 (Dropout)         (None, 4, 9, 256)         0         \n",
      "_________________________________________________________________\n",
      "flatten_5 (Flatten)          (None, 9216)              0         \n",
      "_________________________________________________________________\n",
      "dropout_44 (Dropout)         (None, 9216)              0         \n",
      "_________________________________________________________________\n",
      "dense_7 (Dense)              (None, 128)               1179776   \n",
      "_________________________________________________________________\n",
      "dropout_45 (Dropout)         (None, 128)               0         \n",
      "_________________________________________________________________\n",
      "dense_8 (Dense)              (None, 10)                1290      \n",
      "=================================================================\n",
      "Total params: 1,573,386\n",
      "Trainable params: 1,573,386\n",
      "Non-trainable params: 0\n",
      "_________________________________________________________________\n"
     ]
    }
   ],
   "source": [
    "model.summary()"
   ]
  },
  {
   "cell_type": "code",
   "execution_count": 76,
   "id": "be2b7e46",
   "metadata": {},
   "outputs": [],
   "source": [
    "model.compile(loss=tf.keras.losses.categorical_crossentropy,\n",
    "              optimizer=tf.keras.optimizers.Adam(learning_rate=0.001),\n",
    "              metrics=['accuracy'])"
   ]
  },
  {
   "cell_type": "code",
   "execution_count": 77,
   "id": "10a166e0",
   "metadata": {},
   "outputs": [
    {
     "data": {
      "text/plain": [
       "(800, 128, 300, 1)"
      ]
     },
     "execution_count": 77,
     "metadata": {},
     "output_type": "execute_result"
    }
   ],
   "source": [
    "X_train.shape"
   ]
  },
  {
   "cell_type": "code",
   "execution_count": 78,
   "id": "96dceb20",
   "metadata": {},
   "outputs": [
    {
     "data": {
      "text/plain": [
       "(800, 10)"
      ]
     },
     "execution_count": 78,
     "metadata": {},
     "output_type": "execute_result"
    }
   ],
   "source": [
    "y_train.shape"
   ]
  },
  {
   "cell_type": "code",
   "execution_count": 140,
   "id": "84c94100",
   "metadata": {},
   "outputs": [
    {
     "name": "stdout",
     "output_type": "stream",
     "text": [
      "23/23 [==============================] - 24s 1s/step - loss: 2.2524 - accuracy: 0.4986 - val_loss: 2.6702 - val_accuracy: 0.3500\n",
      "23/23 [==============================] - 23s 983ms/step - loss: 2.1693 - accuracy: 0.5208 - val_loss: 2.6446 - val_accuracy: 0.3375\n",
      "23/23 [==============================] - 23s 984ms/step - loss: 2.1516 - accuracy: 0.5181 - val_loss: 2.6748 - val_accuracy: 0.3750\n",
      "23/23 [==============================] - 23s 982ms/step - loss: 2.1049 - accuracy: 0.5458 - val_loss: 2.5221 - val_accuracy: 0.4250\n",
      "23/23 [==============================] - 23s 987ms/step - loss: 2.0799 - accuracy: 0.5486 - val_loss: 2.5590 - val_accuracy: 0.4125\n",
      "23/23 [==============================] - 24s 1s/step - loss: 2.0090 - accuracy: 0.5514 - val_loss: 2.5220 - val_accuracy: 0.4000\n",
      "23/23 [==============================] - 23s 983ms/step - loss: 1.9686 - accuracy: 0.5458 - val_loss: 2.5275 - val_accuracy: 0.4125\n",
      "23/23 [==============================] - 23s 984ms/step - loss: 1.9640 - accuracy: 0.5722 - val_loss: 2.4703 - val_accuracy: 0.4000\n",
      "23/23 [==============================] - 22s 975ms/step - loss: 1.8970 - accuracy: 0.5764 - val_loss: 2.5411 - val_accuracy: 0.3000\n",
      "23/23 [==============================] - 24s 1s/step - loss: 1.9378 - accuracy: 0.5486 - val_loss: 2.3996 - val_accuracy: 0.4375\n",
      "23/23 [==============================] - 22s 978ms/step - loss: 1.8971 - accuracy: 0.5653 - val_loss: 2.3616 - val_accuracy: 0.4500\n",
      "23/23 [==============================] - 23s 990ms/step - loss: 1.8508 - accuracy: 0.5736 - val_loss: 2.3903 - val_accuracy: 0.4125\n",
      "23/23 [==============================] - 23s 988ms/step - loss: 1.9280 - accuracy: 0.5528 - val_loss: 2.4616 - val_accuracy: 0.3625\n",
      "23/23 [==============================] - 23s 991ms/step - loss: 1.8362 - accuracy: 0.5986 - val_loss: 2.2841 - val_accuracy: 0.4875\n",
      "23/23 [==============================] - 23s 997ms/step - loss: 1.8341 - accuracy: 0.5639 - val_loss: 2.3245 - val_accuracy: 0.3875\n",
      "23/23 [==============================] - 23s 984ms/step - loss: 1.7619 - accuracy: 0.6069 - val_loss: 2.3107 - val_accuracy: 0.3625\n",
      "23/23 [==============================] - 23s 1s/step - loss: 1.7376 - accuracy: 0.5903 - val_loss: 2.2084 - val_accuracy: 0.5250\n",
      "23/23 [==============================] - 23s 987ms/step - loss: 1.7329 - accuracy: 0.5917 - val_loss: 2.1993 - val_accuracy: 0.5375\n",
      "23/23 [==============================] - 23s 992ms/step - loss: 1.7135 - accuracy: 0.6028 - val_loss: 2.2397 - val_accuracy: 0.4875\n",
      "23/23 [==============================] - 23s 998ms/step - loss: 1.7149 - accuracy: 0.6083 - val_loss: 2.3290 - val_accuracy: 0.5375\n",
      "23/23 [==============================] - 23s 1s/step - loss: 1.6416 - accuracy: 0.6750 - val_loss: 2.4256 - val_accuracy: 0.3875\n",
      "23/23 [==============================] - 25s 1s/step - loss: 1.7010 - accuracy: 0.6306 - val_loss: 2.2892 - val_accuracy: 0.4375\n",
      "23/23 [==============================] - 23s 979ms/step - loss: 1.6410 - accuracy: 0.6569 - val_loss: 2.2546 - val_accuracy: 0.5125\n",
      "23/23 [==============================] - 23s 981ms/step - loss: 1.6571 - accuracy: 0.6361 - val_loss: 2.1949 - val_accuracy: 0.5000\n",
      "23/23 [==============================] - 22s 978ms/step - loss: 1.6314 - accuracy: 0.6389 - val_loss: 2.2228 - val_accuracy: 0.4250\n",
      "23/23 [==============================] - 23s 981ms/step - loss: 1.6666 - accuracy: 0.5972 - val_loss: 2.2094 - val_accuracy: 0.4250\n",
      "23/23 [==============================] - 23s 980ms/step - loss: 1.5975 - accuracy: 0.6431 - val_loss: 2.1790 - val_accuracy: 0.4750\n",
      "23/23 [==============================] - 23s 987ms/step - loss: 1.5589 - accuracy: 0.6528 - val_loss: 2.1855 - val_accuracy: 0.4875\n",
      "23/23 [==============================] - 24s 1s/step - loss: 1.5700 - accuracy: 0.6472 - val_loss: 2.2494 - val_accuracy: 0.4250\n",
      "23/23 [==============================] - 23s 1s/step - loss: 1.5990 - accuracy: 0.6653 - val_loss: 2.3291 - val_accuracy: 0.3750\n",
      "23/23 [==============================] - 22s 973ms/step - loss: 1.6386 - accuracy: 0.6347 - val_loss: 2.1492 - val_accuracy: 0.5375\n",
      "23/23 [==============================] - 23s 994ms/step - loss: 1.5563 - accuracy: 0.6528 - val_loss: 2.0826 - val_accuracy: 0.5625\n",
      "23/23 [==============================] - 23s 988ms/step - loss: 1.4835 - accuracy: 0.6778 - val_loss: 1.9806 - val_accuracy: 0.5875\n",
      "23/23 [==============================] - 23s 1s/step - loss: 1.5825 - accuracy: 0.6431 - val_loss: 2.0613 - val_accuracy: 0.5750\n",
      "23/23 [==============================] - 23s 1s/step - loss: 1.5116 - accuracy: 0.6708 - val_loss: 2.0339 - val_accuracy: 0.5625\n",
      "23/23 [==============================] - 23s 986ms/step - loss: 1.5370 - accuracy: 0.6375 - val_loss: 2.3134 - val_accuracy: 0.4250\n",
      "23/23 [==============================] - 23s 984ms/step - loss: 1.5013 - accuracy: 0.6750 - val_loss: 1.9871 - val_accuracy: 0.5500\n",
      "23/23 [==============================] - 23s 984ms/step - loss: 1.4633 - accuracy: 0.6903 - val_loss: 1.9241 - val_accuracy: 0.5375\n",
      "23/23 [==============================] - 22s 976ms/step - loss: 1.5358 - accuracy: 0.6556 - val_loss: 2.0684 - val_accuracy: 0.4750\n",
      "23/23 [==============================] - 23s 985ms/step - loss: 1.4769 - accuracy: 0.6833 - val_loss: 2.1132 - val_accuracy: 0.4625\n",
      "23/23 [==============================] - 23s 988ms/step - loss: 1.4518 - accuracy: 0.6708 - val_loss: 1.9723 - val_accuracy: 0.6625\n",
      "23/23 [==============================] - 23s 997ms/step - loss: 1.4072 - accuracy: 0.6944 - val_loss: 1.9293 - val_accuracy: 0.6000\n",
      "23/23 [==============================] - 24s 1s/step - loss: 1.3969 - accuracy: 0.7000 - val_loss: 1.9609 - val_accuracy: 0.5375\n",
      "23/23 [==============================] - 23s 989ms/step - loss: 1.4663 - accuracy: 0.6889 - val_loss: 1.9962 - val_accuracy: 0.5500\n",
      "23/23 [==============================] - 24s 1s/step - loss: 1.3721 - accuracy: 0.7264 - val_loss: 1.9827 - val_accuracy: 0.5250\n",
      "23/23 [==============================] - 23s 987ms/step - loss: 1.4380 - accuracy: 0.7111 - val_loss: 2.0692 - val_accuracy: 0.5000\n",
      "23/23 [==============================] - 23s 1s/step - loss: 1.4161 - accuracy: 0.6944 - val_loss: 1.9926 - val_accuracy: 0.5125\n",
      "23/23 [==============================] - 25s 1s/step - loss: 1.4676 - accuracy: 0.6986 - val_loss: 1.9491 - val_accuracy: 0.5875\n",
      "23/23 [==============================] - 23s 990ms/step - loss: 1.3796 - accuracy: 0.7167 - val_loss: 1.9486 - val_accuracy: 0.5250\n",
      "23/23 [==============================] - 23s 990ms/step - loss: 1.4227 - accuracy: 0.7000 - val_loss: 2.0210 - val_accuracy: 0.5250\n",
      "23/23 [==============================] - 23s 1s/step - loss: 1.3838 - accuracy: 0.7333 - val_loss: 1.8780 - val_accuracy: 0.6125\n",
      "23/23 [==============================] - 24s 1s/step - loss: 1.4547 - accuracy: 0.7083 - val_loss: 2.0775 - val_accuracy: 0.4750\n",
      "23/23 [==============================] - 23s 998ms/step - loss: 1.3684 - accuracy: 0.7319 - val_loss: 1.8871 - val_accuracy: 0.5250\n",
      "23/23 [==============================] - 23s 983ms/step - loss: 1.4475 - accuracy: 0.7194 - val_loss: 2.0245 - val_accuracy: 0.4750\n",
      "23/23 [==============================] - 23s 990ms/step - loss: 1.4041 - accuracy: 0.7486 - val_loss: 1.9805 - val_accuracy: 0.5250\n",
      "23/23 [==============================] - 23s 988ms/step - loss: 1.3926 - accuracy: 0.7375 - val_loss: 2.0711 - val_accuracy: 0.5250\n",
      "23/23 [==============================] - 24s 1s/step - loss: 1.3552 - accuracy: 0.7681 - val_loss: 2.0813 - val_accuracy: 0.5000\n",
      "23/23 [==============================] - 23s 986ms/step - loss: 1.5290 - accuracy: 0.7236 - val_loss: 1.9229 - val_accuracy: 0.5750\n",
      "23/23 [==============================] - 23s 1s/step - loss: 1.3734 - accuracy: 0.7472 - val_loss: 1.9373 - val_accuracy: 0.5875\n",
      "23/23 [==============================] - 23s 988ms/step - loss: 1.3874 - accuracy: 0.7486 - val_loss: 2.0469 - val_accuracy: 0.5625\n",
      "23/23 [==============================] - 23s 990ms/step - loss: 1.3413 - accuracy: 0.7306 - val_loss: 1.8397 - val_accuracy: 0.6000\n",
      "23/23 [==============================] - 23s 990ms/step - loss: 1.3780 - accuracy: 0.7514 - val_loss: 2.0274 - val_accuracy: 0.5375\n",
      "23/23 [==============================] - 23s 996ms/step - loss: 1.4131 - accuracy: 0.7528 - val_loss: 1.8932 - val_accuracy: 0.5500\n",
      "23/23 [==============================] - 23s 984ms/step - loss: 1.3471 - accuracy: 0.7597 - val_loss: 1.9020 - val_accuracy: 0.5875\n",
      "23/23 [==============================] - 24s 1s/step - loss: 1.3281 - accuracy: 0.7472 - val_loss: 1.8780 - val_accuracy: 0.5750\n",
      "23/23 [==============================] - 23s 986ms/step - loss: 1.3333 - accuracy: 0.7764 - val_loss: 2.0394 - val_accuracy: 0.5000\n",
      "23/23 [==============================] - 23s 1s/step - loss: 1.2638 - accuracy: 0.7806 - val_loss: 1.8932 - val_accuracy: 0.6250\n",
      "23/23 [==============================] - 23s 991ms/step - loss: 1.3626 - accuracy: 0.7611 - val_loss: 2.0567 - val_accuracy: 0.5625\n",
      "23/23 [==============================] - 23s 990ms/step - loss: 1.3702 - accuracy: 0.7486 - val_loss: 1.9697 - val_accuracy: 0.6125\n",
      "23/23 [==============================] - 23s 1s/step - loss: 1.4091 - accuracy: 0.7486 - val_loss: 2.1092 - val_accuracy: 0.4750\n",
      "23/23 [==============================] - 23s 1s/step - loss: 1.3114 - accuracy: 0.7764 - val_loss: 2.0428 - val_accuracy: 0.5500\n",
      "23/23 [==============================] - 22s 977ms/step - loss: 1.2567 - accuracy: 0.8083 - val_loss: 1.9499 - val_accuracy: 0.5750\n",
      "23/23 [==============================] - 23s 988ms/step - loss: 1.2035 - accuracy: 0.8194 - val_loss: 2.0198 - val_accuracy: 0.5125\n",
      "23/23 [==============================] - 24s 1s/step - loss: 1.3508 - accuracy: 0.7694 - val_loss: 1.9966 - val_accuracy: 0.5750\n",
      "23/23 [==============================] - 23s 985ms/step - loss: 1.2913 - accuracy: 0.7875 - val_loss: 2.0570 - val_accuracy: 0.5000\n",
      "23/23 [==============================] - 22s 974ms/step - loss: 1.2859 - accuracy: 0.8056 - val_loss: 1.8506 - val_accuracy: 0.6500\n",
      "23/23 [==============================] - 23s 985ms/step - loss: 1.3622 - accuracy: 0.7667 - val_loss: 1.8573 - val_accuracy: 0.7000\n",
      "23/23 [==============================] - 23s 980ms/step - loss: 1.3970 - accuracy: 0.7639 - val_loss: 1.9828 - val_accuracy: 0.5875\n",
      "23/23 [==============================] - 23s 988ms/step - loss: 1.3358 - accuracy: 0.7819 - val_loss: 1.9092 - val_accuracy: 0.6875\n",
      "23/23 [==============================] - 23s 985ms/step - loss: 1.3354 - accuracy: 0.7889 - val_loss: 1.9113 - val_accuracy: 0.5875\n",
      "23/23 [==============================] - 22s 973ms/step - loss: 1.3498 - accuracy: 0.7833 - val_loss: 2.0279 - val_accuracy: 0.5750\n",
      "23/23 [==============================] - 22s 972ms/step - loss: 1.3267 - accuracy: 0.7917 - val_loss: 1.9219 - val_accuracy: 0.5625\n",
      "23/23 [==============================] - 22s 938ms/step - loss: 1.3598 - accuracy: 0.7806 - val_loss: 1.9719 - val_accuracy: 0.6000\n",
      "23/23 [==============================] - 23s 993ms/step - loss: 1.3375 - accuracy: 0.7889 - val_loss: 2.0155 - val_accuracy: 0.5375\n",
      "23/23 [==============================] - 25s 1s/step - loss: 1.2445 - accuracy: 0.8153 - val_loss: 1.8489 - val_accuracy: 0.5875\n",
      "23/23 [==============================] - 23s 998ms/step - loss: 1.2779 - accuracy: 0.8125 - val_loss: 1.9386 - val_accuracy: 0.5875\n",
      "23/23 [==============================] - 23s 995ms/step - loss: 1.3070 - accuracy: 0.8153 - val_loss: 1.7776 - val_accuracy: 0.6375\n",
      "23/23 [==============================] - 23s 989ms/step - loss: 1.2739 - accuracy: 0.8000 - val_loss: 1.8491 - val_accuracy: 0.5750\n",
      "23/23 [==============================] - 23s 1s/step - loss: 1.3561 - accuracy: 0.8014 - val_loss: 1.9442 - val_accuracy: 0.5875\n",
      "23/23 [==============================] - 23s 990ms/step - loss: 1.3289 - accuracy: 0.8028 - val_loss: 1.8763 - val_accuracy: 0.5500\n",
      "23/23 [==============================] - 22s 978ms/step - loss: 1.3274 - accuracy: 0.8181 - val_loss: 1.8573 - val_accuracy: 0.6000\n",
      "23/23 [==============================] - 23s 998ms/step - loss: 1.2317 - accuracy: 0.8472 - val_loss: 1.9100 - val_accuracy: 0.5875\n",
      "23/23 [==============================] - 23s 985ms/step - loss: 1.2583 - accuracy: 0.8000 - val_loss: 1.9267 - val_accuracy: 0.5625\n",
      "23/23 [==============================] - 23s 1s/step - loss: 1.2819 - accuracy: 0.8264 - val_loss: 1.8920 - val_accuracy: 0.6250\n",
      "23/23 [==============================] - 23s 991ms/step - loss: 1.3109 - accuracy: 0.8181 - val_loss: 2.0000 - val_accuracy: 0.6125\n",
      "23/23 [==============================] - 23s 991ms/step - loss: 1.3063 - accuracy: 0.8194 - val_loss: 1.9059 - val_accuracy: 0.6125\n",
      "23/23 [==============================] - 24s 1s/step - loss: 1.3503 - accuracy: 0.8153 - val_loss: 1.9055 - val_accuracy: 0.5750\n",
      "23/23 [==============================] - 23s 984ms/step - loss: 1.3975 - accuracy: 0.7778 - val_loss: 1.9302 - val_accuracy: 0.5750\n",
      "23/23 [==============================] - 23s 984ms/step - loss: 1.3310 - accuracy: 0.8083 - val_loss: 1.9812 - val_accuracy: 0.5625\n",
      "23/23 [==============================] - 23s 987ms/step - loss: 1.3213 - accuracy: 0.8000 - val_loss: 1.9932 - val_accuracy: 0.5625\n"
     ]
    }
   ],
   "source": [
    "epochs=100\n",
    "\n",
    "for epoch in range(epochs):\n",
    "\n",
    "    history = model.fit(\n",
    "      X_train,\n",
    "      y_train,\n",
    "      epochs=1, \n",
    "      batch_size=32,\n",
    "      validation_split=0.10\n",
    "        )"
   ]
  },
  {
   "cell_type": "code",
   "execution_count": 141,
   "id": "da341ddf",
   "metadata": {},
   "outputs": [
    {
     "name": "stdout",
     "output_type": "stream",
     "text": [
      "val_loss = 1.909 and val_acc = 0.600\n"
     ]
    }
   ],
   "source": [
    "score = model.evaluate(X_test, y_test, verbose=0)\n",
    "print(\"val_loss = {:.3f} and val_acc = {:.3f}\".format(score[0], score[1]))"
   ]
  },
  {
   "cell_type": "code",
   "execution_count": 142,
   "id": "110d9005",
   "metadata": {},
   "outputs": [],
   "source": [
    "y_predicted = np.zeros((200, 10))\n",
    "for i, y in enumerate(y_test):\n",
    "    out = model.predict([ X_test[i].reshape((-1, 128, 300, 1)) ])\n",
    "    y_predicted[i][np.argmax(out)] = 1"
   ]
  },
  {
   "cell_type": "code",
   "execution_count": 143,
   "id": "fe86e17f",
   "metadata": {},
   "outputs": [
    {
     "data": {
      "text/plain": [
       "(200, 10)"
      ]
     },
     "execution_count": 143,
     "metadata": {},
     "output_type": "execute_result"
    }
   ],
   "source": [
    "y_predicted.shape"
   ]
  },
  {
   "cell_type": "code",
   "execution_count": 144,
   "id": "4c6036c5",
   "metadata": {},
   "outputs": [
    {
     "data": {
      "text/plain": [
       "array([[0., 0., 0., 0., 0., 0., 0., 0., 0., 1.],\n",
       "       [0., 0., 0., 0., 1., 0., 0., 0., 0., 0.],\n",
       "       [0., 0., 0., 0., 0., 0., 0., 0., 1., 0.],\n",
       "       [0., 0., 0., 0., 0., 1., 0., 0., 0., 0.],\n",
       "       [0., 0., 0., 0., 0., 0., 0., 0., 0., 1.],\n",
       "       [0., 1., 0., 0., 0., 0., 0., 0., 0., 0.],\n",
       "       [0., 0., 0., 0., 0., 0., 1., 0., 0., 0.],\n",
       "       [0., 0., 0., 0., 0., 1., 0., 0., 0., 0.],\n",
       "       [0., 0., 0., 0., 0., 0., 0., 0., 0., 1.],\n",
       "       [1., 0., 0., 0., 0., 0., 0., 0., 0., 0.],\n",
       "       [0., 0., 0., 1., 0., 0., 0., 0., 0., 0.],\n",
       "       [0., 0., 1., 0., 0., 0., 0., 0., 0., 0.],\n",
       "       [0., 0., 0., 1., 0., 0., 0., 0., 0., 0.],\n",
       "       [0., 0., 0., 0., 0., 0., 1., 0., 0., 0.],\n",
       "       [0., 0., 0., 0., 0., 0., 0., 0., 0., 1.],\n",
       "       [0., 0., 0., 0., 1., 0., 0., 0., 0., 0.],\n",
       "       [0., 0., 0., 0., 0., 0., 0., 0., 1., 0.],\n",
       "       [0., 0., 0., 0., 0., 1., 0., 0., 0., 0.],\n",
       "       [0., 1., 0., 0., 0., 0., 0., 0., 0., 0.],\n",
       "       [0., 0., 0., 0., 0., 0., 0., 0., 0., 1.],\n",
       "       [0., 0., 0., 0., 0., 0., 1., 0., 0., 0.],\n",
       "       [0., 0., 0., 0., 1., 0., 0., 0., 0., 0.],\n",
       "       [0., 0., 0., 0., 0., 0., 0., 0., 1., 0.],\n",
       "       [0., 0., 0., 0., 1., 0., 0., 0., 0., 0.],\n",
       "       [0., 0., 0., 0., 0., 0., 0., 0., 0., 1.],\n",
       "       [0., 0., 0., 0., 1., 0., 0., 0., 0., 0.],\n",
       "       [0., 0., 0., 0., 0., 1., 0., 0., 0., 0.],\n",
       "       [0., 0., 0., 0., 1., 0., 0., 0., 0., 0.],\n",
       "       [0., 0., 0., 0., 0., 1., 0., 0., 0., 0.],\n",
       "       [0., 0., 0., 0., 0., 0., 0., 0., 0., 1.]])"
      ]
     },
     "execution_count": 144,
     "metadata": {},
     "output_type": "execute_result"
    }
   ],
   "source": [
    "y_predicted[:30]"
   ]
  },
  {
   "cell_type": "code",
   "execution_count": 145,
   "id": "cf8e2d29",
   "metadata": {},
   "outputs": [
    {
     "data": {
      "text/plain": [
       "0.9199999"
      ]
     },
     "execution_count": 145,
     "metadata": {},
     "output_type": "execute_result"
    }
   ],
   "source": [
    "m = tf.keras.metrics.BinaryAccuracy()\n",
    "m.update_state(y_test, y_predicted)\n",
    "m.result().numpy()"
   ]
  },
  {
   "cell_type": "code",
   "execution_count": 146,
   "id": "1c73c542",
   "metadata": {},
   "outputs": [
    {
     "data": {
      "text/plain": [
       "0.6"
      ]
     },
     "execution_count": 146,
     "metadata": {},
     "output_type": "execute_result"
    }
   ],
   "source": [
    "m = tf.keras.metrics.Precision()\n",
    "m.update_state(y_test, y_predicted)\n",
    "precision = m.result().numpy()\n",
    "precision"
   ]
  },
  {
   "cell_type": "code",
   "execution_count": 147,
   "id": "eee2b355",
   "metadata": {},
   "outputs": [
    {
     "data": {
      "text/plain": [
       "0.6"
      ]
     },
     "execution_count": 147,
     "metadata": {},
     "output_type": "execute_result"
    }
   ],
   "source": [
    "m = tf.keras.metrics.Recall()\n",
    "m.update_state(y_test, y_predicted)\n",
    "recall = m.result().numpy()\n",
    "recall"
   ]
  },
  {
   "cell_type": "code",
   "execution_count": 148,
   "id": "f1031ba9",
   "metadata": {},
   "outputs": [
    {
     "data": {
      "text/plain": [
       "0.6000000238418579"
      ]
     },
     "execution_count": 148,
     "metadata": {},
     "output_type": "execute_result"
    }
   ],
   "source": [
    "f1_score = 2 * ( (precision * recall) / (precision + recall) )\n",
    "f1_score"
   ]
  },
  {
   "cell_type": "code",
   "execution_count": 152,
   "id": "99628108",
   "metadata": {},
   "outputs": [
    {
     "data": {
      "text/plain": [
       "array([[0., 0., 1., ..., 0., 0., 0.],\n",
       "       [0., 0., 0., ..., 0., 0., 0.],\n",
       "       [0., 0., 0., ..., 0., 1., 0.],\n",
       "       ...,\n",
       "       [0., 0., 0., ..., 0., 0., 0.],\n",
       "       [0., 0., 0., ..., 0., 0., 0.],\n",
       "       [0., 0., 1., ..., 0., 0., 0.]])"
      ]
     },
     "execution_count": 152,
     "metadata": {},
     "output_type": "execute_result"
    }
   ],
   "source": [
    "y_test"
   ]
  },
  {
   "cell_type": "code",
   "execution_count": 153,
   "id": "9556444d",
   "metadata": {},
   "outputs": [
    {
     "data": {
      "text/plain": [
       "array([2, 4, 8, 5, 0, 1, 6, 9, 9, 0, 1, 2, 8, 3, 9, 7, 3, 5, 1, 2, 6, 4,\n",
       "       8, 4, 3, 8, 5, 4, 5, 8, 7, 9, 3, 2, 9, 5, 4, 3, 8, 8, 8, 8, 6, 5,\n",
       "       6, 9, 3, 6, 2, 7, 4, 4, 5, 2, 2, 5, 2, 8, 9, 2, 9, 5, 6, 3, 2, 7,\n",
       "       2, 6, 7, 6, 7, 4, 6, 3, 7, 6, 8, 8, 1, 0, 1, 4, 1, 1, 0, 0, 3, 5,\n",
       "       6, 7, 6, 0, 8, 0, 7, 3, 7, 7, 8, 5, 9, 5, 7, 2, 6, 5, 3, 6, 9, 7,\n",
       "       1, 1, 8, 0, 8, 1, 7, 4, 4, 7, 8, 3, 2, 3, 1, 8, 6, 3, 8, 6, 0, 3,\n",
       "       4, 7, 7, 2, 0, 2, 5, 9, 5, 4, 6, 9, 1, 0, 6, 8, 4, 3, 1, 9, 4, 4,\n",
       "       3, 0, 8, 0, 0, 1, 7, 0, 3, 6, 0, 9, 0, 5, 4, 1, 4, 3, 4, 1, 2, 1,\n",
       "       2, 4, 6, 7, 7, 4, 3, 8, 6, 0, 0, 9, 6, 2, 6, 7, 0, 0, 9, 8, 3, 3,\n",
       "       5, 2], dtype=int64)"
      ]
     },
     "execution_count": 153,
     "metadata": {},
     "output_type": "execute_result"
    }
   ],
   "source": [
    "y_test2 = y_test.argmax(1)\n",
    "y_test2"
   ]
  },
  {
   "cell_type": "code",
   "execution_count": 154,
   "id": "e494e0cf",
   "metadata": {},
   "outputs": [
    {
     "data": {
      "text/plain": [
       "array([9, 4, 8, 5, 9, 1, 6, 5, 9, 0, 3, 2, 3, 6, 9, 4, 8, 5, 1, 9, 6, 4,\n",
       "       8, 4, 9, 4, 5, 4, 5, 9, 0, 9, 3, 2, 9, 9, 4, 9, 9, 8, 3, 8, 6, 5,\n",
       "       9, 6, 4, 6, 9, 7, 4, 4, 5, 2, 5, 5, 2, 3, 9, 9, 9, 8, 6, 3, 9, 2,\n",
       "       9, 6, 7, 6, 4, 4, 9, 4, 3, 6, 8, 4, 1, 0, 1, 4, 1, 1, 9, 2, 4, 5,\n",
       "       6, 9, 6, 9, 8, 0, 8, 9, 4, 9, 8, 2, 4, 5, 4, 2, 6, 1, 3, 6, 9, 3,\n",
       "       1, 1, 9, 5, 4, 1, 1, 4, 4, 2, 8, 3, 2, 9, 1, 8, 6, 0, 8, 6, 9, 3,\n",
       "       4, 2, 4, 2, 5, 9, 5, 9, 5, 4, 6, 9, 1, 0, 6, 8, 4, 9, 1, 0, 4, 4,\n",
       "       3, 6, 5, 0, 0, 1, 8, 9, 4, 6, 2, 9, 0, 5, 4, 1, 4, 6, 4, 1, 2, 1,\n",
       "       2, 4, 9, 3, 7, 4, 3, 8, 6, 5, 9, 6, 6, 0, 6, 7, 5, 9, 9, 2, 9, 4,\n",
       "       5, 3], dtype=int64)"
      ]
     },
     "execution_count": 154,
     "metadata": {},
     "output_type": "execute_result"
    }
   ],
   "source": [
    "y_predicted2 = y_predicted.argmax(1)\n",
    "y_predicted2"
   ]
  },
  {
   "cell_type": "code",
   "execution_count": 155,
   "id": "557d375f",
   "metadata": {},
   "outputs": [
    {
     "name": "stdout",
     "output_type": "stream",
     "text": [
      "tf.Tensor(\n",
      "[[ 7  0  2  0  0  4  1  0  0  7]\n",
      " [ 0 16  0  1  0  0  0  0  0  0]\n",
      " [ 1  0  9  1  0  1  0  0  0  7]\n",
      " [ 1  0  0  7  5  0  2  0  1  6]\n",
      " [ 0  0  0  0 21  0  0  0  0  0]\n",
      " [ 0  1  1  0  0 13  0  0  1  1]\n",
      " [ 0  0  0  0  0  0 20  0  0  3]\n",
      " [ 1  1  3  3  5  0  0  4  2  2]\n",
      " [ 0  0  1  3  3  1  0  0 12  3]\n",
      " [ 1  0  0  0  1  1  2  0  0 11]], shape=(10, 10), dtype=int32)\n"
     ]
    }
   ],
   "source": [
    "cm = tf.math.confusion_matrix(y_test2, y_predicted2, 10)\n",
    "print(cm)"
   ]
  },
  {
   "cell_type": "code",
   "execution_count": 156,
   "id": "aa96afbe",
   "metadata": {},
   "outputs": [
    {
     "data": {
      "image/png": "[encoded data removed]",
      "text/plain": [
       "<Figure size 432x288 with 2 Axes>"
      ]
     },
     "metadata": {},
     "output_type": "display_data"
    }
   ],
   "source": [
    "df_cm = pd.DataFrame(cm, range(10), range(10))\n",
    "# plt.figure(figsize=(10,7))\n",
    "sn.set(font_scale=1.4) # for label size\n",
    "sn.heatmap(df_cm, annot=True, annot_kws={\"size\": 16}) # font size\n",
    "\n",
    "plt.show()"
   ]
  }
 ],
 "metadata": {
  "kernelspec": {
   "display_name": "Python 3 (ipykernel)",
   "language": "python",
   "name": "python3"
  },
  "language_info": {
   "codemirror_mode": {
    "name": "ipython",
    "version": 3
   },
   "file_extension": ".py",
   "mimetype": "text/x-python",
   "name": "python",
   "nbconvert_exporter": "python",
   "pygments_lexer": "ipython3",
   "version": "3.8.13"
  }
 },
 "nbformat": 4,
 "nbformat_minor": 5
}
