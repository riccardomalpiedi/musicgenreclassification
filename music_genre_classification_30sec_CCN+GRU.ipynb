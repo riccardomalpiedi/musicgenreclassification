{
 "cells": [
  {
   "cell_type": "code",
   "execution_count": 54,
   "id": "1353d4ed",
   "metadata": {},
   "outputs": [],
   "source": [
    "import numpy as np\n",
    "import pandas as pd\n",
    "import tensorflow as tf\n",
    "from tensorflow import keras\n",
    "import seaborn as sn\n",
    "import matplotlib.pyplot as plt"
   ]
  },
  {
   "cell_type": "code",
   "execution_count": 55,
   "id": "f2d896d7",
   "metadata": {},
   "outputs": [],
   "source": [
    "# Choose the path of the data\n",
    "X_data_path = \"data/X_data_10sec.csv\"\n",
    "y_data_path = \"data/y_data_10sec.csv\""
   ]
  },
  {
   "cell_type": "code",
   "execution_count": 56,
   "id": "7775ecc7",
   "metadata": {},
   "outputs": [],
   "source": [
    "# Set the parameters\n",
    "epochs = 16\n",
    "seconds = \"10sec\" # length of each sample, this will be used only to name the files with the results"
   ]
  },
  {
   "cell_type": "code",
   "execution_count": 57,
   "id": "884fcc38",
   "metadata": {},
   "outputs": [
    {
     "data": {
      "text/plain": [
       "(3000, 38400)"
      ]
     },
     "execution_count": 57,
     "metadata": {},
     "output_type": "execute_result"
    }
   ],
   "source": [
    "X_data = np.loadtxt(X_data_path, delimiter=\",\")\n",
    "X_data.shape"
   ]
  },
  {
   "cell_type": "code",
   "execution_count": 58,
   "id": "525fb095",
   "metadata": {},
   "outputs": [
    {
     "data": {
      "text/plain": [
       "array([[  0.28048742,   0.81629163,  -6.23892689, ..., -47.85346985,\n",
       "        -47.85346985, -38.20292664],\n",
       "       [ -4.82241058,  -6.21592712, -10.80950546, ..., -46.43103409,\n",
       "        -46.43103409, -46.43103409],\n",
       "       [  3.79986668,   5.4657836 ,   5.81849146, ..., -49.15478134,\n",
       "        -49.15478134, -33.45807266],\n",
       "       ...,\n",
       "       [-21.03319359, -24.26096344, -23.05108261, ..., -60.63187408,\n",
       "        -60.63187408, -42.44838333],\n",
       "       [ -7.60533762, -11.47871494, -10.9920063 , ..., -61.26615906,\n",
       "        -61.26615906, -43.74389267],\n",
       "       [ -8.89348984, -21.42334938, -28.44589043, ..., -59.62312698,\n",
       "        -59.62312698, -44.60402679]])"
      ]
     },
     "execution_count": 58,
     "metadata": {},
     "output_type": "execute_result"
    }
   ],
   "source": [
    "X_data"
   ]
  },
  {
   "cell_type": "code",
   "execution_count": 59,
   "id": "108b1d84",
   "metadata": {},
   "outputs": [
    {
     "data": {
      "text/plain": [
       "(3000,)"
      ]
     },
     "execution_count": 59,
     "metadata": {},
     "output_type": "execute_result"
    }
   ],
   "source": [
    "y_data = np.loadtxt(y_data_path, dtype=str)\n",
    "y_data.shape"
   ]
  },
  {
   "cell_type": "code",
   "execution_count": 60,
   "id": "d944b93d",
   "metadata": {},
   "outputs": [
    {
     "data": {
      "text/plain": [
       "array(['blues', 'blues', 'blues', ..., 'rock', 'rock', 'rock'],\n",
       "      dtype='<U9')"
      ]
     },
     "execution_count": 60,
     "metadata": {},
     "output_type": "execute_result"
    }
   ],
   "source": [
    "y_data"
   ]
  },
  {
   "cell_type": "code",
   "execution_count": 61,
   "id": "7775c49d",
   "metadata": {},
   "outputs": [
    {
     "data": {
      "text/plain": [
       "array(['blues', 'classical', 'country', 'disco', 'hiphop', 'jazz',\n",
       "       'metal', 'pop', 'reggae', 'rock'], dtype='<U9')"
      ]
     },
     "execution_count": 61,
     "metadata": {},
     "output_type": "execute_result"
    }
   ],
   "source": [
    "labels = np.unique(y_data)\n",
    "labels"
   ]
  },
  {
   "cell_type": "code",
   "execution_count": 62,
   "id": "cee9988f",
   "metadata": {
    "scrolled": true
   },
   "outputs": [
    {
     "data": {
      "text/plain": [
       "array([[1., 0., 0., ..., 0., 0., 0.],\n",
       "       [1., 0., 0., ..., 0., 0., 0.],\n",
       "       [1., 0., 0., ..., 0., 0., 0.],\n",
       "       ...,\n",
       "       [0., 0., 0., ..., 0., 0., 1.],\n",
       "       [0., 0., 0., ..., 0., 0., 1.],\n",
       "       [0., 0., 0., ..., 0., 0., 1.]])"
      ]
     },
     "execution_count": 62,
     "metadata": {},
     "output_type": "execute_result"
    }
   ],
   "source": [
    "y_data2 = np.zeros((y_data.shape[0], len(labels)))\n",
    "\n",
    "for i, label in enumerate(labels):\n",
    "    for j in range(y_data.shape[0]):\n",
    "        if y_data[j] == label:\n",
    "            y_data2[j][i] = 1\n",
    "            \n",
    "y_data2"
   ]
  },
  {
   "cell_type": "code",
   "execution_count": 63,
   "id": "44a6afe7",
   "metadata": {},
   "outputs": [
    {
     "data": {
      "text/plain": [
       "(3000, 128, 300, 1)"
      ]
     },
     "execution_count": 63,
     "metadata": {},
     "output_type": "execute_result"
    }
   ],
   "source": [
    "X_data2 = X_data.reshape(X_data.shape[0], 128, 300, 1)\n",
    "X_data2.shape"
   ]
  },
  {
   "cell_type": "code",
   "execution_count": 64,
   "id": "413cb252",
   "metadata": {},
   "outputs": [
    {
     "name": "stdout",
     "output_type": "stream",
     "text": [
      "(2400, 128, 300, 1)\n",
      "(600, 128, 300, 1)\n",
      "(2400, 10)\n",
      "(600, 10)\n"
     ]
    }
   ],
   "source": [
    "from sklearn.model_selection import train_test_split\n",
    "\n",
    "X_train, X_test, y_train, y_test = train_test_split(X_data2, y_data2, test_size=0.2)\n",
    "print(X_train.shape)\n",
    "print(X_test.shape)\n",
    "print(y_train.shape)\n",
    "print(y_test.shape)"
   ]
  },
  {
   "cell_type": "code",
   "execution_count": 65,
   "id": "94af2b2a",
   "metadata": {},
   "outputs": [],
   "source": [
    "# def conv_block(x, n_filters=64,filter_size=(7, 128), pool_size=(2, 2),stride=(2, 2)):\n",
    "#     x = keras.layers.Conv2D(n_filters, filter_size, activation = \"relu\", strides=(1, 1), padding='same')(x)\n",
    "#     x = keras.layers.MaxPooling2D(pool_size=pool_size, strides=stride)(x)\n",
    "#     x = keras.layers.Dropout(0.5)(x)\n",
    "#     return x\n",
    "def conv_block(x, n_filters,filter_size=(3, 3), pool_size=(2, 2),stride=(1, 1)):\n",
    "    x = keras.layers.Conv2D(n_filters, filter_size, strides=(1, 1), padding='same')(x)\n",
    "    x = keras.layers.Activation('relu')(x)\n",
    "    x = keras.layers.MaxPooling2D(pool_size=pool_size, strides=stride)(x)\n",
    "    x = keras.layers.Dropout(0.4)(x)\n",
    "    return x"
   ]
  },
  {
   "cell_type": "code",
   "execution_count": 66,
   "id": "cbb8685c",
   "metadata": {},
   "outputs": [],
   "source": [
    "nn_input = keras.Input(shape=(128,300,1))\n",
    "x = conv_block(nn_input, 16,stride=(2,2))\n",
    "x = conv_block(x, 32,filter_size=(3,3),stride=(2,2))\n",
    "x = conv_block(x, 64, stride=(2,2))\n",
    "x = conv_block(x, 128,filter_size=(3,3),stride=(2,2))\n",
    "x = conv_block(x, 256,stride=(2,2))\n",
    "x = keras.layers.Reshape((4,2304), input_shape=(4,9,256))(x)\n",
    "x = keras.layers.GRU(1024, activation=\"relu\", return_sequences=True)(x)\n",
    "x = keras.layers.Flatten()(x)\n",
    "x = keras.layers.Dropout(0.5)(x)\n",
    "x = keras.layers.Dense(256, activation='relu')(x)\n",
    "x = keras.layers.Dropout(0.5)(x)\n",
    "predictions = keras.layers.Dense(len(labels), \n",
    "                        activation='softmax')(x)\n",
    "    \n",
    "model = keras.Model(inputs=nn_input, outputs=predictions)"
   ]
  },
  {
   "cell_type": "code",
   "execution_count": 67,
   "id": "8a7a1e24",
   "metadata": {
    "scrolled": true
   },
   "outputs": [
    {
     "name": "stdout",
     "output_type": "stream",
     "text": [
      "Model: \"model_2\"\n",
      "_________________________________________________________________\n",
      " Layer (type)                Output Shape              Param #   \n",
      "=================================================================\n",
      " input_3 (InputLayer)        [(None, 128, 300, 1)]     0         \n",
      "                                                                 \n",
      " conv2d_10 (Conv2D)          (None, 128, 300, 16)      160       \n",
      "                                                                 \n",
      " activation_10 (Activation)  (None, 128, 300, 16)      0         \n",
      "                                                                 \n",
      " max_pooling2d_10 (MaxPoolin  (None, 64, 150, 16)      0         \n",
      " g2D)                                                            \n",
      "                                                                 \n",
      " dropout_14 (Dropout)        (None, 64, 150, 16)       0         \n",
      "                                                                 \n",
      " conv2d_11 (Conv2D)          (None, 64, 150, 32)       4640      \n",
      "                                                                 \n",
      " activation_11 (Activation)  (None, 64, 150, 32)       0         \n",
      "                                                                 \n",
      " max_pooling2d_11 (MaxPoolin  (None, 32, 75, 32)       0         \n",
      " g2D)                                                            \n",
      "                                                                 \n",
      " dropout_15 (Dropout)        (None, 32, 75, 32)        0         \n",
      "                                                                 \n",
      " conv2d_12 (Conv2D)          (None, 32, 75, 64)        18496     \n",
      "                                                                 \n",
      " activation_12 (Activation)  (None, 32, 75, 64)        0         \n",
      "                                                                 \n",
      " max_pooling2d_12 (MaxPoolin  (None, 16, 37, 64)       0         \n",
      " g2D)                                                            \n",
      "                                                                 \n",
      " dropout_16 (Dropout)        (None, 16, 37, 64)        0         \n",
      "                                                                 \n",
      " conv2d_13 (Conv2D)          (None, 16, 37, 128)       73856     \n",
      "                                                                 \n",
      " activation_13 (Activation)  (None, 16, 37, 128)       0         \n",
      "                                                                 \n",
      " max_pooling2d_13 (MaxPoolin  (None, 8, 18, 128)       0         \n",
      " g2D)                                                            \n",
      "                                                                 \n",
      " dropout_17 (Dropout)        (None, 8, 18, 128)        0         \n",
      "                                                                 \n",
      " conv2d_14 (Conv2D)          (None, 8, 18, 256)        295168    \n",
      "                                                                 \n",
      " activation_14 (Activation)  (None, 8, 18, 256)        0         \n",
      "                                                                 \n",
      " max_pooling2d_14 (MaxPoolin  (None, 4, 9, 256)        0         \n",
      " g2D)                                                            \n",
      "                                                                 \n",
      " dropout_18 (Dropout)        (None, 4, 9, 256)         0         \n",
      "                                                                 \n",
      " reshape_2 (Reshape)         (None, 4, 2304)           0         \n",
      "                                                                 \n",
      " gru_2 (GRU)                 (None, 4, 1024)           10229760  \n",
      "                                                                 \n",
      " flatten_2 (Flatten)         (None, 4096)              0         \n",
      "                                                                 \n",
      " dropout_19 (Dropout)        (None, 4096)              0         \n",
      "                                                                 \n",
      " dense_4 (Dense)             (None, 256)               1048832   \n",
      "                                                                 \n",
      " dropout_20 (Dropout)        (None, 256)               0         \n",
      "                                                                 \n",
      " dense_5 (Dense)             (None, 10)                2570      \n",
      "                                                                 \n",
      "=================================================================\n",
      "Total params: 11,673,482\n",
      "Trainable params: 11,673,482\n",
      "Non-trainable params: 0\n",
      "_________________________________________________________________\n"
     ]
    }
   ],
   "source": [
    "model.summary()"
   ]
  },
  {
   "cell_type": "code",
   "execution_count": 68,
   "id": "be2b7e46",
   "metadata": {},
   "outputs": [],
   "source": [
    "model.compile(loss=tf.keras.losses.categorical_crossentropy,\n",
    "              optimizer=tf.keras.optimizers.Adam(learning_rate=0.001),\n",
    "              metrics=['accuracy'])"
   ]
  },
  {
   "cell_type": "code",
   "execution_count": 69,
   "id": "84c94100",
   "metadata": {
    "scrolled": true
   },
   "outputs": [
    {
     "name": "stdout",
     "output_type": "stream",
     "text": [
      "Epoch 1/16\n",
      "34/34 [==============================] - 84s 2s/step - loss: 3.8928 - accuracy: 0.1019 - val_loss: 2.3015 - val_accuracy: 0.1375\n",
      "Epoch 2/16\n",
      "34/34 [==============================] - 76s 2s/step - loss: 2.2381 - accuracy: 0.1458 - val_loss: 2.2939 - val_accuracy: 0.1542\n",
      "Epoch 3/16\n",
      "34/34 [==============================] - 76s 2s/step - loss: 2.1249 - accuracy: 0.2190 - val_loss: 2.2880 - val_accuracy: 0.1125\n",
      "Epoch 4/16\n",
      "34/34 [==============================] - 76s 2s/step - loss: 2.0914 - accuracy: 0.2259 - val_loss: 2.2821 - val_accuracy: 0.1208\n",
      "Epoch 5/16\n",
      "34/34 [==============================] - 76s 2s/step - loss: 2.0060 - accuracy: 0.2708 - val_loss: 2.2890 - val_accuracy: 0.1500\n",
      "Epoch 6/16\n",
      "34/34 [==============================] - 75s 2s/step - loss: 1.8999 - accuracy: 0.3042 - val_loss: 2.2697 - val_accuracy: 0.2208\n",
      "Epoch 7/16\n",
      "34/34 [==============================] - 76s 2s/step - loss: 1.8556 - accuracy: 0.3185 - val_loss: 2.2562 - val_accuracy: 0.1958\n",
      "Epoch 8/16\n",
      "34/34 [==============================] - 75s 2s/step - loss: 1.7941 - accuracy: 0.3218 - val_loss: 2.2201 - val_accuracy: 0.2125\n",
      "Epoch 9/16\n",
      "34/34 [==============================] - 74s 2s/step - loss: 1.7272 - accuracy: 0.3523 - val_loss: 2.2279 - val_accuracy: 0.1875\n",
      "Epoch 10/16\n",
      "34/34 [==============================] - 75s 2s/step - loss: 1.6718 - accuracy: 0.3787 - val_loss: 2.2758 - val_accuracy: 0.1458\n",
      "Epoch 11/16\n",
      "34/34 [==============================] - 76s 2s/step - loss: 1.5989 - accuracy: 0.4046 - val_loss: 2.3752 - val_accuracy: 0.2000\n",
      "Epoch 12/16\n",
      "34/34 [==============================] - 76s 2s/step - loss: 1.5288 - accuracy: 0.4338 - val_loss: 2.5102 - val_accuracy: 0.2792\n",
      "Epoch 13/16\n",
      "34/34 [==============================] - 75s 2s/step - loss: 1.5309 - accuracy: 0.4144 - val_loss: 2.4975 - val_accuracy: 0.1708\n",
      "Epoch 14/16\n",
      "34/34 [==============================] - 76s 2s/step - loss: 1.4775 - accuracy: 0.4407 - val_loss: 2.8443 - val_accuracy: 0.1250\n",
      "Epoch 15/16\n",
      "34/34 [==============================] - 75s 2s/step - loss: 1.4254 - accuracy: 0.4801 - val_loss: 2.5177 - val_accuracy: 0.1917\n",
      "Epoch 16/16\n",
      "34/34 [==============================] - 76s 2s/step - loss: 1.3893 - accuracy: 0.4773 - val_loss: 2.8412 - val_accuracy: 0.2000\n"
     ]
    }
   ],
   "source": [
    "history = model.fit(\n",
    "      X_train,\n",
    "      y_train,\n",
    "      epochs=epochs, \n",
    "      batch_size=64,\n",
    "      validation_split=0.10\n",
    "        )"
   ]
  },
  {
   "cell_type": "code",
   "execution_count": 70,
   "id": "a004bbe7",
   "metadata": {},
   "outputs": [
    {
     "name": "stderr",
     "output_type": "stream",
     "text": [
      "WARNING:absl:Found untraced functions such as _jit_compiled_convolution_op, _jit_compiled_convolution_op, _jit_compiled_convolution_op, _jit_compiled_convolution_op, _jit_compiled_convolution_op while saving (showing 5 of 5). These functions will not be directly callable after loading.\n"
     ]
    },
    {
     "name": "stdout",
     "output_type": "stream",
     "text": [
      "INFO:tensorflow:Assets written to: models/GRU_model_10sec_16epochs\\assets\n"
     ]
    },
    {
     "name": "stderr",
     "output_type": "stream",
     "text": [
      "INFO:tensorflow:Assets written to: models/GRU_model_10sec_16epochs\\assets\n"
     ]
    }
   ],
   "source": [
    "model.save(\"models/GRU_model_\" + seconds + \"_\" + str(epochs) + \"epochs\")"
   ]
  },
  {
   "cell_type": "code",
   "execution_count": 71,
   "id": "44c3028c",
   "metadata": {},
   "outputs": [
    {
     "data": {
      "image/png": "[encoded data removed]",
      "text/plain": [
       "<Figure size 640x480 with 1 Axes>"
      ]
     },
     "metadata": {},
     "output_type": "display_data"
    }
   ],
   "source": [
    "plt.plot(history.history['accuracy'])\n",
    "plt.plot(history.history['val_accuracy'])\n",
    "plt.title('model accuracy')\n",
    "plt.ylabel('accuracy')\n",
    "plt.xlabel('epoch')\n",
    "plt.legend(['train', 'val'], loc='upper left')\n",
    "# plt.savefig(\"images/GRU_accuracy_\" + seconds + \".png\")\n",
    "plt.show()"
   ]
  },
  {
   "cell_type": "code",
   "execution_count": 72,
   "id": "2a1fbf36",
   "metadata": {},
   "outputs": [
    {
     "data": {
      "image/png": "[encoded data removed]",
      "text/plain": [
       "<Figure size 640x480 with 1 Axes>"
      ]
     },
     "metadata": {},
     "output_type": "display_data"
    }
   ],
   "source": [
    "plt.plot(history.history['loss'])\n",
    "plt.plot(history.history['val_loss'])\n",
    "plt.title('model loss')\n",
    "plt.ylabel('loss')\n",
    "plt.xlabel('epoch')\n",
    "plt.legend(['train', 'val'], loc='upper left')\n",
    "# plt.savefig(\"images/GRU_loss_\" + seconds + \".png\")\n",
    "plt.show()"
   ]
  },
  {
   "cell_type": "code",
   "execution_count": 73,
   "id": "da341ddf",
   "metadata": {},
   "outputs": [
    {
     "name": "stdout",
     "output_type": "stream",
     "text": [
      "val_loss = 3.098 and val_acc = 0.170\n"
     ]
    }
   ],
   "source": [
    "score = model.evaluate(X_test, y_test, verbose=0)\n",
    "print(\"val_loss = {:.3f} and val_acc = {:.3f}\".format(score[0], score[1]))"
   ]
  },
  {
   "cell_type": "code",
   "execution_count": 74,
   "id": "1c8431f8",
   "metadata": {
    "scrolled": true
   },
   "outputs": [
    {
     "name": "stdout",
     "output_type": "stream",
     "text": [
      "19/19 [==============================] - 5s 251ms/step\n",
      "(600, 10)\n"
     ]
    },
    {
     "data": {
      "text/plain": [
       "array([[2.3535218e-05, 2.0046816e-06, 1.2852765e-04, ..., 1.8724871e-03,\n",
       "        2.2051939e-04, 3.9928374e-03],\n",
       "       [8.9808004e-03, 3.1504824e-03, 3.9683901e-02, ..., 2.6560469e-02,\n",
       "        6.4813215e-03, 2.4184671e-01],\n",
       "       [3.7251555e-03, 1.2285021e-03, 1.4770530e-02, ..., 3.7727565e-01,\n",
       "        2.9358890e-02, 7.1455032e-02],\n",
       "       ...,\n",
       "       [1.4937374e-02, 6.3586328e-03, 5.0431106e-02, ..., 7.2435841e-02,\n",
       "        1.9128103e-02, 2.0171613e-01],\n",
       "       [2.4378622e-02, 9.7546019e-03, 8.2640901e-02, ..., 3.0650502e-02,\n",
       "        9.0686977e-03, 3.7501100e-01],\n",
       "       [1.0968114e-02, 5.3168372e-03, 7.9242766e-02, ..., 4.9916994e-02,\n",
       "        5.7047703e-03, 4.8719463e-01]], dtype=float32)"
      ]
     },
     "execution_count": 74,
     "metadata": {},
     "output_type": "execute_result"
    }
   ],
   "source": [
    "y_pred = model.predict(X_test)\n",
    "print(y_pred.shape)\n",
    "y_pred"
   ]
  },
  {
   "cell_type": "code",
   "execution_count": 75,
   "id": "355bdaf9",
   "metadata": {},
   "outputs": [
    {
     "data": {
      "text/plain": [
       "array([6, 6, 7, 9, 6, 6, 4, 6, 4, 6, 9, 9, 4, 7, 6], dtype=int64)"
      ]
     },
     "execution_count": 75,
     "metadata": {},
     "output_type": "execute_result"
    }
   ],
   "source": [
    "y_classes = y_pred.argmax(1)\n",
    "y_classes[:15]"
   ]
  },
  {
   "cell_type": "code",
   "execution_count": 76,
   "id": "f6d24523",
   "metadata": {},
   "outputs": [
    {
     "data": {
      "text/plain": [
       "array([8, 0, 3, 5, 4, 1, 8, 0, 8, 7, 2, 9, 7, 8, 4], dtype=int64)"
      ]
     },
     "execution_count": 76,
     "metadata": {},
     "output_type": "execute_result"
    }
   ],
   "source": [
    "y_test2 = y_test.argmax(1)\n",
    "y_test2[:15]"
   ]
  },
  {
   "cell_type": "code",
   "execution_count": 77,
   "id": "72040727",
   "metadata": {},
   "outputs": [
    {
     "name": "stdout",
     "output_type": "stream",
     "text": [
      "accuracy     : 0.17\n",
      "precision    : 0.11446353461182006\n",
      "recall       : 0.20647305320037684\n",
      "f1-score     : 0.12002182030202153\n"
     ]
    },
    {
     "name": "stderr",
     "output_type": "stream",
     "text": [
      "C:\\Users\\Utente\\anaconda3\\envs\\tensorflow_env\\lib\\site-packages\\sklearn\\metrics\\_classification.py:1344: UndefinedMetricWarning: Precision is ill-defined and being set to 0.0 in labels with no predicted samples. Use `zero_division` parameter to control this behavior.\n",
      "  _warn_prf(average, modifier, msg_start, len(result))\n"
     ]
    }
   ],
   "source": [
    "import sklearn.metrics as mt\n",
    "\n",
    "accuracy = mt.accuracy_score(y_test2, y_classes)\n",
    "precision = mt.precision_score(y_test2, y_classes, average = \"macro\")\n",
    "recall = mt.recall_score(y_test2, y_classes, average = \"macro\")\n",
    "f1_score = mt.f1_score(y_test2, y_classes, average = \"macro\")\n",
    "print(\"accuracy     : \" + str(accuracy))\n",
    "print(\"precision    : \" + str(precision))\n",
    "print(\"recall       : \" + str(recall))\n",
    "print(\"f1-score     : \" + str(f1_score))"
   ]
  },
  {
   "cell_type": "code",
   "execution_count": 78,
   "id": "3b10723a",
   "metadata": {},
   "outputs": [],
   "source": [
    "# model_metrics = {\n",
    "#     \"epochs\" : [64],\n",
    "#     \"accuracy\" : [accuracy],\n",
    "#     \"precision\" : [precision],\n",
    "#     \"recall\" : [recall],\n",
    "#     \"f1-score\" : [f1_score]\n",
    "# }\n",
    "# df_metrics = pd.DataFrame(model_metrics)\n",
    "# metrics_path = \"metrics/GRU_metrics_\" + seconds + \".csv\"\n",
    "# df_metrics.to_csv(metrics_path, index=False)"
   ]
  },
  {
   "cell_type": "code",
   "execution_count": 79,
   "id": "eaf5bdaf",
   "metadata": {},
   "outputs": [
    {
     "data": {
      "text/html": [
       "<div>\n",
       "<style scoped>\n",
       "    .dataframe tbody tr th:only-of-type {\n",
       "        vertical-align: middle;\n",
       "    }\n",
       "\n",
       "    .dataframe tbody tr th {\n",
       "        vertical-align: top;\n",
       "    }\n",
       "\n",
       "    .dataframe thead th {\n",
       "        text-align: right;\n",
       "    }\n",
       "</style>\n",
       "<table border=\"1\" class=\"dataframe\">\n",
       "  <thead>\n",
       "    <tr style=\"text-align: right;\">\n",
       "      <th></th>\n",
       "      <th>epochs</th>\n",
       "      <th>accuracy</th>\n",
       "      <th>precision</th>\n",
       "      <th>recall</th>\n",
       "      <th>f1-score</th>\n",
       "    </tr>\n",
       "  </thead>\n",
       "  <tbody>\n",
       "    <tr>\n",
       "      <th>0</th>\n",
       "      <td>32.0</td>\n",
       "      <td>0.346667</td>\n",
       "      <td>0.446165</td>\n",
       "      <td>0.359516</td>\n",
       "      <td>0.286792</td>\n",
       "    </tr>\n",
       "    <tr>\n",
       "      <th>1</th>\n",
       "      <td>64.0</td>\n",
       "      <td>0.476667</td>\n",
       "      <td>0.628770</td>\n",
       "      <td>0.470385</td>\n",
       "      <td>0.434655</td>\n",
       "    </tr>\n",
       "  </tbody>\n",
       "</table>\n",
       "</div>"
      ],
      "text/plain": [
       "   epochs  accuracy  precision    recall  f1-score\n",
       "0    32.0  0.346667   0.446165  0.359516  0.286792\n",
       "1    64.0  0.476667   0.628770  0.470385  0.434655"
      ]
     },
     "execution_count": 79,
     "metadata": {},
     "output_type": "execute_result"
    }
   ],
   "source": [
    "metrics_path = \"metrics/GRU_metrics_\" + seconds + \".csv\"\n",
    "df_metrics = pd.read_csv(metrics_path)\n",
    "df_metrics"
   ]
  },
  {
   "cell_type": "code",
   "execution_count": 80,
   "id": "02f77b3d",
   "metadata": {},
   "outputs": [
    {
     "name": "stderr",
     "output_type": "stream",
     "text": [
      "C:\\Users\\Utente\\AppData\\Local\\Temp\\ipykernel_11852\\2179813385.py:8: FutureWarning: The frame.append method is deprecated and will be removed from pandas in a future version. Use pandas.concat instead.\n",
      "  df_metrics = df_metrics.append(model_metrics, ignore_index=True)\n"
     ]
    },
    {
     "data": {
      "text/html": [
       "<div>\n",
       "<style scoped>\n",
       "    .dataframe tbody tr th:only-of-type {\n",
       "        vertical-align: middle;\n",
       "    }\n",
       "\n",
       "    .dataframe tbody tr th {\n",
       "        vertical-align: top;\n",
       "    }\n",
       "\n",
       "    .dataframe thead th {\n",
       "        text-align: right;\n",
       "    }\n",
       "</style>\n",
       "<table border=\"1\" class=\"dataframe\">\n",
       "  <thead>\n",
       "    <tr style=\"text-align: right;\">\n",
       "      <th></th>\n",
       "      <th>epochs</th>\n",
       "      <th>accuracy</th>\n",
       "      <th>precision</th>\n",
       "      <th>recall</th>\n",
       "      <th>f1-score</th>\n",
       "    </tr>\n",
       "  </thead>\n",
       "  <tbody>\n",
       "    <tr>\n",
       "      <th>2</th>\n",
       "      <td>16.0</td>\n",
       "      <td>0.170000</td>\n",
       "      <td>0.114464</td>\n",
       "      <td>0.206473</td>\n",
       "      <td>0.120022</td>\n",
       "    </tr>\n",
       "    <tr>\n",
       "      <th>0</th>\n",
       "      <td>32.0</td>\n",
       "      <td>0.346667</td>\n",
       "      <td>0.446165</td>\n",
       "      <td>0.359516</td>\n",
       "      <td>0.286792</td>\n",
       "    </tr>\n",
       "    <tr>\n",
       "      <th>1</th>\n",
       "      <td>64.0</td>\n",
       "      <td>0.476667</td>\n",
       "      <td>0.628770</td>\n",
       "      <td>0.470385</td>\n",
       "      <td>0.434655</td>\n",
       "    </tr>\n",
       "  </tbody>\n",
       "</table>\n",
       "</div>"
      ],
      "text/plain": [
       "   epochs  accuracy  precision    recall  f1-score\n",
       "2    16.0  0.170000   0.114464  0.206473  0.120022\n",
       "0    32.0  0.346667   0.446165  0.359516  0.286792\n",
       "1    64.0  0.476667   0.628770  0.470385  0.434655"
      ]
     },
     "execution_count": 80,
     "metadata": {},
     "output_type": "execute_result"
    }
   ],
   "source": [
    "model_metrics = {\n",
    "    \"epochs\" : epochs,\n",
    "    \"accuracy\" : accuracy,\n",
    "    \"precision\" : precision,\n",
    "    \"recall\" : recall,\n",
    "    \"f1-score\" : f1_score\n",
    "}\n",
    "df_metrics = df_metrics.append(model_metrics, ignore_index=True)\n",
    "df_metrics = df_metrics.sort_values([\"epochs\"])\n",
    "df_metrics"
   ]
  },
  {
   "cell_type": "code",
   "execution_count": 81,
   "id": "cb945abb",
   "metadata": {},
   "outputs": [],
   "source": [
    "df_metrics.to_csv(metrics_path, index=False)"
   ]
  },
  {
   "cell_type": "code",
   "execution_count": 82,
   "id": "557d375f",
   "metadata": {},
   "outputs": [
    {
     "name": "stdout",
     "output_type": "stream",
     "text": [
      "[[ 0  0  0  0  0  0 59  0  0 11]\n",
      " [ 0  0  0  0  0  0 27  0  0 43]\n",
      " [ 0  0  0  0  0  0 27  0  0 31]\n",
      " [ 0  0  0  0  4  0 38  5  0 15]\n",
      " [ 0  0  0  0 22  0 34  1  0  0]\n",
      " [ 0  0  0  0  0  0 32  0  0 38]\n",
      " [ 0  0  0  0  0  0 44  0  0  1]\n",
      " [ 0  0  0  0 17  0  8 17  0  5]\n",
      " [ 0  0  0  0 23  0 36  3  0  3]\n",
      " [ 0  0  0  0  0  0 33  4  0 19]]\n"
     ]
    }
   ],
   "source": [
    "cm = mt.confusion_matrix(y_test2, y_classes)\n",
    "print(cm)"
   ]
  },
  {
   "cell_type": "code",
   "execution_count": 83,
   "id": "a6765225",
   "metadata": {},
   "outputs": [
    {
     "data": {
      "image/png": "[encoded data removed]",
      "text/plain": [
       "<Figure size 1500x1200 with 2 Axes>"
      ]
     },
     "metadata": {},
     "output_type": "display_data"
    }
   ],
   "source": [
    "plt.figure(figsize=(15,12))\n",
    "ax= plt.subplot()\n",
    "sn.heatmap(cm, annot=True, fmt='g', ax=ax);  # annot=True to annotate cells, ftm='g' to disable scientific notation\n",
    "\n",
    "# labels, title and ticks\n",
    "ax.set_xlabel('Predicted labels');\n",
    "ax.set_ylabel('True labels'); \n",
    "ax.set_title('Confusion Matrix'); \n",
    "ax.xaxis.set_ticklabels(labels); ax.yaxis.set_ticklabels(labels);\n",
    "plt.savefig(\"images/\" + seconds + \"/GRU_confusion_matrix_\" + str(epochs) + \"epochs.png\")"
   ]
  },
  {
   "cell_type": "code",
   "execution_count": null,
   "id": "c8965f6a",
   "metadata": {},
   "outputs": [],
   "source": []
  }
 ],
 "metadata": {
  "kernelspec": {
   "display_name": "Python 3 (ipykernel)",
   "language": "python",
   "name": "python3"
  },
  "language_info": {
   "codemirror_mode": {
    "name": "ipython",
    "version": 3
   },
   "file_extension": ".py",
   "mimetype": "text/x-python",
   "name": "python",
   "nbconvert_exporter": "python",
   "pygments_lexer": "ipython3",
   "version": "3.9.16"
  }
 },
 "nbformat": 4,
 "nbformat_minor": 5
}
